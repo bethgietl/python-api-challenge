{
 "cells": [
  {
   "cell_type": "markdown",
   "metadata": {},
   "source": [
    "# WeatherPy\n",
    "----\n",
    "\n",
    "#### Note\n",
    "* Instructions have been included for each segment. You do not have to follow them exactly, but they are included to help you think through the steps."
   ]
  },
  {
   "cell_type": "code",
   "execution_count": 24,
   "metadata": {
    "scrolled": true
   },
   "outputs": [],
   "source": [
    "# Dependencies and Setup\n",
    "import matplotlib.pyplot as plt\n",
    "import pandas as pd\n",
    "import numpy as np\n",
    "import requests\n",
    "import time\n",
    "import json\n",
    "from scipy import stats\n",
    "from scipy.stats import zscore\n",
    "from scipy.stats import linregress\n",
    "#from config import api_key\n",
    "\n",
    "# Import API key\n",
    "#from api_keys import weather_api_key\n",
    "import api_keys as api\n",
    "\n",
    "# Incorporated citipy to determine city based on latitude and longitude\n",
    "from citipy import citipy\n",
    "\n",
    "\n",
    "# Output File (CSV)\n",
    "output_data_file = \"output_data/cities.csv\"\n",
    "\n",
    "# Range of latitudes and longitudes\n",
    "lat_range = (-90, 90)\n",
    "lng_range = (-180, 180)"
   ]
  },
  {
   "cell_type": "markdown",
   "metadata": {},
   "source": [
    "## Generate Cities List"
   ]
  },
  {
   "cell_type": "code",
   "execution_count": 2,
   "metadata": {},
   "outputs": [
    {
     "data": {
      "text/plain": [
       "604"
      ]
     },
     "execution_count": 2,
     "metadata": {},
     "output_type": "execute_result"
    }
   ],
   "source": [
    "# List for holding lat_lngs and cities\n",
    "lat_lngs = []\n",
    "cities = []\n",
    "\n",
    "# Create a set of random lat and lng combinations\n",
    "lats = np.random.uniform(lat_range[0], lat_range[1], size=1500)\n",
    "lngs = np.random.uniform(lng_range[0], lng_range[1], size=1500)\n",
    "lat_lngs = zip(lats, lngs)\n",
    "\n",
    "# Identify nearest city for each lat, lng combination\n",
    "for lat_lng in lat_lngs:\n",
    "    city = citipy.nearest_city(lat_lng[0], lat_lng[1]).city_name\n",
    "    \n",
    "    # If the city is unique, then add it to a our cities list\n",
    "    if city not in cities:\n",
    "        cities.append(city)\n",
    "\n",
    "# Print the city count to confirm sufficient count\n",
    "len(cities)"
   ]
  },
  {
   "cell_type": "code",
   "execution_count": 3,
   "metadata": {},
   "outputs": [
    {
     "data": {
      "text/plain": [
       "'zhigansk'"
      ]
     },
     "execution_count": 3,
     "metadata": {},
     "output_type": "execute_result"
    }
   ],
   "source": [
    "cities[380]\n",
    "#api.openweathermap.org/data/2.5/weather?q=jacmel&APPID=7111648151b6cdb2d73c65bb4671e668\n",
    "\n",
    "#{\"coord\":{\"lon\":-72.5347,\"lat\":18.2342},\"weather\":[{\"id\":801,\"main\":\"Clouds\",\"description\":\"few clouds\",\"icon\":\"02d\"}],\n",
    "    #\"base\":\"stations\",\"main\":{\"temp\":304.15,\"feels_like\":307.51,\"temp_min\":304.15,\"temp_max\":304.15,\"pressure\":1015,\n",
    "        #\"humidity\":58},\"visibility\":9000,\"wind\":{\"speed\":5.14,\"deg\":300},\"clouds\":{\"all\":20},\"dt\":1618420578,\"sys\":{\"type\":1,\"id\":7213,\"country\":\"HT\",\"sunrise\":1618396431,\"sunset\":1618441583},\"timezone\":-14400,\"id\":3723779,\"name\":\"Jacmel\",\"cod\":200}"
   ]
  },
  {
   "cell_type": "markdown",
   "metadata": {},
   "source": [
    "### Perform API Calls\n",
    "* Perform a weather check on each city using a series of successive API calls.\n",
    "* Include a print log of each city as it'sbeing processed (with the city number and city name).\n"
   ]
  },
  {
   "cell_type": "code",
   "execution_count": 4,
   "metadata": {
    "scrolled": true
   },
   "outputs": [
    {
     "name": "stdout",
     "output_type": "stream",
     "text": [
      "Processing Record 0 of Set 604 | busselton\n",
      "Processing Record 1 of Set 604 | new norfolk\n",
      "Processing Record 2 of Set 604 | grindavik\n",
      "Processing Record 3 of Set 604 | vaini\n",
      "Processing Record 4 of Set 604 | halifax\n",
      "Processing Record 5 of Set 604 | rikitea\n",
      "Processing Record 6 of Set 604 | barentsburg\n",
      "Processing Record 7 of Set 604 | atuona\n",
      "Processing Record 8 of Set 604 | mahebourg\n",
      "Processing Record 9 of Set 604 | ushuaia\n",
      "Processing Record 10 of Set 604 | bredasdorp\n",
      "Processing Record 11 of Set 604 | kavieng\n",
      "Processing Record 12 of Set 604 | saint-philippe\n",
      "Processing Record 13 of Set 604 | khatanga\n",
      "Processing Record 14 of Set 604 | cap-aux-meules\n",
      "Processing Record 15 of Set 604 | rungata\n",
      "Processing Record 16 of Set 604 | lompoc\n",
      "Processing Record 17 of Set 604 | najran\n",
      "Processing Record 18 of Set 604 | khandyga\n",
      "Processing Record 19 of Set 604 | belushya guba\n",
      "Processing Record 20 of Set 604 | bonavista\n",
      "Processing Record 21 of Set 604 | bolungarvik\n",
      "Processing Record 22 of Set 604 | hobart\n",
      "Processing Record 23 of Set 604 | ketchikan\n",
      "Processing Record 24 of Set 604 | victoria\n",
      "Processing Record 25 of Set 604 | anadyr\n",
      "Processing Record 26 of Set 604 | bluff\n",
      "Processing Record 27 of Set 604 | ankazoabo\n",
      "Processing Record 28 of Set 604 | mataura\n",
      "Processing Record 29 of Set 604 | samusu\n",
      "Processing Record 30 of Set 604 | flinders\n",
      "Processing Record 31 of Set 604 | riyadh\n",
      "Processing Record 32 of Set 604 | taolanaro\n",
      "Processing Record 33 of Set 604 | yellowknife\n",
      "Processing Record 34 of Set 604 | cabadiangan\n",
      "Processing Record 35 of Set 604 | butaritari\n",
      "Processing Record 36 of Set 604 | palabuhanratu\n",
      "Processing Record 37 of Set 604 | beloha\n",
      "Processing Record 38 of Set 604 | castro\n",
      "Processing Record 39 of Set 604 | punta arenas\n",
      "Processing Record 40 of Set 604 | kodiak\n",
      "Processing Record 41 of Set 604 | mar del plata\n",
      "Processing Record 42 of Set 604 | hilo\n",
      "Processing Record 43 of Set 604 | inirida\n",
      "Processing Record 44 of Set 604 | brigantine\n",
      "Processing Record 45 of Set 604 | torbay\n",
      "Processing Record 46 of Set 604 | urfa\n",
      "Processing Record 47 of Set 604 | port elizabeth\n",
      "Processing Record 48 of Set 604 | iskateley\n",
      "Processing Record 49 of Set 604 | albany\n",
      "Processing Record 50 of Set 604 | saint george\n",
      "Processing Record 51 of Set 604 | kozyatyn\n",
      "Processing Record 52 of Set 604 | upernavik\n",
      "Processing Record 53 of Set 604 | hermanus\n",
      "Processing Record 54 of Set 604 | ampanihy\n",
      "Processing Record 55 of Set 604 | hasaki\n",
      "Processing Record 56 of Set 604 | tchibanga\n",
      "Processing Record 57 of Set 604 | dingle\n",
      "Processing Record 58 of Set 604 | vao\n",
      "Processing Record 59 of Set 604 | lima\n",
      "Processing Record 60 of Set 604 | tasiilaq\n",
      "Processing Record 61 of Set 604 | hithadhoo\n",
      "Processing Record 62 of Set 604 | bengkulu\n",
      "Processing Record 63 of Set 604 | illoqqortoormiut\n",
      "Processing Record 64 of Set 604 | sumbawa\n",
      "Processing Record 65 of Set 604 | westport\n",
      "Processing Record 66 of Set 604 | nioro\n",
      "Processing Record 67 of Set 604 | wasilla\n",
      "Processing Record 68 of Set 604 | amahai\n",
      "Processing Record 69 of Set 604 | camacha\n",
      "Processing Record 70 of Set 604 | college\n",
      "Processing Record 71 of Set 604 | east london\n",
      "Processing Record 72 of Set 604 | nanortalik\n",
      "Processing Record 73 of Set 604 | caluquembe\n",
      "Processing Record 74 of Set 604 | jamestown\n",
      "Processing Record 75 of Set 604 | ngunguru\n",
      "Processing Record 76 of Set 604 | baoning\n",
      "Processing Record 77 of Set 604 | antsirabe\n",
      "Processing Record 78 of Set 604 | mgachi\n",
      "Processing Record 79 of Set 604 | zinder\n",
      "Processing Record 80 of Set 604 | lebu\n",
      "Processing Record 81 of Set 604 | cidreira\n",
      "Processing Record 82 of Set 604 | longyearbyen\n",
      "Processing Record 83 of Set 604 | cherskiy\n",
      "Processing Record 84 of Set 604 | narsaq\n",
      "Processing Record 85 of Set 604 | avarua\n",
      "Processing Record 86 of Set 604 | luderitz\n",
      "Processing Record 87 of Set 604 | barrow\n",
      "Processing Record 88 of Set 604 | margate\n",
      "Processing Record 89 of Set 604 | tiksi\n",
      "Processing Record 90 of Set 604 | vila velha\n",
      "Processing Record 91 of Set 604 | rybinsk\n",
      "Processing Record 92 of Set 604 | sur\n",
      "Processing Record 93 of Set 604 | iqaluit\n",
      "Processing Record 94 of Set 604 | sitka\n",
      "Processing Record 95 of Set 604 | vanimo\n",
      "Processing Record 96 of Set 604 | werda\n",
      "Processing Record 97 of Set 604 | carnarvon\n",
      "Processing Record 98 of Set 604 | svetlogorsk\n",
      "Processing Record 99 of Set 604 | mathbaria\n",
      "Processing Record 100 of Set 604 | neunkirchen\n",
      "Processing Record 101 of Set 604 | qaanaaq\n",
      "Processing Record 102 of Set 604 | roma\n",
      "Processing Record 103 of Set 604 | ahipara\n",
      "Processing Record 104 of Set 604 | port lincoln\n",
      "Processing Record 105 of Set 604 | pachino\n",
      "Processing Record 106 of Set 604 | port alfred\n",
      "Processing Record 107 of Set 604 | cervo\n",
      "Processing Record 108 of Set 604 | at-bashi\n",
      "Processing Record 109 of Set 604 | georgetown\n",
      "Processing Record 110 of Set 604 | abha\n",
      "Processing Record 111 of Set 604 | bethel\n",
      "Processing Record 112 of Set 604 | saint austell\n",
      "Processing Record 113 of Set 604 | syracuse\n",
      "Processing Record 114 of Set 604 | faanui\n",
      "Processing Record 115 of Set 604 | terme\n",
      "Processing Record 116 of Set 604 | saint john\n",
      "Processing Record 117 of Set 604 | chapais\n",
      "Processing Record 118 of Set 604 | vagur\n",
      "Processing Record 119 of Set 604 | matara\n",
      "Processing Record 120 of Set 604 | arraial do cabo\n",
      "Processing Record 121 of Set 604 | vostok\n",
      "Processing Record 122 of Set 604 | weiser\n",
      "Processing Record 123 of Set 604 | nome\n",
      "Processing Record 124 of Set 604 | nikolskoye\n",
      "Processing Record 125 of Set 604 | katsuura\n",
      "Processing Record 126 of Set 604 | turukhansk\n",
      "Processing Record 127 of Set 604 | krasnyy chikoy\n",
      "Processing Record 128 of Set 604 | tsihombe\n",
      "Processing Record 129 of Set 604 | portland\n",
      "Processing Record 130 of Set 604 | leningradskiy\n",
      "Processing Record 131 of Set 604 | juruti\n",
      "Processing Record 132 of Set 604 | mogochin\n",
      "Processing Record 133 of Set 604 | aykhal\n",
      "Processing Record 134 of Set 604 | okhotsk\n",
      "Processing Record 135 of Set 604 | constitucion\n",
      "Processing Record 136 of Set 604 | sao filipe\n",
      "Processing Record 137 of Set 604 | hokitika\n",
      "Processing Record 138 of Set 604 | guerrero negro\n",
      "Processing Record 139 of Set 604 | talnakh\n",
      "Processing Record 140 of Set 604 | liverpool\n",
      "Processing Record 141 of Set 604 | akdagmadeni\n",
      "Processing Record 142 of Set 604 | byron bay\n",
      "Processing Record 143 of Set 604 | maceio\n",
      "Processing Record 144 of Set 604 | marsa matruh\n",
      "Processing Record 145 of Set 604 | green river\n",
      "Processing Record 146 of Set 604 | moron\n",
      "Processing Record 147 of Set 604 | san jose\n",
      "Processing Record 148 of Set 604 | caravelas\n",
      "Processing Record 149 of Set 604 | satitoa\n",
      "Processing Record 150 of Set 604 | boa vista\n",
      "Processing Record 151 of Set 604 | rawson\n",
      "Processing Record 152 of Set 604 | cabedelo\n",
      "Processing Record 153 of Set 604 | ibra\n",
      "Processing Record 154 of Set 604 | shitanjing\n",
      "Processing Record 155 of Set 604 | lokken verk\n",
      "Processing Record 156 of Set 604 | pitea\n",
      "Processing Record 157 of Set 604 | rudbar\n",
      "Processing Record 158 of Set 604 | bajo baudo\n",
      "Processing Record 159 of Set 604 | fuzhou\n",
      "Processing Record 160 of Set 604 | berlevag\n",
      "Processing Record 161 of Set 604 | hamilton\n",
      "Processing Record 162 of Set 604 | yagodnoye\n",
      "Processing Record 163 of Set 604 | kapaa\n",
      "Processing Record 164 of Set 604 | alice springs\n",
      "Processing Record 165 of Set 604 | amderma\n",
      "Processing Record 166 of Set 604 | samarai\n",
      "Processing Record 167 of Set 604 | bintulu\n",
      "Processing Record 168 of Set 604 | mildura\n",
      "Processing Record 169 of Set 604 | sarkand\n",
      "Processing Record 170 of Set 604 | esperance\n",
      "Processing Record 171 of Set 604 | orlik\n",
      "Processing Record 172 of Set 604 | raudeberg\n",
      "Processing Record 173 of Set 604 | wukari\n",
      "Processing Record 174 of Set 604 | paradwip\n",
      "Processing Record 175 of Set 604 | maues\n",
      "Processing Record 176 of Set 604 | mkushi\n",
      "Processing Record 177 of Set 604 | cape town\n",
      "Processing Record 178 of Set 604 | ban nahin\n",
      "Processing Record 179 of Set 604 | norman wells\n",
      "Processing Record 180 of Set 604 | bondoukou\n",
      "Processing Record 181 of Set 604 | shima\n",
      "Processing Record 182 of Set 604 | san quintin\n",
      "Processing Record 183 of Set 604 | cubuk\n",
      "Processing Record 184 of Set 604 | nivala\n",
      "Processing Record 185 of Set 604 | rio grande\n",
      "Processing Record 186 of Set 604 | saldanha\n",
      "Processing Record 187 of Set 604 | miyako\n",
      "Processing Record 188 of Set 604 | ulladulla\n"
     ]
    },
    {
     "name": "stdout",
     "output_type": "stream",
     "text": [
      "Processing Record 189 of Set 604 | pisco\n",
      "Processing Record 190 of Set 604 | sterling\n",
      "Processing Record 191 of Set 604 | puerto ayora\n",
      "Processing Record 192 of Set 604 | nizhniy tsasuchey\n",
      "Processing Record 193 of Set 604 | trapani\n",
      "Processing Record 194 of Set 604 | mrirt\n",
      "Processing Record 195 of Set 604 | merauke\n",
      "Processing Record 196 of Set 604 | sayyan\n",
      "Processing Record 197 of Set 604 | bambous virieux\n",
      "Processing Record 198 of Set 604 | miraflores\n",
      "Processing Record 199 of Set 604 | dukat\n",
      "Processing Record 200 of Set 604 | sao pedro da cadeira\n",
      "Processing Record 201 of Set 604 | grants\n",
      "Processing Record 202 of Set 604 | maykain\n",
      "Processing Record 203 of Set 604 | jiuquan\n",
      "Processing Record 204 of Set 604 | dikson\n",
      "Processing Record 205 of Set 604 | bahjoi\n",
      "Processing Record 206 of Set 604 | bandarbeyla\n",
      "Processing Record 207 of Set 604 | newport\n",
      "Processing Record 208 of Set 604 | derzhavinsk\n",
      "Processing Record 209 of Set 604 | harper\n",
      "Processing Record 210 of Set 604 | mys shmidta\n",
      "Processing Record 211 of Set 604 | kassala\n",
      "Processing Record 212 of Set 604 | algete\n",
      "Processing Record 213 of Set 604 | guanay\n",
      "Processing Record 214 of Set 604 | den helder\n",
      "Processing Record 215 of Set 604 | novyy yarychiv\n",
      "Processing Record 216 of Set 604 | namibe\n",
      "Processing Record 217 of Set 604 | pedasi\n",
      "Processing Record 218 of Set 604 | provideniya\n",
      "Processing Record 219 of Set 604 | alyangula\n",
      "Processing Record 220 of Set 604 | ancud\n",
      "Processing Record 221 of Set 604 | airai\n",
      "Processing Record 222 of Set 604 | port blair\n",
      "Processing Record 223 of Set 604 | potsdam\n",
      "Processing Record 224 of Set 604 | kruisfontein\n",
      "Processing Record 225 of Set 604 | tefe\n",
      "Processing Record 226 of Set 604 | golyshmanovo\n",
      "Processing Record 227 of Set 604 | pacific grove\n",
      "Processing Record 228 of Set 604 | warqla\n",
      "Processing Record 229 of Set 604 | vershino-shakhtaminskiy\n",
      "Processing Record 230 of Set 604 | lhokseumawe\n",
      "Processing Record 231 of Set 604 | baraboo\n",
      "Processing Record 232 of Set 604 | veraval\n",
      "Processing Record 233 of Set 604 | tura\n",
      "Processing Record 234 of Set 604 | salinas\n",
      "Processing Record 235 of Set 604 | hvide sande\n",
      "Processing Record 236 of Set 604 | vaitupu\n",
      "Processing Record 237 of Set 604 | sentyabrskiy\n",
      "Processing Record 238 of Set 604 | lavrentiya\n",
      "Processing Record 239 of Set 604 | kousseri\n",
      "Processing Record 240 of Set 604 | saskylakh\n",
      "Processing Record 241 of Set 604 | vestmannaeyjar\n",
      "Processing Record 242 of Set 604 | fayaoue\n",
      "Processing Record 243 of Set 604 | george\n",
      "Processing Record 244 of Set 604 | sturgis\n",
      "Processing Record 245 of Set 604 | solnechnyy\n",
      "Processing Record 246 of Set 604 | salinopolis\n",
      "Processing Record 247 of Set 604 | jabiru\n",
      "Processing Record 248 of Set 604 | ostrovnoy\n",
      "Processing Record 249 of Set 604 | tomatlan\n",
      "Processing Record 250 of Set 604 | hirara\n",
      "Processing Record 251 of Set 604 | luhyny\n",
      "Processing Record 252 of Set 604 | el alto\n",
      "Processing Record 253 of Set 604 | eydhafushi\n",
      "Processing Record 254 of Set 604 | richards bay\n",
      "Processing Record 255 of Set 604 | coquimbo\n",
      "Processing Record 256 of Set 604 | mwingi\n",
      "Processing Record 257 of Set 604 | kartuzy\n",
      "Processing Record 258 of Set 604 | ponta do sol\n",
      "Processing Record 259 of Set 604 | belaya gora\n",
      "Processing Record 260 of Set 604 | cairns\n",
      "Processing Record 261 of Set 604 | saleaula\n",
      "Processing Record 262 of Set 604 | lagoa\n",
      "Processing Record 263 of Set 604 | havre\n",
      "Processing Record 264 of Set 604 | kenora\n",
      "Processing Record 265 of Set 604 | moyale\n",
      "Processing Record 266 of Set 604 | poopo\n",
      "Processing Record 267 of Set 604 | acapulco\n",
      "Processing Record 268 of Set 604 | hihifo\n",
      "Processing Record 269 of Set 604 | beruni\n",
      "Processing Record 270 of Set 604 | pianco\n",
      "Processing Record 271 of Set 604 | mount gambier\n",
      "Processing Record 272 of Set 604 | bathsheba\n",
      "Processing Record 273 of Set 604 | belogorsk\n",
      "Processing Record 274 of Set 604 | yerbogachen\n",
      "Processing Record 275 of Set 604 | hovd\n",
      "Processing Record 276 of Set 604 | chabahar\n",
      "Processing Record 277 of Set 604 | ixtapa\n",
      "Processing Record 278 of Set 604 | viedma\n",
      "Processing Record 279 of Set 604 | pevek\n",
      "Processing Record 280 of Set 604 | tawang\n",
      "Processing Record 281 of Set 604 | kushiro\n",
      "Processing Record 282 of Set 604 | broome\n",
      "Processing Record 283 of Set 604 | cheuskiny\n",
      "Processing Record 284 of Set 604 | pemba\n",
      "Processing Record 285 of Set 604 | ribeira grande\n",
      "Processing Record 286 of Set 604 | arroyo\n",
      "Processing Record 287 of Set 604 | chuy\n",
      "Processing Record 288 of Set 604 | oudtshoorn\n",
      "Processing Record 289 of Set 604 | hofn\n",
      "Processing Record 290 of Set 604 | saint marys\n",
      "Processing Record 291 of Set 604 | tuktoyaktuk\n",
      "Processing Record 292 of Set 604 | fiche\n",
      "Processing Record 293 of Set 604 | chilca\n",
      "Processing Record 294 of Set 604 | portree\n",
      "Processing Record 295 of Set 604 | mombetsu\n",
      "Processing Record 296 of Set 604 | ciudad guayana\n",
      "Processing Record 297 of Set 604 | kerman\n",
      "Processing Record 298 of Set 604 | vanavara\n",
      "Processing Record 299 of Set 604 | pilao arcado\n",
      "Processing Record 300 of Set 604 | laguna\n",
      "Processing Record 301 of Set 604 | clyde river\n",
      "Processing Record 302 of Set 604 | samalaeulu\n",
      "Processing Record 303 of Set 604 | ewo\n",
      "Processing Record 304 of Set 604 | pangnirtung\n",
      "Processing Record 305 of Set 604 | kaitangata\n",
      "Processing Record 306 of Set 604 | paltin\n",
      "Processing Record 307 of Set 604 | morehead\n",
      "Processing Record 308 of Set 604 | galesong\n",
      "Processing Record 309 of Set 604 | wewak\n",
      "Processing Record 310 of Set 604 | xuanhua\n",
      "Processing Record 311 of Set 604 | thompson\n",
      "Processing Record 312 of Set 604 | forrest city\n",
      "Processing Record 313 of Set 604 | bridgetown\n",
      "Processing Record 314 of Set 604 | antalaha\n",
      "Processing Record 315 of Set 604 | porto nacional\n",
      "Processing Record 316 of Set 604 | seoul\n",
      "Processing Record 317 of Set 604 | pudozh\n",
      "Processing Record 318 of Set 604 | luena\n",
      "Processing Record 319 of Set 604 | manaure\n",
      "Processing Record 320 of Set 604 | arroio dos ratos\n",
      "Processing Record 321 of Set 604 | maniitsoq\n",
      "Processing Record 322 of Set 604 | orkhomenos\n",
      "Processing Record 323 of Set 604 | sept-iles\n",
      "Processing Record 324 of Set 604 | duluth\n",
      "Processing Record 325 of Set 604 | kashi\n",
      "Processing Record 326 of Set 604 | kirkenes\n",
      "Processing Record 327 of Set 604 | namatanai\n",
      "Processing Record 328 of Set 604 | ginda\n",
      "Processing Record 329 of Set 604 | rakovski\n",
      "Processing Record 330 of Set 604 | karratha\n",
      "Processing Record 331 of Set 604 | makakilo city\n",
      "Processing Record 332 of Set 604 | biak\n",
      "Processing Record 333 of Set 604 | bazarnyye mataki\n",
      "Processing Record 334 of Set 604 | yefira\n",
      "Processing Record 335 of Set 604 | okha\n",
      "Processing Record 336 of Set 604 | sao jose da coroa grande\n",
      "Processing Record 337 of Set 604 | tafresh\n",
      "Processing Record 338 of Set 604 | fortuna\n",
      "Processing Record 339 of Set 604 | rancho palos verdes\n",
      "Processing Record 340 of Set 604 | aiken\n",
      "Processing Record 341 of Set 604 | katherine\n",
      "Processing Record 342 of Set 604 | amparafaravola\n",
      "Processing Record 343 of Set 604 | te anau\n",
      "Processing Record 344 of Set 604 | grand river south east\n",
      "Processing Record 345 of Set 604 | caconda\n",
      "Processing Record 346 of Set 604 | aklavik\n",
      "Processing Record 347 of Set 604 | paamiut\n",
      "Processing Record 348 of Set 604 | dinsor\n",
      "Processing Record 349 of Set 604 | port pirie\n",
      "Processing Record 350 of Set 604 | nokaneng\n",
      "Processing Record 351 of Set 604 | mehamn\n",
      "Processing Record 352 of Set 604 | calamar\n",
      "Processing Record 353 of Set 604 | hualmay\n",
      "Processing Record 354 of Set 604 | teya\n",
      "Processing Record 355 of Set 604 | simao\n",
      "Processing Record 356 of Set 604 | sioux lookout\n",
      "Processing Record 357 of Set 604 | maldonado\n",
      "Processing Record 358 of Set 604 | tallahassee\n",
      "Processing Record 359 of Set 604 | kudahuvadhoo\n",
      "Processing Record 360 of Set 604 | niquelandia\n",
      "Processing Record 361 of Set 604 | boyuibe\n",
      "Processing Record 362 of Set 604 | port hardy\n",
      "Processing Record 363 of Set 604 | baza\n",
      "Processing Record 364 of Set 604 | jahrom\n",
      "Processing Record 365 of Set 604 | malanje\n",
      "Processing Record 366 of Set 604 | olafsvik\n",
      "Processing Record 367 of Set 604 | fairbanks\n",
      "Processing Record 368 of Set 604 | padang\n",
      "Processing Record 369 of Set 604 | half moon bay\n",
      "Processing Record 370 of Set 604 | znamenskoye\n",
      "Processing Record 371 of Set 604 | kavaratti\n",
      "Processing Record 372 of Set 604 | oranjestad\n",
      "Processing Record 373 of Set 604 | kagadi\n"
     ]
    },
    {
     "name": "stdout",
     "output_type": "stream",
     "text": [
      "Processing Record 374 of Set 604 | noumea\n",
      "Processing Record 375 of Set 604 | coahuayana\n",
      "Processing Record 376 of Set 604 | saint-paul\n",
      "Processing Record 377 of Set 604 | valparaiso\n",
      "Processing Record 378 of Set 604 | chokurdakh\n",
      "Processing Record 379 of Set 604 | barraute\n",
      "Processing Record 380 of Set 604 | zhigansk\n",
      "Processing Record 381 of Set 604 | haines junction\n",
      "Processing Record 382 of Set 604 | aksu\n",
      "Processing Record 383 of Set 604 | karlovac\n",
      "Processing Record 384 of Set 604 | klaksvik\n",
      "Processing Record 385 of Set 604 | alausi\n",
      "Processing Record 386 of Set 604 | dalvik\n",
      "Processing Record 387 of Set 604 | codrington\n",
      "Processing Record 388 of Set 604 | sistranda\n",
      "Processing Record 389 of Set 604 | bali\n",
      "Processing Record 390 of Set 604 | mandalgovi\n",
      "Processing Record 391 of Set 604 | idanre\n",
      "Processing Record 392 of Set 604 | naze\n",
      "Processing Record 393 of Set 604 | lasa\n",
      "Processing Record 394 of Set 604 | kayasula\n",
      "Processing Record 395 of Set 604 | burhanpur\n",
      "Processing Record 396 of Set 604 | ust-maya\n",
      "Processing Record 397 of Set 604 | gat\n",
      "Processing Record 398 of Set 604 | uwayl\n",
      "Processing Record 399 of Set 604 | sheridan\n",
      "Processing Record 400 of Set 604 | porto velho\n",
      "Processing Record 401 of Set 604 | jinka\n",
      "Processing Record 402 of Set 604 | bousso\n",
      "Processing Record 403 of Set 604 | kufstein\n",
      "Processing Record 404 of Set 604 | atar\n",
      "Processing Record 405 of Set 604 | pyay\n",
      "Processing Record 406 of Set 604 | myitkyina\n",
      "Processing Record 407 of Set 604 | mount isa\n",
      "Processing Record 408 of Set 604 | saint stephen\n",
      "Processing Record 409 of Set 604 | mirabad\n",
      "Processing Record 410 of Set 604 | narrabri\n",
      "Processing Record 411 of Set 604 | grande-riviere\n",
      "Processing Record 412 of Set 604 | mercedes\n",
      "Processing Record 413 of Set 604 | lindas\n",
      "Processing Record 414 of Set 604 | beira\n",
      "Processing Record 415 of Set 604 | mamallapuram\n",
      "Processing Record 416 of Set 604 | ngukurr\n",
      "Processing Record 417 of Set 604 | bima\n",
      "Processing Record 418 of Set 604 | tutoia\n",
      "Processing Record 419 of Set 604 | dagana\n",
      "Processing Record 420 of Set 604 | attawapiskat\n",
      "Processing Record 421 of Set 604 | deniliquin\n",
      "Processing Record 422 of Set 604 | san rafael\n",
      "Processing Record 423 of Set 604 | hambantota\n",
      "Processing Record 424 of Set 604 | dibaya\n",
      "Processing Record 425 of Set 604 | smolenka\n",
      "Processing Record 426 of Set 604 | paraiso\n",
      "Processing Record 427 of Set 604 | brae\n",
      "Processing Record 428 of Set 604 | fare\n",
      "Processing Record 429 of Set 604 | evensk\n",
      "Processing Record 430 of Set 604 | ust-ishim\n",
      "Processing Record 431 of Set 604 | tyrma\n",
      "Processing Record 432 of Set 604 | ciras\n",
      "Processing Record 433 of Set 604 | khuzhir\n",
      "Processing Record 434 of Set 604 | san patricio\n",
      "Processing Record 435 of Set 604 | port-gentil\n",
      "Processing Record 436 of Set 604 | sambava\n",
      "Processing Record 437 of Set 604 | puerto guzman\n",
      "Processing Record 438 of Set 604 | tekkali\n",
      "Processing Record 439 of Set 604 | beringovskiy\n",
      "Processing Record 440 of Set 604 | pinawa\n",
      "Processing Record 441 of Set 604 | canon city\n",
      "Processing Record 442 of Set 604 | krasnyy kholm\n",
      "Processing Record 443 of Set 604 | vardo\n",
      "Processing Record 444 of Set 604 | muisne\n",
      "Processing Record 445 of Set 604 | keflavik\n",
      "Processing Record 446 of Set 604 | tongliao\n",
      "Processing Record 447 of Set 604 | praia\n",
      "Processing Record 448 of Set 604 | boende\n",
      "Processing Record 449 of Set 604 | shache\n",
      "Processing Record 450 of Set 604 | bahia blanca\n",
      "Processing Record 451 of Set 604 | kodinsk\n",
      "Processing Record 452 of Set 604 | boyabat\n",
      "Processing Record 453 of Set 604 | souillac\n",
      "Processing Record 454 of Set 604 | maltahohe\n",
      "Processing Record 455 of Set 604 | kibala\n",
      "Processing Record 456 of Set 604 | xiuyan\n",
      "Processing Record 457 of Set 604 | pentecoste\n",
      "Processing Record 458 of Set 604 | manicore\n",
      "Processing Record 459 of Set 604 | palmas\n",
      "Processing Record 460 of Set 604 | fallon\n",
      "Processing Record 461 of Set 604 | pokosnoye\n",
      "Processing Record 462 of Set 604 | severo-kurilsk\n",
      "Processing Record 463 of Set 604 | filadelfia\n",
      "Processing Record 464 of Set 604 | kazalinsk\n",
      "Processing Record 465 of Set 604 | orbetello\n",
      "Processing Record 466 of Set 604 | krasnoborsk\n",
      "Processing Record 467 of Set 604 | kaeo\n",
      "Processing Record 468 of Set 604 | methoni\n",
      "Processing Record 469 of Set 604 | tuatapere\n",
      "Processing Record 470 of Set 604 | isangel\n",
      "Processing Record 471 of Set 604 | labutta\n",
      "Processing Record 472 of Set 604 | jiddah\n",
      "Processing Record 473 of Set 604 | cockburn town\n",
      "Processing Record 474 of Set 604 | poum\n",
      "Processing Record 475 of Set 604 | kingman\n",
      "Processing Record 476 of Set 604 | garowe\n",
      "Processing Record 477 of Set 604 | along\n",
      "Processing Record 478 of Set 604 | kununurra\n",
      "Processing Record 479 of Set 604 | ambilobe\n",
      "Processing Record 480 of Set 604 | tumannyy\n",
      "Processing Record 481 of Set 604 | mjolby\n",
      "Processing Record 482 of Set 604 | waddan\n",
      "Processing Record 483 of Set 604 | avera\n",
      "Processing Record 484 of Set 604 | kinsale\n",
      "Processing Record 485 of Set 604 | honningsvag\n",
      "Processing Record 486 of Set 604 | broken hill\n",
      "Processing Record 487 of Set 604 | kirakira\n",
      "Processing Record 488 of Set 604 | northam\n",
      "Processing Record 489 of Set 604 | cartagena\n",
      "Processing Record 490 of Set 604 | hibbing\n",
      "Processing Record 491 of Set 604 | fevralsk\n",
      "Processing Record 492 of Set 604 | juneau\n",
      "Processing Record 493 of Set 604 | puerto escondido\n",
      "Processing Record 494 of Set 604 | zaliztsi\n",
      "Processing Record 495 of Set 604 | dolbeau\n",
      "Processing Record 496 of Set 604 | tokat\n",
      "Processing Record 497 of Set 604 | kilemary\n",
      "Processing Record 498 of Set 604 | satis\n",
      "Processing Record 499 of Set 604 | yemtsa\n",
      "Processing Record 500 of Set 604 | machiques\n",
      "Processing Record 501 of Set 604 | marcona\n",
      "Processing Record 502 of Set 604 | oyem\n",
      "Processing Record 503 of Set 604 | lenki\n",
      "Processing Record 504 of Set 604 | bria\n",
      "Processing Record 505 of Set 604 | cayenne\n",
      "Processing Record 506 of Set 604 | roebourne\n",
      "Processing Record 507 of Set 604 | purpe\n",
      "Processing Record 508 of Set 604 | sarnia\n",
      "Processing Record 509 of Set 604 | igarka\n",
      "Processing Record 510 of Set 604 | olbia\n",
      "Processing Record 511 of Set 604 | chico\n",
      "Processing Record 512 of Set 604 | kristinehamn\n",
      "Processing Record 513 of Set 604 | navirai\n",
      "Processing Record 514 of Set 604 | faya\n",
      "Processing Record 515 of Set 604 | tsabong\n",
      "Processing Record 516 of Set 604 | luxor\n",
      "Processing Record 517 of Set 604 | avezzano\n",
      "Processing Record 518 of Set 604 | nova olinda do norte\n",
      "Processing Record 519 of Set 604 | aitape\n",
      "Processing Record 520 of Set 604 | kieta\n",
      "Processing Record 521 of Set 604 | winchester\n",
      "Processing Record 522 of Set 604 | la rioja\n",
      "Processing Record 523 of Set 604 | samfya\n",
      "Processing Record 524 of Set 604 | geraldton\n",
      "Processing Record 525 of Set 604 | kahului\n",
      "Processing Record 526 of Set 604 | ilulissat\n",
      "Processing Record 527 of Set 604 | skjaerhollen\n",
      "Processing Record 528 of Set 604 | ratnagiri\n",
      "Processing Record 529 of Set 604 | la orilla\n",
      "Processing Record 530 of Set 604 | talara\n",
      "Processing Record 531 of Set 604 | almaznyy\n",
      "Processing Record 532 of Set 604 | angoche\n",
      "Processing Record 533 of Set 604 | fukue\n",
      "Processing Record 534 of Set 604 | yar-sale\n",
      "Processing Record 535 of Set 604 | lucea\n",
      "Processing Record 536 of Set 604 | kampot\n",
      "Processing Record 537 of Set 604 | whitefish\n",
      "Processing Record 538 of Set 604 | general bravo\n",
      "Processing Record 539 of Set 604 | dauriya\n",
      "Processing Record 540 of Set 604 | ponta delgada\n",
      "Processing Record 541 of Set 604 | prince rupert\n",
      "Processing Record 542 of Set 604 | mukhen\n",
      "Processing Record 543 of Set 604 | san cristobal\n",
      "Processing Record 544 of Set 604 | muros\n",
      "Processing Record 545 of Set 604 | komsomolskiy\n",
      "Processing Record 546 of Set 604 | nizhneyansk\n",
      "Processing Record 547 of Set 604 | vetlanda\n",
      "Processing Record 548 of Set 604 | placido de castro\n",
      "Processing Record 549 of Set 604 | celestun\n",
      "Processing Record 550 of Set 604 | bursa\n",
      "Processing Record 551 of Set 604 | pell city\n",
      "Processing Record 552 of Set 604 | mogadishu\n",
      "Processing Record 553 of Set 604 | batagay-alyta\n",
      "Processing Record 554 of Set 604 | erenhot\n",
      "Processing Record 555 of Set 604 | hervey bay\n",
      "Processing Record 556 of Set 604 | namwala\n",
      "Processing Record 557 of Set 604 | pangoa\n",
      "Processing Record 558 of Set 604 | vila\n",
      "Processing Record 559 of Set 604 | cabo san lucas\n",
      "Processing Record 560 of Set 604 | chegdomyn\n"
     ]
    },
    {
     "name": "stdout",
     "output_type": "stream",
     "text": [
      "Processing Record 561 of Set 604 | bokspits\n",
      "Processing Record 562 of Set 604 | naryan-mar\n",
      "Processing Record 563 of Set 604 | maluso\n",
      "Processing Record 564 of Set 604 | ucluelet\n",
      "Processing Record 565 of Set 604 | kankan\n",
      "Processing Record 566 of Set 604 | brunswick\n",
      "Processing Record 567 of Set 604 | bereda\n",
      "Processing Record 568 of Set 604 | la ronge\n",
      "Processing Record 569 of Set 604 | marrakesh\n",
      "Processing Record 570 of Set 604 | conceicao do araguaia\n",
      "Processing Record 571 of Set 604 | bubaque\n",
      "Processing Record 572 of Set 604 | krasnogorodsk\n",
      "Processing Record 573 of Set 604 | grenaa\n",
      "Processing Record 574 of Set 604 | baykit\n",
      "Processing Record 575 of Set 604 | nieuw amsterdam\n",
      "Processing Record 576 of Set 604 | kushima\n",
      "Processing Record 577 of Set 604 | quatre cocos\n",
      "Processing Record 578 of Set 604 | lata\n",
      "Processing Record 579 of Set 604 | kozhva\n",
      "Processing Record 580 of Set 604 | catamarca\n",
      "Processing Record 581 of Set 604 | buala\n",
      "Processing Record 582 of Set 604 | fort nelson\n",
      "Processing Record 583 of Set 604 | husavik\n",
      "Processing Record 584 of Set 604 | kedrovyy\n",
      "Processing Record 585 of Set 604 | rocha\n",
      "Processing Record 586 of Set 604 | bajil\n",
      "Processing Record 587 of Set 604 | etchoropo\n",
      "Processing Record 588 of Set 604 | wanning\n",
      "Processing Record 589 of Set 604 | wana\n",
      "Processing Record 590 of Set 604 | cockburn harbour\n",
      "Processing Record 591 of Set 604 | lakes entrance\n",
      "Processing Record 592 of Set 604 | khash\n",
      "Processing Record 593 of Set 604 | lorengau\n",
      "Processing Record 594 of Set 604 | samagaltay\n",
      "Processing Record 595 of Set 604 | farafangana\n",
      "Processing Record 596 of Set 604 | sao joao da barra\n",
      "Processing Record 597 of Set 604 | meulaboh\n",
      "Processing Record 598 of Set 604 | yorkton\n",
      "Processing Record 599 of Set 604 | khunzakh\n",
      "Processing Record 600 of Set 604 | ola\n",
      "Processing Record 601 of Set 604 | teknaf\n",
      "Processing Record 602 of Set 604 | warri\n",
      "Processing Record 603 of Set 604 | salalah\n"
     ]
    },
    {
     "data": {
      "text/plain": [
       "604"
      ]
     },
     "execution_count": 4,
     "metadata": {},
     "output_type": "execute_result"
    }
   ],
   "source": [
    "#Weather key email: Please, use the endpoint api.openweathermap.org for your API calls\n",
    "#Example of API call:\n",
    "#api.openweathermap.org/data/2.5/weather?q=London,uk&APPID=7111648151b6cdb2d73c65bb4671e668\n",
    "url = \"http://api.openweathermap.org/data/2.5/weather?\"\n",
    "\n",
    "city_results = []\n",
    "\n",
    "unique_city = [\"goba\", \"London\"]\n",
    "\n",
    "#enumerate = retrieves item and the position of the item. Index = position, city = name of the item\n",
    "for index, city in enumerate(cities):\n",
    "    city_weather_url = \"{}q={}&APPID={}&units=imperial\".format(url, city, api.weather_api_key)\n",
    "    #print(city_weather_url)\n",
    "    #either\n",
    "    try:\n",
    "        ##print to see what is available/ where I'm at in the code dev (don't do all the cities pick unique city/(s)). If code is good change back to cities\n",
    "        print(\"Processing Record {} of Set {} | {}\".format(index, len(cities), city))\n",
    "        response = requests.get(city_weather_url).json()\n",
    "        city_results.append(response)\n",
    "    #or\n",
    "    except:\n",
    "        print(\"{} not found\".format(city))\n",
    "\n",
    "##print(city_results)\n",
    "len(city_results)\n",
    "    "
   ]
  },
  {
   "cell_type": "markdown",
   "metadata": {},
   "source": [
    "### Convert Raw Data to DataFrame\n",
    "* Export the city data into a .csv.\n",
    "* Display the DataFrame"
   ]
  },
  {
   "cell_type": "code",
   "execution_count": 5,
   "metadata": {},
   "outputs": [
    {
     "data": {
      "text/html": [
       "<div>\n",
       "<style scoped>\n",
       "    .dataframe tbody tr th:only-of-type {\n",
       "        vertical-align: middle;\n",
       "    }\n",
       "\n",
       "    .dataframe tbody tr th {\n",
       "        vertical-align: top;\n",
       "    }\n",
       "\n",
       "    .dataframe thead th {\n",
       "        text-align: right;\n",
       "    }\n",
       "</style>\n",
       "<table border=\"1\" class=\"dataframe\">\n",
       "  <thead>\n",
       "    <tr style=\"text-align: right;\">\n",
       "      <th></th>\n",
       "      <th>City</th>\n",
       "      <th>Lat</th>\n",
       "      <th>Lng</th>\n",
       "      <th>Max Temp</th>\n",
       "      <th>Humidity</th>\n",
       "      <th>Cloudiness</th>\n",
       "      <th>Wind Speed</th>\n",
       "      <th>Country</th>\n",
       "      <th>Date</th>\n",
       "    </tr>\n",
       "  </thead>\n",
       "  <tbody>\n",
       "    <tr>\n",
       "      <th>0</th>\n",
       "      <td>Busselton</td>\n",
       "      <td>-33.6500</td>\n",
       "      <td>115.3333</td>\n",
       "      <td>48.99</td>\n",
       "      <td>88</td>\n",
       "      <td>0</td>\n",
       "      <td>8.12</td>\n",
       "      <td>AU</td>\n",
       "      <td>1618696356</td>\n",
       "    </tr>\n",
       "    <tr>\n",
       "      <th>1</th>\n",
       "      <td>New Norfolk</td>\n",
       "      <td>-42.7826</td>\n",
       "      <td>147.0587</td>\n",
       "      <td>55.99</td>\n",
       "      <td>79</td>\n",
       "      <td>100</td>\n",
       "      <td>5.01</td>\n",
       "      <td>AU</td>\n",
       "      <td>1618696286</td>\n",
       "    </tr>\n",
       "    <tr>\n",
       "      <th>2</th>\n",
       "      <td>Grindavik</td>\n",
       "      <td>63.8424</td>\n",
       "      <td>-22.4338</td>\n",
       "      <td>37.40</td>\n",
       "      <td>70</td>\n",
       "      <td>90</td>\n",
       "      <td>13.80</td>\n",
       "      <td>IS</td>\n",
       "      <td>1618696357</td>\n",
       "    </tr>\n",
       "    <tr>\n",
       "      <th>3</th>\n",
       "      <td>Vaini</td>\n",
       "      <td>-21.2000</td>\n",
       "      <td>-175.2000</td>\n",
       "      <td>77.00</td>\n",
       "      <td>73</td>\n",
       "      <td>20</td>\n",
       "      <td>10.36</td>\n",
       "      <td>TO</td>\n",
       "      <td>1618696288</td>\n",
       "    </tr>\n",
       "    <tr>\n",
       "      <th>4</th>\n",
       "      <td>Halifax</td>\n",
       "      <td>44.6453</td>\n",
       "      <td>-63.5724</td>\n",
       "      <td>42.01</td>\n",
       "      <td>100</td>\n",
       "      <td>100</td>\n",
       "      <td>16.11</td>\n",
       "      <td>CA</td>\n",
       "      <td>1618696202</td>\n",
       "    </tr>\n",
       "    <tr>\n",
       "      <th>...</th>\n",
       "      <td>...</td>\n",
       "      <td>...</td>\n",
       "      <td>...</td>\n",
       "      <td>...</td>\n",
       "      <td>...</td>\n",
       "      <td>...</td>\n",
       "      <td>...</td>\n",
       "      <td>...</td>\n",
       "      <td>...</td>\n",
       "    </tr>\n",
       "    <tr>\n",
       "      <th>546</th>\n",
       "      <td>Khunzakh</td>\n",
       "      <td>42.5394</td>\n",
       "      <td>46.7050</td>\n",
       "      <td>44.20</td>\n",
       "      <td>84</td>\n",
       "      <td>96</td>\n",
       "      <td>0.27</td>\n",
       "      <td>RU</td>\n",
       "      <td>1618696523</td>\n",
       "    </tr>\n",
       "    <tr>\n",
       "      <th>547</th>\n",
       "      <td>Ola</td>\n",
       "      <td>59.5833</td>\n",
       "      <td>151.2833</td>\n",
       "      <td>24.89</td>\n",
       "      <td>87</td>\n",
       "      <td>88</td>\n",
       "      <td>6.31</td>\n",
       "      <td>RU</td>\n",
       "      <td>1618696524</td>\n",
       "    </tr>\n",
       "    <tr>\n",
       "      <th>548</th>\n",
       "      <td>Teknāf</td>\n",
       "      <td>20.8624</td>\n",
       "      <td>92.3058</td>\n",
       "      <td>74.59</td>\n",
       "      <td>83</td>\n",
       "      <td>1</td>\n",
       "      <td>3.11</td>\n",
       "      <td>BD</td>\n",
       "      <td>1618696524</td>\n",
       "    </tr>\n",
       "    <tr>\n",
       "      <th>549</th>\n",
       "      <td>Warri</td>\n",
       "      <td>5.5167</td>\n",
       "      <td>5.7500</td>\n",
       "      <td>78.37</td>\n",
       "      <td>90</td>\n",
       "      <td>86</td>\n",
       "      <td>3.94</td>\n",
       "      <td>NG</td>\n",
       "      <td>1618696524</td>\n",
       "    </tr>\n",
       "    <tr>\n",
       "      <th>550</th>\n",
       "      <td>Salalah</td>\n",
       "      <td>17.0151</td>\n",
       "      <td>54.0924</td>\n",
       "      <td>78.80</td>\n",
       "      <td>73</td>\n",
       "      <td>0</td>\n",
       "      <td>2.30</td>\n",
       "      <td>OM</td>\n",
       "      <td>1618696525</td>\n",
       "    </tr>\n",
       "  </tbody>\n",
       "</table>\n",
       "<p>551 rows × 9 columns</p>\n",
       "</div>"
      ],
      "text/plain": [
       "            City      Lat       Lng  Max Temp  Humidity  Cloudiness  \\\n",
       "0      Busselton -33.6500  115.3333     48.99        88           0   \n",
       "1    New Norfolk -42.7826  147.0587     55.99        79         100   \n",
       "2      Grindavik  63.8424  -22.4338     37.40        70          90   \n",
       "3          Vaini -21.2000 -175.2000     77.00        73          20   \n",
       "4        Halifax  44.6453  -63.5724     42.01       100         100   \n",
       "..           ...      ...       ...       ...       ...         ...   \n",
       "546     Khunzakh  42.5394   46.7050     44.20        84          96   \n",
       "547          Ola  59.5833  151.2833     24.89        87          88   \n",
       "548       Teknāf  20.8624   92.3058     74.59        83           1   \n",
       "549        Warri   5.5167    5.7500     78.37        90          86   \n",
       "550      Salalah  17.0151   54.0924     78.80        73           0   \n",
       "\n",
       "     Wind Speed Country        Date  \n",
       "0          8.12      AU  1618696356  \n",
       "1          5.01      AU  1618696286  \n",
       "2         13.80      IS  1618696357  \n",
       "3         10.36      TO  1618696288  \n",
       "4         16.11      CA  1618696202  \n",
       "..          ...     ...         ...  \n",
       "546        0.27      RU  1618696523  \n",
       "547        6.31      RU  1618696524  \n",
       "548        3.11      BD  1618696524  \n",
       "549        3.94      NG  1618696524  \n",
       "550        2.30      OM  1618696525  \n",
       "\n",
       "[551 rows x 9 columns]"
      ]
     },
     "execution_count": 5,
     "metadata": {},
     "output_type": "execute_result"
    }
   ],
   "source": [
    "#new loop on the city_results \n",
    "table_results = []\n",
    "\n",
    "bad_results = []\n",
    "\n",
    "#{\"coord\":{\"lon\":-70.9167,\"lat\":-53.15},\"weather\":[{\"id\":500,\"main\":\"Rain\",\"description\":\"light rain\",\"icon\":\"10d\"}],\n",
    "#\"base\":\"stations\",\"main\":{\"temp\":278.92,\"feels_like\":273.82,\"temp_min\":278.71,\"temp_max\":279.15,\"pressure\":993,\"humidity\":81},\n",
    "#\"visibility\":10000,\"wind\":{\"speed\":9.77,\"deg\":300,\"gust\":14.92},\"clouds\":{\"all\":75},\"dt\":1618435659,\n",
    "#\"sys\":{\"type\":1,\"id\":8487,\"country\":\"CL\",\"sunrise\":1618399788,\"sunset\":1618437449},\n",
    "#\"timezone\":-10800,\"id\":3874787,\"name\":\"Punta Arenas\",\"cod\":200}\n",
    "\n",
    "\n",
    "for result in city_results:\n",
    "   #if \"name\" in result:\n",
    "    if int(result[\"cod\"]) == 200:     \n",
    "        city_name = result[\"name\"]\n",
    "        city_latitude = result[\"coord\"][\"lat\"]\n",
    "        city_longitude = result[\"coord\"][\"lon\"]\n",
    "        city_maxtemp = result[\"main\"][\"temp_max\"]\n",
    "        city_humidity = result[\"main\"][\"humidity\"]\n",
    "        city_cloud = result[\"clouds\"][\"all\"]\n",
    "        city_wind = result[\"wind\"][\"speed\"]\n",
    "        city_country = result[\"sys\"][\"country\"]\n",
    "        city_date = result[\"dt\"]\n",
    "        #create a dictionary with the items\n",
    "        city_dict = {\n",
    "            \"City\": city_name, \n",
    "            \"Lat\": city_latitude, \n",
    "            \"Lng\": city_longitude, \n",
    "            \"Max Temp\": city_maxtemp, \n",
    "            \"Humidity\": city_humidity, \n",
    "            \"Cloudiness\": city_cloud, \n",
    "            \"Wind Speed\": city_wind, \n",
    "            \"Country\": city_country, \n",
    "            \"Date\": city_date\n",
    "        }\n",
    "        table_results.append(city_dict)\n",
    "    \n",
    "    else: \n",
    "        bad_results.append(result)\n",
    "        \n",
    "len(table_results)\n",
    "#bad_results[0]\n",
    "\n",
    "table_results_df = pd.DataFrame(table_results)\n",
    "table_results_df"
   ]
  },
  {
   "cell_type": "code",
   "execution_count": 6,
   "metadata": {},
   "outputs": [],
   "source": [
    "#export to csv\n",
    "table_results_df.to_csv('city_weather.csv')"
   ]
  },
  {
   "cell_type": "code",
   "execution_count": 7,
   "metadata": {},
   "outputs": [
    {
     "data": {
      "text/html": [
       "<div>\n",
       "<style scoped>\n",
       "    .dataframe tbody tr th:only-of-type {\n",
       "        vertical-align: middle;\n",
       "    }\n",
       "\n",
       "    .dataframe tbody tr th {\n",
       "        vertical-align: top;\n",
       "    }\n",
       "\n",
       "    .dataframe thead th {\n",
       "        text-align: right;\n",
       "    }\n",
       "</style>\n",
       "<table border=\"1\" class=\"dataframe\">\n",
       "  <thead>\n",
       "    <tr style=\"text-align: right;\">\n",
       "      <th></th>\n",
       "      <th>Lat</th>\n",
       "      <th>Lng</th>\n",
       "      <th>Max Temp</th>\n",
       "      <th>Humidity</th>\n",
       "      <th>Cloudiness</th>\n",
       "      <th>Wind Speed</th>\n",
       "      <th>Date</th>\n",
       "    </tr>\n",
       "  </thead>\n",
       "  <tbody>\n",
       "    <tr>\n",
       "      <th>count</th>\n",
       "      <td>551.000000</td>\n",
       "      <td>551.000000</td>\n",
       "      <td>551.000000</td>\n",
       "      <td>551.000000</td>\n",
       "      <td>551.000000</td>\n",
       "      <td>551.000000</td>\n",
       "      <td>5.510000e+02</td>\n",
       "    </tr>\n",
       "    <tr>\n",
       "      <th>mean</th>\n",
       "      <td>21.390690</td>\n",
       "      <td>16.403439</td>\n",
       "      <td>57.727296</td>\n",
       "      <td>70.488203</td>\n",
       "      <td>54.700544</td>\n",
       "      <td>7.954791</td>\n",
       "      <td>1.618696e+09</td>\n",
       "    </tr>\n",
       "    <tr>\n",
       "      <th>std</th>\n",
       "      <td>33.684612</td>\n",
       "      <td>89.948486</td>\n",
       "      <td>21.086883</td>\n",
       "      <td>21.797901</td>\n",
       "      <td>38.925654</td>\n",
       "      <td>5.206773</td>\n",
       "      <td>8.926742e+01</td>\n",
       "    </tr>\n",
       "    <tr>\n",
       "      <th>min</th>\n",
       "      <td>-54.800000</td>\n",
       "      <td>-175.200000</td>\n",
       "      <td>-24.050000</td>\n",
       "      <td>7.000000</td>\n",
       "      <td>0.000000</td>\n",
       "      <td>0.070000</td>\n",
       "      <td>1.618696e+09</td>\n",
       "    </tr>\n",
       "    <tr>\n",
       "      <th>25%</th>\n",
       "      <td>-8.201400</td>\n",
       "      <td>-63.427850</td>\n",
       "      <td>44.400000</td>\n",
       "      <td>57.000000</td>\n",
       "      <td>15.500000</td>\n",
       "      <td>4.215000</td>\n",
       "      <td>1.618696e+09</td>\n",
       "    </tr>\n",
       "    <tr>\n",
       "      <th>50%</th>\n",
       "      <td>27.583300</td>\n",
       "      <td>19.916700</td>\n",
       "      <td>60.010000</td>\n",
       "      <td>75.000000</td>\n",
       "      <td>66.000000</td>\n",
       "      <td>6.910000</td>\n",
       "      <td>1.618696e+09</td>\n",
       "    </tr>\n",
       "    <tr>\n",
       "      <th>75%</th>\n",
       "      <td>50.174500</td>\n",
       "      <td>93.758350</td>\n",
       "      <td>75.200000</td>\n",
       "      <td>88.000000</td>\n",
       "      <td>91.500000</td>\n",
       "      <td>10.925000</td>\n",
       "      <td>1.618696e+09</td>\n",
       "    </tr>\n",
       "    <tr>\n",
       "      <th>max</th>\n",
       "      <td>78.218600</td>\n",
       "      <td>179.316700</td>\n",
       "      <td>91.990000</td>\n",
       "      <td>100.000000</td>\n",
       "      <td>100.000000</td>\n",
       "      <td>33.330000</td>\n",
       "      <td>1.618697e+09</td>\n",
       "    </tr>\n",
       "  </tbody>\n",
       "</table>\n",
       "</div>"
      ],
      "text/plain": [
       "              Lat         Lng    Max Temp    Humidity  Cloudiness  Wind Speed  \\\n",
       "count  551.000000  551.000000  551.000000  551.000000  551.000000  551.000000   \n",
       "mean    21.390690   16.403439   57.727296   70.488203   54.700544    7.954791   \n",
       "std     33.684612   89.948486   21.086883   21.797901   38.925654    5.206773   \n",
       "min    -54.800000 -175.200000  -24.050000    7.000000    0.000000    0.070000   \n",
       "25%     -8.201400  -63.427850   44.400000   57.000000   15.500000    4.215000   \n",
       "50%     27.583300   19.916700   60.010000   75.000000   66.000000    6.910000   \n",
       "75%     50.174500   93.758350   75.200000   88.000000   91.500000   10.925000   \n",
       "max     78.218600  179.316700   91.990000  100.000000  100.000000   33.330000   \n",
       "\n",
       "               Date  \n",
       "count  5.510000e+02  \n",
       "mean   1.618696e+09  \n",
       "std    8.926742e+01  \n",
       "min    1.618696e+09  \n",
       "25%    1.618696e+09  \n",
       "50%    1.618696e+09  \n",
       "75%    1.618696e+09  \n",
       "max    1.618697e+09  "
      ]
     },
     "execution_count": 7,
     "metadata": {},
     "output_type": "execute_result"
    }
   ],
   "source": [
    "#describe only works on numeric columns\n",
    "table_results_df.describe()\n",
    "#table_results_df.value_counts()\n",
    "#table_results_df[\"Max Temp\"].value_counts()\n",
    "#table_results_df.info()"
   ]
  },
  {
   "cell_type": "markdown",
   "metadata": {},
   "source": [
    "## Inspect the data and remove the cities where the humidity > 100%.\n",
    "----\n",
    "Skip this step if there are no cities that have humidity > 100%. "
   ]
  },
  {
   "cell_type": "code",
   "execution_count": 8,
   "metadata": {},
   "outputs": [],
   "source": [
    "#homework example - don't run code"
   ]
  },
  {
   "cell_type": "code",
   "execution_count": 9,
   "metadata": {},
   "outputs": [
    {
     "data": {
      "text/plain": [
       "87    23\n",
       "94    22\n",
       "76    19\n",
       "93    19\n",
       "89    16\n",
       "      ..\n",
       "30     1\n",
       "50     1\n",
       "49     1\n",
       "43     1\n",
       "7      1\n",
       "Name: Humidity, Length: 89, dtype: int64"
      ]
     },
     "execution_count": 9,
     "metadata": {},
     "output_type": "execute_result"
    }
   ],
   "source": [
    "#look for cities and humidity - check to see if there are any cities with humidity less than 100%\n",
    "table_results_df.Humidity.value_counts()"
   ]
  },
  {
   "cell_type": "code",
   "execution_count": 10,
   "metadata": {},
   "outputs": [
    {
     "data": {
      "text/html": [
       "<div>\n",
       "<style scoped>\n",
       "    .dataframe tbody tr th:only-of-type {\n",
       "        vertical-align: middle;\n",
       "    }\n",
       "\n",
       "    .dataframe tbody tr th {\n",
       "        vertical-align: top;\n",
       "    }\n",
       "\n",
       "    .dataframe thead th {\n",
       "        text-align: right;\n",
       "    }\n",
       "</style>\n",
       "<table border=\"1\" class=\"dataframe\">\n",
       "  <thead>\n",
       "    <tr style=\"text-align: right;\">\n",
       "      <th></th>\n",
       "      <th>Lat</th>\n",
       "      <th>Lng</th>\n",
       "      <th>Max Temp</th>\n",
       "      <th>Humidity</th>\n",
       "      <th>Cloudiness</th>\n",
       "      <th>Wind Speed</th>\n",
       "      <th>Date</th>\n",
       "    </tr>\n",
       "  </thead>\n",
       "  <tbody>\n",
       "    <tr>\n",
       "      <th>count</th>\n",
       "      <td>551.000000</td>\n",
       "      <td>551.000000</td>\n",
       "      <td>551.000000</td>\n",
       "      <td>551.000000</td>\n",
       "      <td>551.000000</td>\n",
       "      <td>551.000000</td>\n",
       "      <td>5.510000e+02</td>\n",
       "    </tr>\n",
       "    <tr>\n",
       "      <th>mean</th>\n",
       "      <td>21.390690</td>\n",
       "      <td>16.403439</td>\n",
       "      <td>57.727296</td>\n",
       "      <td>70.488203</td>\n",
       "      <td>54.700544</td>\n",
       "      <td>7.954791</td>\n",
       "      <td>1.618696e+09</td>\n",
       "    </tr>\n",
       "    <tr>\n",
       "      <th>std</th>\n",
       "      <td>33.684612</td>\n",
       "      <td>89.948486</td>\n",
       "      <td>21.086883</td>\n",
       "      <td>21.797901</td>\n",
       "      <td>38.925654</td>\n",
       "      <td>5.206773</td>\n",
       "      <td>8.926742e+01</td>\n",
       "    </tr>\n",
       "    <tr>\n",
       "      <th>min</th>\n",
       "      <td>-54.800000</td>\n",
       "      <td>-175.200000</td>\n",
       "      <td>-24.050000</td>\n",
       "      <td>7.000000</td>\n",
       "      <td>0.000000</td>\n",
       "      <td>0.070000</td>\n",
       "      <td>1.618696e+09</td>\n",
       "    </tr>\n",
       "    <tr>\n",
       "      <th>25%</th>\n",
       "      <td>-8.201400</td>\n",
       "      <td>-63.427850</td>\n",
       "      <td>44.400000</td>\n",
       "      <td>57.000000</td>\n",
       "      <td>15.500000</td>\n",
       "      <td>4.215000</td>\n",
       "      <td>1.618696e+09</td>\n",
       "    </tr>\n",
       "    <tr>\n",
       "      <th>50%</th>\n",
       "      <td>27.583300</td>\n",
       "      <td>19.916700</td>\n",
       "      <td>60.010000</td>\n",
       "      <td>75.000000</td>\n",
       "      <td>66.000000</td>\n",
       "      <td>6.910000</td>\n",
       "      <td>1.618696e+09</td>\n",
       "    </tr>\n",
       "    <tr>\n",
       "      <th>75%</th>\n",
       "      <td>50.174500</td>\n",
       "      <td>93.758350</td>\n",
       "      <td>75.200000</td>\n",
       "      <td>88.000000</td>\n",
       "      <td>91.500000</td>\n",
       "      <td>10.925000</td>\n",
       "      <td>1.618696e+09</td>\n",
       "    </tr>\n",
       "    <tr>\n",
       "      <th>max</th>\n",
       "      <td>78.218600</td>\n",
       "      <td>179.316700</td>\n",
       "      <td>91.990000</td>\n",
       "      <td>100.000000</td>\n",
       "      <td>100.000000</td>\n",
       "      <td>33.330000</td>\n",
       "      <td>1.618697e+09</td>\n",
       "    </tr>\n",
       "  </tbody>\n",
       "</table>\n",
       "</div>"
      ],
      "text/plain": [
       "              Lat         Lng    Max Temp    Humidity  Cloudiness  Wind Speed  \\\n",
       "count  551.000000  551.000000  551.000000  551.000000  551.000000  551.000000   \n",
       "mean    21.390690   16.403439   57.727296   70.488203   54.700544    7.954791   \n",
       "std     33.684612   89.948486   21.086883   21.797901   38.925654    5.206773   \n",
       "min    -54.800000 -175.200000  -24.050000    7.000000    0.000000    0.070000   \n",
       "25%     -8.201400  -63.427850   44.400000   57.000000   15.500000    4.215000   \n",
       "50%     27.583300   19.916700   60.010000   75.000000   66.000000    6.910000   \n",
       "75%     50.174500   93.758350   75.200000   88.000000   91.500000   10.925000   \n",
       "max     78.218600  179.316700   91.990000  100.000000  100.000000   33.330000   \n",
       "\n",
       "               Date  \n",
       "count  5.510000e+02  \n",
       "mean   1.618696e+09  \n",
       "std    8.926742e+01  \n",
       "min    1.618696e+09  \n",
       "25%    1.618696e+09  \n",
       "50%    1.618696e+09  \n",
       "75%    1.618696e+09  \n",
       "max    1.618697e+09  "
      ]
     },
     "execution_count": 10,
     "metadata": {},
     "output_type": "execute_result"
    }
   ],
   "source": [
    "#table_results_df.value_counts()\n",
    "#table_results_df.info()\n",
    "\n",
    "#Inspect the data and remove the cities where the humidity > 100%.\n",
    "table_results_df[table_results_df.Humidity <= 100].describe()"
   ]
  },
  {
   "cell_type": "code",
   "execution_count": 11,
   "metadata": {},
   "outputs": [
    {
     "data": {
      "text/plain": [
       "Int64Index([4, 21, 66, 139, 171, 185, 195, 278, 295, 342, 384, 386, 417, 476,\n",
       "            490],\n",
       "           dtype='int64')"
      ]
     },
     "execution_count": 11,
     "metadata": {},
     "output_type": "execute_result"
    }
   ],
   "source": [
    "#  Get the indices of cities that have humidity over 100%.\n",
    "#table_results_df.Humidity.index\n",
    "table_results_df[table_results_df.Humidity >= 100].index"
   ]
  },
  {
   "cell_type": "code",
   "execution_count": 12,
   "metadata": {},
   "outputs": [
    {
     "name": "stdout",
     "output_type": "stream",
     "text": [
      "The lower quartile of humidity is: 57.0\n",
      "The upper quartile of humidity is: 88.0\n",
      "The interquartile range of humidity is: 31.0\n",
      "The the median of humidity is: 75.0 \n",
      "Values below 10.5 could be outliers.\n",
      "Values above 134.5 could be outliers.\n"
     ]
    }
   ],
   "source": [
    "# Make a new DataFrame equal to the city data to drop all humidity outliers by index.\n",
    "# Passing \"inplace=False\" will make a copy of the city_data DataFrame, which we call \"clean_city_data\".\n",
    "\n",
    "#no_outliers_df = table_results_df(np.random.randn(538, 3))\n",
    "#no_outliers_df\n",
    "                              \n",
    "#table_results_df[(np.abs(stats.zscore(table_results_df.Humidity)) < 3)]\n",
    "#z_scipy = stats.zscore(table_results_df.Humidity)\n",
    "#z_scipy\n",
    "    \n",
    "quartiles = table_results_df.Humidity.quantile([.25,.5,.75])\n",
    "lowerq = quartiles[0.25]\n",
    "upperq = quartiles[0.75]\n",
    "iqr = upperq-lowerq\n",
    "\n",
    "print(f\"The lower quartile of humidity is: {lowerq}\")\n",
    "print(f\"The upper quartile of humidity is: {upperq}\")\n",
    "print(f\"The interquartile range of humidity is: {iqr}\")\n",
    "print(f\"The the median of humidity is: {quartiles[0.5]} \")\n",
    "\n",
    "lower_bound = lowerq - (1.5*iqr)\n",
    "upper_bound = upperq + (1.5*iqr)\n",
    "print(f\"Values below {lower_bound} could be outliers.\")\n",
    "print(f\"Values above {upper_bound} could be outliers.\")\n",
    "\n",
    "#outlier_humidity = table_results_df.loc[(table_results_df.Humidity < lower_bound) | (table_results_df.Humidity > upper_bound)]\n",
    "#outlier_humidity"
   ]
  },
  {
   "cell_type": "code",
   "execution_count": 13,
   "metadata": {},
   "outputs": [
    {
     "data": {
      "text/html": [
       "<div>\n",
       "<style scoped>\n",
       "    .dataframe tbody tr th:only-of-type {\n",
       "        vertical-align: middle;\n",
       "    }\n",
       "\n",
       "    .dataframe tbody tr th {\n",
       "        vertical-align: top;\n",
       "    }\n",
       "\n",
       "    .dataframe thead th {\n",
       "        text-align: right;\n",
       "    }\n",
       "</style>\n",
       "<table border=\"1\" class=\"dataframe\">\n",
       "  <thead>\n",
       "    <tr style=\"text-align: right;\">\n",
       "      <th></th>\n",
       "      <th>City</th>\n",
       "      <th>Lat</th>\n",
       "      <th>Lng</th>\n",
       "      <th>Max Temp</th>\n",
       "      <th>Humidity</th>\n",
       "      <th>Cloudiness</th>\n",
       "      <th>Wind Speed</th>\n",
       "      <th>Country</th>\n",
       "      <th>Date</th>\n",
       "    </tr>\n",
       "  </thead>\n",
       "  <tbody>\n",
       "    <tr>\n",
       "      <th>0</th>\n",
       "      <td>Busselton</td>\n",
       "      <td>-33.6500</td>\n",
       "      <td>115.3333</td>\n",
       "      <td>48.99</td>\n",
       "      <td>88</td>\n",
       "      <td>0</td>\n",
       "      <td>8.12</td>\n",
       "      <td>AU</td>\n",
       "      <td>1618696356</td>\n",
       "    </tr>\n",
       "    <tr>\n",
       "      <th>1</th>\n",
       "      <td>New Norfolk</td>\n",
       "      <td>-42.7826</td>\n",
       "      <td>147.0587</td>\n",
       "      <td>55.99</td>\n",
       "      <td>79</td>\n",
       "      <td>100</td>\n",
       "      <td>5.01</td>\n",
       "      <td>AU</td>\n",
       "      <td>1618696286</td>\n",
       "    </tr>\n",
       "    <tr>\n",
       "      <th>2</th>\n",
       "      <td>Grindavik</td>\n",
       "      <td>63.8424</td>\n",
       "      <td>-22.4338</td>\n",
       "      <td>37.40</td>\n",
       "      <td>70</td>\n",
       "      <td>90</td>\n",
       "      <td>13.80</td>\n",
       "      <td>IS</td>\n",
       "      <td>1618696357</td>\n",
       "    </tr>\n",
       "    <tr>\n",
       "      <th>3</th>\n",
       "      <td>Vaini</td>\n",
       "      <td>-21.2000</td>\n",
       "      <td>-175.2000</td>\n",
       "      <td>77.00</td>\n",
       "      <td>73</td>\n",
       "      <td>20</td>\n",
       "      <td>10.36</td>\n",
       "      <td>TO</td>\n",
       "      <td>1618696288</td>\n",
       "    </tr>\n",
       "    <tr>\n",
       "      <th>4</th>\n",
       "      <td>Halifax</td>\n",
       "      <td>44.6453</td>\n",
       "      <td>-63.5724</td>\n",
       "      <td>42.01</td>\n",
       "      <td>100</td>\n",
       "      <td>100</td>\n",
       "      <td>16.11</td>\n",
       "      <td>CA</td>\n",
       "      <td>1618696202</td>\n",
       "    </tr>\n",
       "    <tr>\n",
       "      <th>...</th>\n",
       "      <td>...</td>\n",
       "      <td>...</td>\n",
       "      <td>...</td>\n",
       "      <td>...</td>\n",
       "      <td>...</td>\n",
       "      <td>...</td>\n",
       "      <td>...</td>\n",
       "      <td>...</td>\n",
       "      <td>...</td>\n",
       "    </tr>\n",
       "    <tr>\n",
       "      <th>546</th>\n",
       "      <td>Khunzakh</td>\n",
       "      <td>42.5394</td>\n",
       "      <td>46.7050</td>\n",
       "      <td>44.20</td>\n",
       "      <td>84</td>\n",
       "      <td>96</td>\n",
       "      <td>0.27</td>\n",
       "      <td>RU</td>\n",
       "      <td>1618696523</td>\n",
       "    </tr>\n",
       "    <tr>\n",
       "      <th>547</th>\n",
       "      <td>Ola</td>\n",
       "      <td>59.5833</td>\n",
       "      <td>151.2833</td>\n",
       "      <td>24.89</td>\n",
       "      <td>87</td>\n",
       "      <td>88</td>\n",
       "      <td>6.31</td>\n",
       "      <td>RU</td>\n",
       "      <td>1618696524</td>\n",
       "    </tr>\n",
       "    <tr>\n",
       "      <th>548</th>\n",
       "      <td>Teknāf</td>\n",
       "      <td>20.8624</td>\n",
       "      <td>92.3058</td>\n",
       "      <td>74.59</td>\n",
       "      <td>83</td>\n",
       "      <td>1</td>\n",
       "      <td>3.11</td>\n",
       "      <td>BD</td>\n",
       "      <td>1618696524</td>\n",
       "    </tr>\n",
       "    <tr>\n",
       "      <th>549</th>\n",
       "      <td>Warri</td>\n",
       "      <td>5.5167</td>\n",
       "      <td>5.7500</td>\n",
       "      <td>78.37</td>\n",
       "      <td>90</td>\n",
       "      <td>86</td>\n",
       "      <td>3.94</td>\n",
       "      <td>NG</td>\n",
       "      <td>1618696524</td>\n",
       "    </tr>\n",
       "    <tr>\n",
       "      <th>550</th>\n",
       "      <td>Salalah</td>\n",
       "      <td>17.0151</td>\n",
       "      <td>54.0924</td>\n",
       "      <td>78.80</td>\n",
       "      <td>73</td>\n",
       "      <td>0</td>\n",
       "      <td>2.30</td>\n",
       "      <td>OM</td>\n",
       "      <td>1618696525</td>\n",
       "    </tr>\n",
       "  </tbody>\n",
       "</table>\n",
       "<p>547 rows × 9 columns</p>\n",
       "</div>"
      ],
      "text/plain": [
       "            City      Lat       Lng  Max Temp  Humidity  Cloudiness  \\\n",
       "0      Busselton -33.6500  115.3333     48.99        88           0   \n",
       "1    New Norfolk -42.7826  147.0587     55.99        79         100   \n",
       "2      Grindavik  63.8424  -22.4338     37.40        70          90   \n",
       "3          Vaini -21.2000 -175.2000     77.00        73          20   \n",
       "4        Halifax  44.6453  -63.5724     42.01       100         100   \n",
       "..           ...      ...       ...       ...       ...         ...   \n",
       "546     Khunzakh  42.5394   46.7050     44.20        84          96   \n",
       "547          Ola  59.5833  151.2833     24.89        87          88   \n",
       "548       Teknāf  20.8624   92.3058     74.59        83           1   \n",
       "549        Warri   5.5167    5.7500     78.37        90          86   \n",
       "550      Salalah  17.0151   54.0924     78.80        73           0   \n",
       "\n",
       "     Wind Speed Country        Date  \n",
       "0          8.12      AU  1618696356  \n",
       "1          5.01      AU  1618696286  \n",
       "2         13.80      IS  1618696357  \n",
       "3         10.36      TO  1618696288  \n",
       "4         16.11      CA  1618696202  \n",
       "..          ...     ...         ...  \n",
       "546        0.27      RU  1618696523  \n",
       "547        6.31      RU  1618696524  \n",
       "548        3.11      BD  1618696524  \n",
       "549        3.94      NG  1618696524  \n",
       "550        2.30      OM  1618696525  \n",
       "\n",
       "[547 rows x 9 columns]"
      ]
     },
     "execution_count": 13,
     "metadata": {},
     "output_type": "execute_result"
    }
   ],
   "source": [
    "no_outliers_df = table_results_df[(table_results_df.Humidity > lower_bound) & (table_results_df.Humidity < upper_bound)]\n",
    "no_outliers_df"
   ]
  },
  {
   "cell_type": "markdown",
   "metadata": {},
   "source": [
    "## Plotting the Data\n",
    "* Use proper labeling of the plots using plot titles (including date of analysis) and axes labels.\n",
    "* Save the plotted figures as .pngs."
   ]
  },
  {
   "cell_type": "markdown",
   "metadata": {},
   "source": [
    "## Latitude vs. Temperature Plot"
   ]
  },
  {
   "cell_type": "code",
   "execution_count": 14,
   "metadata": {},
   "outputs": [
    {
     "data": {
      "image/png": "[encoded data removed]",
      "text/plain": [
       "<Figure size 432x288 with 1 Axes>"
      ]
     },
     "metadata": {
      "needs_background": "light"
     },
     "output_type": "display_data"
    }
   ],
   "source": [
    "plt.scatter(table_results_df.Lat, table_results_df[\"Max Temp\"], marker=\"o\", color=\"steelblue\") #4472C4\n",
    "plt.title(\"City Latitude vs. Max Tempature (04/14/2021)\")\n",
    "plt.xlabel(\"Latitude\")\n",
    "plt.ylabel(\"Max Temperature (F)\")\n",
    "plt.grid(True)\n",
    "\n",
    "# Save the figure\n",
    "plt.savefig(\"Latitude_Weather.png\")\n",
    "plt.show()"
   ]
  },
  {
   "cell_type": "markdown",
   "metadata": {},
   "source": [
    "## Latitude vs. Temperature Analytics\n",
    "Shows strong, non-linear correlation between latitude and max tempatures. \n",
    "Cities with latitudes between -20 & 20 have the hottest weather, these cities are closest to the equator. "
   ]
  },
  {
   "cell_type": "markdown",
   "metadata": {},
   "source": [
    "## Latitude vs. Humidity Plot"
   ]
  },
  {
   "cell_type": "code",
   "execution_count": 15,
   "metadata": {},
   "outputs": [
    {
     "data": {
      "image/png": "[encoded data removed]",
      "text/plain": [
       "<Figure size 432x288 with 1 Axes>"
      ]
     },
     "metadata": {
      "needs_background": "light"
     },
     "output_type": "display_data"
    }
   ],
   "source": [
    "plt.scatter(table_results_df.Lat, table_results_df.Humidity, marker=\"o\", color=\"r\")\n",
    "plt.title(\"City Latitude vs. Humidity (04/14/2021)\")\n",
    "plt.xlabel(\"Latitude\")\n",
    "plt.ylabel(\"Humidity (%)\")\n",
    "plt.grid(True)\n",
    "\n",
    "# Save the figure\n",
    "plt.savefig(\"Latitude_Humidity.png\")\n",
    "plt.show()"
   ]
  },
  {
   "cell_type": "markdown",
   "metadata": {},
   "source": [
    "## Latitude vs. Humidity Analytics\n",
    "Shows no correlation between latitude and humidity %. Cities all over the globe can have high or low humidity regardless of latitude. In the northern hemisphere there are slightly more cities with high humidity rates above 60%. "
   ]
  },
  {
   "cell_type": "markdown",
   "metadata": {},
   "source": [
    "## Latitude vs. Cloudiness Plot"
   ]
  },
  {
   "cell_type": "code",
   "execution_count": 16,
   "metadata": {},
   "outputs": [
    {
     "data": {
      "image/png": "[encoded data removed]",
      "text/plain": [
       "<Figure size 432x288 with 1 Axes>"
      ]
     },
     "metadata": {
      "needs_background": "light"
     },
     "output_type": "display_data"
    }
   ],
   "source": [
    "plt.scatter(table_results_df.Lat, table_results_df.Cloudiness, marker=\"o\", color=\"dimgray\")\n",
    "plt.title(\"City Latitude vs. Cloudiness (04/14/2021)\")\n",
    "plt.xlabel(\"Latitude\")\n",
    "plt.ylabel(\"Cloudiness (%)\")\n",
    "plt.grid(True)\n",
    "\n",
    "# Save the figure\n",
    "plt.savefig(\"Latitude_Cloud.png\")\n",
    "plt.show()"
   ]
  },
  {
   "cell_type": "markdown",
   "metadata": {},
   "source": [
    "## Latitude vs. Cloudiness Analytics\n",
    "There is no relationship between latitude and cloudiness %. Cities all over the globe can have high or low cloudiness regardless of latitude. It is interesting to note the majority of the cities either have a ton (80%+) of cloud coverage or below 10% cloud coverage, leaving the minority of the cities with 40-60% cloud coverage. "
   ]
  },
  {
   "cell_type": "markdown",
   "metadata": {},
   "source": [
    "## Latitude vs. Wind Speed Plot"
   ]
  },
  {
   "cell_type": "code",
   "execution_count": 17,
   "metadata": {
    "scrolled": true
   },
   "outputs": [
    {
     "data": {
      "image/png": "[encoded data removed]",
      "text/plain": [
       "<Figure size 432x288 with 1 Axes>"
      ]
     },
     "metadata": {
      "needs_background": "light"
     },
     "output_type": "display_data"
    }
   ],
   "source": [
    "plt.scatter(table_results_df.Lat, table_results_df[\"Wind Speed\"], marker=\"o\", color=\"deepskyblue\")\n",
    "plt.title(\"City Latitude vs. Wind Speed (04/14/2021)\")\n",
    "plt.xlabel(\"Latitude\")\n",
    "plt.ylabel(\"Wind Speed (mph)\")\n",
    "plt.grid(True)\n",
    "\n",
    "# Save the figure\n",
    "plt.savefig(\"Latitude_wind.png\")\n",
    "plt.show()"
   ]
  },
  {
   "cell_type": "markdown",
   "metadata": {},
   "source": [
    "## Latitude vs. Wind Speed Analytics\n",
    "There is no correlation between latitude and wind speed. Cities all over the globe have wind speeds of 0-15 mph regardless of latitude. It is interesting to note that the northern hemisphere has a small cluster of cities with extreme winds with wind speeds of 25+ mph, where the southern hemposphere does not have any cities with wind speeds over 25 mph. "
   ]
  },
  {
   "cell_type": "markdown",
   "metadata": {},
   "source": [
    "## Linear Regression"
   ]
  },
  {
   "cell_type": "markdown",
   "metadata": {},
   "source": [
    "####  Northern Hemisphere - Max Temp vs. Latitude Linear Regression"
   ]
  },
  {
   "cell_type": "code",
   "execution_count": 25,
   "metadata": {},
   "outputs": [
    {
     "name": "stdout",
     "output_type": "stream",
     "text": [
      "The correlation between latitude and max temp is -0.86\n"
     ]
    }
   ],
   "source": [
    "north_df = table_results_df[table_results_df.Lat >= 0]\n",
    "north_df\n",
    "correlation = round(stats.pearsonr(north_df.Lat,north_df[\"Max Temp\"])[0],2)\n",
    "print(f\"The correlation between latitude and max temp is {correlation}\")"
   ]
  },
  {
   "cell_type": "code",
   "execution_count": 26,
   "metadata": {},
   "outputs": [
    {
     "name": "stdout",
     "output_type": "stream",
     "text": [
      "Slope = -0.981587968227829\n",
      "Intercept = 92.30057759359497\n",
      "Regress Value = -0.8591194507375364\n",
      "Pvalue = 5.133023838662307e-112\n",
      "Standard Deviation = 0.030075228815364282\n"
     ]
    }
   ],
   "source": [
    "slope, intercept, rvalue, pvalue, std_err = stats.linregress(north_df.Lat,north_df[\"Max Temp\"])\n",
    "\n",
    "print(f\"Slope = {slope}\")\n",
    "print(f\"Intercept = {intercept}\")\n",
    "print(f\"Regress Value = {rvalue}\")\n",
    "print(f\"Pvalue = {pvalue}\")\n",
    "print(f\"Standard Deviation = {std_err}\")"
   ]
  },
  {
   "cell_type": "code",
   "execution_count": 27,
   "metadata": {},
   "outputs": [
    {
     "name": "stdout",
     "output_type": "stream",
     "text": [
      "The r-squared is: 0.7380862306355662\n"
     ]
    },
    {
     "data": {
      "image/png": "[encoded data removed]",
      "text/plain": [
       "<Figure size 432x288 with 1 Axes>"
      ]
     },
     "metadata": {
      "needs_background": "light"
     },
     "output_type": "display_data"
    }
   ],
   "source": [
    "# equation of line to calculate predicted weight\n",
    "fit = slope * north_df.Lat + intercept\n",
    "# Plot the linear model on top of scatter plot \n",
    "line_eq = \"y = \" + str(round(slope,2)) + \"x + \" + str(round(intercept,2))\n",
    "plt.scatter(north_df.Lat, north_df[\"Max Temp\"])\n",
    "plt.plot(north_df.Lat,fit, \"r-\")\n",
    "plt.title('Northern Hemisphere - Max Temp vs. Latitude Linear Regression')\n",
    "plt.annotate(line_eq,(2,2), fontsize=15, color=\"red\")\n",
    "plt.xlabel('Latitude')\n",
    "plt.ylabel('Max Temp (F)')\n",
    "print(f\"The r-squared is: {rvalue**2}\")\n",
    "plt.savefig(\"north_max_temp.png\")\n",
    "plt.show()"
   ]
  },
  {
   "cell_type": "code",
   "execution_count": null,
   "metadata": {},
   "outputs": [],
   "source": [
    "#regression(north_df.Lat,nort_df[\"Max Temp\"])\n",
    "#def regression(north_df.Lat, nort_df[\"Max Temp\"]):\n",
    "    #(slope, intercept, rvalue, pvalue, stderr) = linregress(north_df.Lat,nort_df[\"Max Temp\"])\n",
    "    #regress_values = north_df.Lat * slope + intercept\n",
    "    #line_eq = \"y = \" + str(round(slope,2)) + \"x + \" + str(round(intercept,2))\n",
    "    #plt.plot(north_df.Lat,nort_df[\"Max Temp\"],\"r-\")\n",
    "    #plt.scatter(north_df.Lat,nort_df[\"Max Temp\"])\n",
    "    \n"
   ]
  },
  {
   "cell_type": "markdown",
   "metadata": {},
   "source": [
    "####  Southern Hemisphere - Max Temp vs. Latitude Linear Regression"
   ]
  },
  {
   "cell_type": "code",
   "execution_count": 28,
   "metadata": {},
   "outputs": [
    {
     "name": "stdout",
     "output_type": "stream",
     "text": [
      "The correlation between latitude and max temp is 0.67\n"
     ]
    }
   ],
   "source": [
    "south_df = table_results_df[table_results_df.Lat <= 0]\n",
    "south_df\n",
    "correlation = round(stats.pearsonr(south_df.Lat,south_df[\"Max Temp\"])[0],2)\n",
    "print(f\"The correlation between latitude and max temp is {correlation}\")"
   ]
  },
  {
   "cell_type": "code",
   "execution_count": 29,
   "metadata": {},
   "outputs": [
    {
     "name": "stdout",
     "output_type": "stream",
     "text": [
      "Slope = 0.518123946483735\n",
      "Intercept = 80.0187087148773\n",
      "Regress Value = 0.6731795782491421\n",
      "Pvalue = 6.37796941892868e-24\n",
      "Standard Deviation = 0.043780957005335686\n"
     ]
    }
   ],
   "source": [
    "slope, intercept, rvalue, pvalue, std_err = stats.linregress(south_df.Lat,south_df[\"Max Temp\"])\n",
    "\n",
    "print(f\"Slope = {slope}\")\n",
    "print(f\"Intercept = {intercept}\")\n",
    "print(f\"Regress Value = {rvalue}\")\n",
    "print(f\"Pvalue = {pvalue}\")\n",
    "print(f\"Standard Deviation = {std_err}\")"
   ]
  },
  {
   "cell_type": "code",
   "execution_count": 30,
   "metadata": {},
   "outputs": [
    {
     "name": "stdout",
     "output_type": "stream",
     "text": [
      "The r-squared is: 0.4531707445716928\n"
     ]
    },
    {
     "data": {
      "image/png": "[encoded data removed]",
      "text/plain": [
       "<Figure size 432x288 with 1 Axes>"
      ]
     },
     "metadata": {
      "needs_background": "light"
     },
     "output_type": "display_data"
    }
   ],
   "source": [
    "# equation of line to calculate predicted weight\n",
    "fit = slope * south_df.Lat + intercept\n",
    "# Plot the linear model on top of scatter plot \n",
    "line_eq = \"y = \" + str(round(slope,2)) + \"x + \" + str(round(intercept,2))\n",
    "plt.scatter(south_df.Lat, south_df[\"Max Temp\"])\n",
    "plt.plot(south_df.Lat,fit, \"r-\")\n",
    "plt.title('Southern Hemisphere - Max Temp vs. Latitude Linear Regression')\n",
    "plt.annotate(line_eq,(-55,80), fontsize=15, color=\"red\")\n",
    "plt.xlabel('Latitude')\n",
    "plt.ylabel('Max Temp (F)')\n",
    "print(f\"The r-squared is: {rvalue**2}\")\n",
    "plt.savefig(\"south_max_temp.png\")\n",
    "plt.show()"
   ]
  },
  {
   "cell_type": "markdown",
   "metadata": {},
   "source": [
    "## Max Temp by Hemisphere Analytics\n",
    "Looking at the linear regression, the Northern Hemisphere has a strong negative correlation between tempatures and latitude, where temaptures decrease the further the cities are from the equator. And as predicted the Southern Hemisphere shows a strong positive relationship, where tempatures increase the closer the cities are to the equator."
   ]
  },
  {
   "cell_type": "markdown",
   "metadata": {},
   "source": [
    "####  Northern Hemisphere - Humidity (%) vs. Latitude Linear Regression"
   ]
  },
  {
   "cell_type": "code",
   "execution_count": 31,
   "metadata": {},
   "outputs": [
    {
     "name": "stdout",
     "output_type": "stream",
     "text": [
      "The correlation between latitude and humidity is 0.18\n"
     ]
    }
   ],
   "source": [
    "correlation = round(stats.pearsonr(north_df.Lat, north_df.Humidity)[0],2)\n",
    "print(f\"The correlation between latitude and humidity is {correlation}\")"
   ]
  },
  {
   "cell_type": "code",
   "execution_count": 32,
   "metadata": {},
   "outputs": [
    {
     "name": "stdout",
     "output_type": "stream",
     "text": [
      "Slope = 0.21408297966435336\n",
      "Intercept = 58.81765462731943\n",
      "Regress Value = 0.18106055995422957\n",
      "Pvalue = 0.00038926911617140445\n",
      "Standard Deviation = 0.0598100766246072\n"
     ]
    }
   ],
   "source": [
    "slope, intercept, rvalue, pvalue, std_err = stats.linregress(north_df.Lat,north_df.Humidity)\n",
    "\n",
    "print(f\"Slope = {slope}\")\n",
    "print(f\"Intercept = {intercept}\")\n",
    "print(f\"Regress Value = {rvalue}\")\n",
    "print(f\"Pvalue = {pvalue}\")\n",
    "print(f\"Standard Deviation = {std_err}\")"
   ]
  },
  {
   "cell_type": "code",
   "execution_count": 33,
   "metadata": {},
   "outputs": [
    {
     "name": "stdout",
     "output_type": "stream",
     "text": [
      "The r-squared is: 0.03278292637093916\n"
     ]
    },
    {
     "data": {
      "image/png": "[encoded data removed]",
      "text/plain": [
       "<Figure size 432x288 with 1 Axes>"
      ]
     },
     "metadata": {
      "needs_background": "light"
     },
     "output_type": "display_data"
    }
   ],
   "source": [
    "# equation of line to calculate predicted weight\n",
    "fit = slope * north_df.Lat + intercept\n",
    "# Plot the linear model on top of scatter plot \n",
    "line_eq = \"y = \" + str(round(slope,2)) + \"x + \" + str(round(intercept,2))\n",
    "plt.scatter(north_df.Lat, north_df.Humidity)\n",
    "plt.plot(north_df.Lat,fit, \"r-\")\n",
    "plt.title('Northern Hemisphere - Humidity vs. Latitude Linear Regression')\n",
    "plt.annotate(line_eq,(45,5), fontsize=15, color=\"red\")\n",
    "plt.xlabel('Latitude')\n",
    "plt.ylabel('Humidity (%)')\n",
    "print(f\"The r-squared is: {rvalue**2}\")\n",
    "plt.savefig(\"north_humid.png\")\n",
    "plt.show()"
   ]
  },
  {
   "cell_type": "markdown",
   "metadata": {},
   "source": [
    "####  Southern Hemisphere - Humidity (%) vs. Latitude Linear Regression"
   ]
  },
  {
   "cell_type": "code",
   "execution_count": 34,
   "metadata": {},
   "outputs": [
    {
     "name": "stdout",
     "output_type": "stream",
     "text": [
      "The correlation between latitude and humidity is 0.18\n"
     ]
    }
   ],
   "source": [
    "correlation = round(stats.pearsonr(south_df.Lat, south_df.Humidity)[0],2)\n",
    "print(f\"The correlation between latitude and humidity is {correlation}\")"
   ]
  },
  {
   "cell_type": "code",
   "execution_count": 35,
   "metadata": {},
   "outputs": [
    {
     "name": "stdout",
     "output_type": "stream",
     "text": [
      "Slope = 0.21458975302981403\n",
      "Intercept = 81.67759963122407\n",
      "Regress Value = 0.18123727174892948\n",
      "Pvalue = 0.01767858939278741\n",
      "Standard Deviation = 0.08957064774194334\n"
     ]
    }
   ],
   "source": [
    "slope, intercept, rvalue, pvalue, std_err = stats.linregress(south_df.Lat, south_df.Humidity)\n",
    "\n",
    "print(f\"Slope = {slope}\")\n",
    "print(f\"Intercept = {intercept}\")\n",
    "print(f\"Regress Value = {rvalue}\")\n",
    "print(f\"Pvalue = {pvalue}\")\n",
    "print(f\"Standard Deviation = {std_err}\")"
   ]
  },
  {
   "cell_type": "code",
   "execution_count": 36,
   "metadata": {},
   "outputs": [
    {
     "name": "stdout",
     "output_type": "stream",
     "text": [
      "The r-squared is: 0.03284694867099531\n"
     ]
    },
    {
     "data": {
      "image/png": "[encoded data removed]",
      "text/plain": [
       "<Figure size 432x288 with 1 Axes>"
      ]
     },
     "metadata": {
      "needs_background": "light"
     },
     "output_type": "display_data"
    }
   ],
   "source": [
    "# equation of line to calculate predicted weight\n",
    "fit = slope * south_df.Lat + intercept\n",
    "# Plot the linear model on top of scatter plot \n",
    "line_eq = \"y = \" + str(round(slope,2)) + \"x + \" + str(round(intercept,2))\n",
    "plt.scatter(south_df.Lat, south_df.Humidity)\n",
    "plt.plot(south_df.Lat,fit, \"r-\")\n",
    "plt.title('Southern Hemisphere - Humidity vs. Latitude Linear Regression')\n",
    "plt.annotate(line_eq,(-55,25), fontsize=15, color=\"red\")\n",
    "plt.xlabel('Latitude')\n",
    "plt.ylabel('Humidity (%)')\n",
    "print(f\"The r-squared is: {rvalue**2}\")\n",
    "plt.savefig(\"south_humid.png\")\n",
    "plt.show()"
   ]
  },
  {
   "cell_type": "markdown",
   "metadata": {},
   "source": [
    "## Humidity by Hemisphere Analytics\n",
    "Neither the Southern or the Northern Hemispheres display a strong correlation between humidity and proximity to the equator. "
   ]
  },
  {
   "cell_type": "markdown",
   "metadata": {},
   "source": [
    "####  Northern Hemisphere - Cloudiness (%) vs. Latitude Linear Regression"
   ]
  },
  {
   "cell_type": "code",
   "execution_count": 37,
   "metadata": {},
   "outputs": [
    {
     "name": "stdout",
     "output_type": "stream",
     "text": [
      "The correlation between latitude and humidity is 0.05\n"
     ]
    }
   ],
   "source": [
    "correlation = round(stats.pearsonr(north_df.Lat, north_df.Cloudiness)[0],2)\n",
    "print(f\"The correlation between latitude and humidity is {correlation}\")"
   ]
  },
  {
   "cell_type": "code",
   "execution_count": 38,
   "metadata": {},
   "outputs": [
    {
     "name": "stdout",
     "output_type": "stream",
     "text": [
      "Slope = 0.09631529565090792\n",
      "Intercept = 49.91909963693878\n",
      "Regress Value = 0.047756513411619066\n",
      "Pvalue = 0.3531956162486318\n",
      "Standard Deviation = 0.10361459641197619\n"
     ]
    }
   ],
   "source": [
    "slope, intercept, rvalue, pvalue, std_err = stats.linregress(north_df.Lat,north_df.Cloudiness)\n",
    "\n",
    "print(f\"Slope = {slope}\")\n",
    "print(f\"Intercept = {intercept}\")\n",
    "print(f\"Regress Value = {rvalue}\")\n",
    "print(f\"Pvalue = {pvalue}\")\n",
    "print(f\"Standard Deviation = {std_err}\")"
   ]
  },
  {
   "cell_type": "code",
   "execution_count": 39,
   "metadata": {},
   "outputs": [
    {
     "name": "stdout",
     "output_type": "stream",
     "text": [
      "The r-squared is: 0.002280684573234152\n"
     ]
    },
    {
     "data": {
      "image/png": "[encoded data removed]",
      "text/plain": [
       "<Figure size 432x288 with 1 Axes>"
      ]
     },
     "metadata": {
      "needs_background": "light"
     },
     "output_type": "display_data"
    }
   ],
   "source": [
    "# equation of line to calculate predicted weight\n",
    "fit = slope * north_df.Lat + intercept\n",
    "# Plot the linear model on top of scatter plot \n",
    "line_eq = \"y = \" + str(round(slope,2)) + \"x + \" + str(round(intercept,2))\n",
    "plt.scatter(north_df.Lat, north_df.Cloudiness)\n",
    "plt.plot(north_df.Lat,fit, \"r-\")\n",
    "plt.title('Northern Hemisphere - Cloudiness vs. Latitude Linear Regression')\n",
    "plt.annotate(line_eq,(45,5), fontsize=15, color=\"red\")\n",
    "plt.xlabel('Latitude')\n",
    "plt.ylabel('Cloudiness (%)')\n",
    "print(f\"The r-squared is: {rvalue**2}\")\n",
    "plt.savefig(\"north_cloud.png\")\n",
    "plt.show()"
   ]
  },
  {
   "cell_type": "markdown",
   "metadata": {},
   "source": [
    "####  Southern Hemisphere - Cloudiness (%) vs. Latitude Linear Regression"
   ]
  },
  {
   "cell_type": "code",
   "execution_count": 40,
   "metadata": {},
   "outputs": [
    {
     "name": "stdout",
     "output_type": "stream",
     "text": [
      "The correlation between latitude and humidity is 0.08\n"
     ]
    }
   ],
   "source": [
    "correlation = round(stats.pearsonr(south_df.Lat, south_df.Cloudiness)[0],2)\n",
    "print(f\"The correlation between latitude and humidity is {correlation}\")"
   ]
  },
  {
   "cell_type": "code",
   "execution_count": 41,
   "metadata": {},
   "outputs": [
    {
     "name": "stdout",
     "output_type": "stream",
     "text": [
      "Slope = 0.20635626057105022\n",
      "Intercept = 60.99608641993457\n",
      "Regress Value = 0.0750258894965283\n",
      "Pvalue = 0.3294262515990253\n",
      "Standard Deviation = 0.21097810843335887\n"
     ]
    }
   ],
   "source": [
    "slope, intercept, rvalue, pvalue, std_err = stats.linregress(south_df.Lat,south_df.Cloudiness)\n",
    "\n",
    "print(f\"Slope = {slope}\")\n",
    "print(f\"Intercept = {intercept}\")\n",
    "print(f\"Regress Value = {rvalue}\")\n",
    "print(f\"Pvalue = {pvalue}\")\n",
    "print(f\"Standard Deviation = {std_err}\")"
   ]
  },
  {
   "cell_type": "code",
   "execution_count": 42,
   "metadata": {},
   "outputs": [
    {
     "name": "stdout",
     "output_type": "stream",
     "text": [
      "The r-squared is: 0.005628884094745276\n"
     ]
    },
    {
     "data": {
      "image/png": "[encoded data removed]",
      "text/plain": [
       "<Figure size 432x288 with 1 Axes>"
      ]
     },
     "metadata": {
      "needs_background": "light"
     },
     "output_type": "display_data"
    }
   ],
   "source": [
    "# equation of line to calculate predicted weight\n",
    "fit = slope * south_df.Lat + intercept\n",
    "# Plot the linear model on top of scatter plot \n",
    "line_eq = \"y = \" + str(round(slope,2)) + \"x + \" + str(round(intercept,2))\n",
    "plt.scatter(south_df.Lat, south_df.Cloudiness)\n",
    "plt.plot(south_df.Lat,fit, \"r-\")\n",
    "plt.title('Southern Hemisphere - Cloudiness vs. Latitude Linear Regression')\n",
    "plt.annotate(line_eq,(-55,60), fontsize=15, color=\"red\")\n",
    "plt.xlabel('Latitude')\n",
    "plt.ylabel('Cloudiness (%)')\n",
    "print(f\"The r-squared is: {rvalue**2}\")\n",
    "plt.savefig(\"south_cloud.png\")\n",
    "\n",
    "plt.show()"
   ]
  },
  {
   "cell_type": "markdown",
   "metadata": {},
   "source": [
    "## Cloud Cover by Hemisphere Analytics\n",
    "Neither the Southern or the Northern Hemispheres display a strong correlation between cloud cover and proximity to the equator."
   ]
  },
  {
   "cell_type": "markdown",
   "metadata": {},
   "source": [
    "####  Northern Hemisphere - Wind Speed (mph) vs. Latitude Linear Regression"
   ]
  },
  {
   "cell_type": "code",
   "execution_count": 43,
   "metadata": {},
   "outputs": [
    {
     "name": "stdout",
     "output_type": "stream",
     "text": [
      "The correlation between latitude and wind speed is 0.07\n"
     ]
    }
   ],
   "source": [
    "correlation = round(stats.pearsonr(north_df.Lat, north_df[\"Wind Speed\"])[0],2)\n",
    "print(f\"The correlation between latitude and wind speed is {correlation}\")"
   ]
  },
  {
   "cell_type": "code",
   "execution_count": 44,
   "metadata": {},
   "outputs": [
    {
     "name": "stdout",
     "output_type": "stream",
     "text": [
      "Slope = 0.019863588403184567\n",
      "Intercept = 7.437681823249606\n",
      "Regress Value = 0.07253055720040816\n",
      "Pvalue = 0.15822045219356165\n",
      "Standard Deviation = 0.014049000757868003\n"
     ]
    }
   ],
   "source": [
    "slope, intercept, rvalue, pvalue, std_err = stats.linregress(north_df.Lat,north_df[\"Wind Speed\"])\n",
    "\n",
    "print(f\"Slope = {slope}\")\n",
    "print(f\"Intercept = {intercept}\")\n",
    "print(f\"Regress Value = {rvalue}\")\n",
    "print(f\"Pvalue = {pvalue}\")\n",
    "print(f\"Standard Deviation = {std_err}\")"
   ]
  },
  {
   "cell_type": "code",
   "execution_count": 45,
   "metadata": {},
   "outputs": [
    {
     "name": "stdout",
     "output_type": "stream",
     "text": [
      "The r-squared is: 0.00526068172780168\n"
     ]
    },
    {
     "data": {
      "image/png": "[encoded data removed]",
      "text/plain": [
       "<Figure size 432x288 with 1 Axes>"
      ]
     },
     "metadata": {
      "needs_background": "light"
     },
     "output_type": "display_data"
    }
   ],
   "source": [
    "# equation of line to calculate predicted weight\n",
    "fit = slope * north_df.Lat + intercept\n",
    "# Plot the linear model on top of scatter plot \n",
    "line_eq = \"y = \" + str(round(slope,2)) + \"x + \" + str(round(intercept,2))\n",
    "plt.scatter(north_df.Lat, north_df[\"Wind Speed\"])\n",
    "plt.plot(north_df.Lat,fit, \"r-\")\n",
    "plt.title('Northern Hemisphere - Wind Speed vs. Latitude Linear Regression')\n",
    "plt.annotate(line_eq,(5,30), fontsize=15, color=\"red\")\n",
    "plt.xlabel('Latitude')\n",
    "plt.ylabel('Wind Speed (mph)')\n",
    "print(f\"The r-squared is: {rvalue**2}\")\n",
    "plt.savefig(\"north_wind.png\")\n",
    "plt.show()"
   ]
  },
  {
   "cell_type": "markdown",
   "metadata": {},
   "source": [
    "####  Southern Hemisphere - Wind Speed (mph) vs. Latitude Linear Regression"
   ]
  },
  {
   "cell_type": "code",
   "execution_count": 46,
   "metadata": {},
   "outputs": [
    {
     "name": "stdout",
     "output_type": "stream",
     "text": [
      "The correlation between latitude and wind speed is -0.11\n"
     ]
    }
   ],
   "source": [
    "correlation = round(stats.pearsonr(south_df.Lat, south_df[\"Wind Speed\"])[0],2)\n",
    "print(f\"The correlation between latitude and wind speed is {correlation}\")"
   ]
  },
  {
   "cell_type": "code",
   "execution_count": 47,
   "metadata": {},
   "outputs": [
    {
     "name": "stdout",
     "output_type": "stream",
     "text": [
      "Slope = -0.03999455153292554\n",
      "Intercept = 6.478971807642186\n",
      "Regress Value = -0.1147437445962988\n",
      "Pvalue = 0.1350700421028157\n",
      "Standard Deviation = 0.026634864050275625\n"
     ]
    }
   ],
   "source": [
    "slope, intercept, rvalue, pvalue, std_err = stats.linregress(south_df.Lat,south_df[\"Wind Speed\"])\n",
    "\n",
    "print(f\"Slope = {slope}\")\n",
    "print(f\"Intercept = {intercept}\")\n",
    "print(f\"Regress Value = {rvalue}\")\n",
    "print(f\"Pvalue = {pvalue}\")\n",
    "print(f\"Standard Deviation = {std_err}\")"
   ]
  },
  {
   "cell_type": "code",
   "execution_count": 48,
   "metadata": {},
   "outputs": [
    {
     "name": "stdout",
     "output_type": "stream",
     "text": [
      "The r-squared is: 0.01316612692398065\n"
     ]
    },
    {
     "data": {
      "image/png": "[encoded data removed]",
      "text/plain": [
       "<Figure size 432x288 with 1 Axes>"
      ]
     },
     "metadata": {
      "needs_background": "light"
     },
     "output_type": "display_data"
    }
   ],
   "source": [
    "# equation of line to calculate predicted weight\n",
    "fit = slope * south_df.Lat + intercept\n",
    "# Plot the linear model on top of scatter plot \n",
    "line_eq = \"y = \" + str(round(slope,2)) + \"x + \" + str(round(intercept,2))\n",
    "plt.scatter(south_df.Lat, south_df[\"Wind Speed\"])\n",
    "plt.plot(south_df.Lat,fit, \"r-\")\n",
    "plt.title('Southern Hemisphere - Wind Speed vs. Latitude Linear Regression')\n",
    "plt.annotate(line_eq,(-55,23), fontsize=15, color=\"red\")\n",
    "plt.xlabel('Latitude')\n",
    "plt.ylabel('Wind Speed (mph)')\n",
    "print(f\"The r-squared is: {rvalue**2}\")\n",
    "plt.savefig(\"south_wind.png\")\n",
    "plt.show()"
   ]
  },
  {
   "cell_type": "markdown",
   "metadata": {},
   "source": [
    "## Wind by Hemisphere Analytics\n",
    "Neither the Southern or the Northern Hemispheres display a strong correlation between wind speeds and proximity to the equator."
   ]
  },
  {
   "cell_type": "code",
   "execution_count": null,
   "metadata": {},
   "outputs": [],
   "source": []
  }
 ],
 "metadata": {
  "anaconda-cloud": {},
  "kernel_info": {
   "name": "python3"
  },
  "kernelspec": {
   "display_name": "Python 3",
   "language": "python",
   "name": "python3"
  },
  "language_info": {
   "codemirror_mode": {
    "name": "ipython",
    "version": 3
   },
   "file_extension": ".py",
   "mimetype": "text/x-python",
   "name": "python",
   "nbconvert_exporter": "python",
   "pygments_lexer": "ipython3",
   "version": "3.8.5"
  },
  "latex_envs": {
   "LaTeX_envs_menu_present": true,
   "autoclose": false,
   "autocomplete": true,
   "bibliofile": "biblio.bib",
   "cite_by": "apalike",
   "current_citInitial": 1,
   "eqLabelWithNumbers": true,
   "eqNumInitial": 1,
   "hotkeys": {
    "equation": "Ctrl-E",
    "itemize": "Ctrl-I"
   },
   "labels_anchors": false,
   "latex_user_defs": false,
   "report_style_numbering": false,
   "user_envs_cfg": false
  },
  "nteract": {
   "version": "0.12.3"
  }
 },
 "nbformat": 4,
 "nbformat_minor": 2
}
