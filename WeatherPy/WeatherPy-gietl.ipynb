{
 "cells": [
  {
   "cell_type": "markdown",
   "metadata": {},
   "source": [
    "# WeatherPy\n",
    "----\n",
    "\n",
    "#### Note\n",
    "* Instructions have been included for each segment. You do not have to follow them exactly, but they are included to help you think through the steps."
   ]
  },
  {
   "cell_type": "code",
   "execution_count": 3,
   "metadata": {
    "scrolled": true
   },
   "outputs": [],
   "source": [
    "# Dependencies and Setup\n",
    "import matplotlib.pyplot as plt\n",
    "import pandas as pd\n",
    "import numpy as np\n",
    "import requests\n",
    "import time\n",
    "import json\n",
    "from scipy.stats import zscore\n",
    "from scipy.stats import linregress\n",
    "#from config import api_key\n",
    "\n",
    "# Import API key\n",
    "#from api_keys import weather_api_key\n",
    "import api_keys as api\n",
    "\n",
    "# Incorporated citipy to determine city based on latitude and longitude\n",
    "from citipy import citipy\n",
    "\n",
    "\n",
    "# Output File (CSV)\n",
    "output_data_file = \"output_data/cities.csv\"\n",
    "\n",
    "# Range of latitudes and longitudes\n",
    "lat_range = (-90, 90)\n",
    "lng_range = (-180, 180)"
   ]
  },
  {
   "cell_type": "markdown",
   "metadata": {},
   "source": [
    "## Generate Cities List"
   ]
  },
  {
   "cell_type": "code",
   "execution_count": 4,
   "metadata": {},
   "outputs": [
    {
     "data": {
      "text/plain": [
       "623"
      ]
     },
     "execution_count": 4,
     "metadata": {},
     "output_type": "execute_result"
    }
   ],
   "source": [
    "# List for holding lat_lngs and cities\n",
    "lat_lngs = []\n",
    "cities = []\n",
    "\n",
    "# Create a set of random lat and lng combinations\n",
    "lats = np.random.uniform(lat_range[0], lat_range[1], size=1500)\n",
    "lngs = np.random.uniform(lng_range[0], lng_range[1], size=1500)\n",
    "lat_lngs = zip(lats, lngs)\n",
    "\n",
    "# Identify nearest city for each lat, lng combination\n",
    "for lat_lng in lat_lngs:\n",
    "    city = citipy.nearest_city(lat_lng[0], lat_lng[1]).city_name\n",
    "    \n",
    "    # If the city is unique, then add it to a our cities list\n",
    "    if city not in cities:\n",
    "        cities.append(city)\n",
    "\n",
    "# Print the city count to confirm sufficient count\n",
    "len(cities)"
   ]
  },
  {
   "cell_type": "code",
   "execution_count": 5,
   "metadata": {},
   "outputs": [
    {
     "data": {
      "text/plain": [
       "'beringovskiy'"
      ]
     },
     "execution_count": 5,
     "metadata": {},
     "output_type": "execute_result"
    }
   ],
   "source": [
    "cities[380]\n",
    "#api.openweathermap.org/data/2.5/weather?q=jacmel&APPID=7111648151b6cdb2d73c65bb4671e668\n",
    "\n",
    "#{\"coord\":{\"lon\":-72.5347,\"lat\":18.2342},\"weather\":[{\"id\":801,\"main\":\"Clouds\",\"description\":\"few clouds\",\"icon\":\"02d\"}],\n",
    "    #\"base\":\"stations\",\"main\":{\"temp\":304.15,\"feels_like\":307.51,\"temp_min\":304.15,\"temp_max\":304.15,\"pressure\":1015,\n",
    "        #\"humidity\":58},\"visibility\":9000,\"wind\":{\"speed\":5.14,\"deg\":300},\"clouds\":{\"all\":20},\"dt\":1618420578,\"sys\":{\"type\":1,\"id\":7213,\"country\":\"HT\",\"sunrise\":1618396431,\"sunset\":1618441583},\"timezone\":-14400,\"id\":3723779,\"name\":\"Jacmel\",\"cod\":200}"
   ]
  },
  {
   "cell_type": "markdown",
   "metadata": {},
   "source": [
    "### Perform API Calls\n",
    "* Perform a weather check on each city using a series of successive API calls.\n",
    "* Include a print log of each city as it'sbeing processed (with the city number and city name).\n"
   ]
  },
  {
   "cell_type": "code",
   "execution_count": 8,
   "metadata": {
    "scrolled": true
   },
   "outputs": [
    {
     "name": "stdout",
     "output_type": "stream",
     "text": [
      "Processing Record 0 of Set 623 | nanortalik\n",
      "Processing Record 1 of Set 623 | turayf\n",
      "Processing Record 2 of Set 623 | mount gambier\n",
      "Processing Record 3 of Set 623 | rikitea\n",
      "Processing Record 4 of Set 623 | tasiilaq\n",
      "Processing Record 5 of Set 623 | kurilsk\n",
      "Processing Record 6 of Set 623 | airai\n",
      "Processing Record 7 of Set 623 | port-gentil\n",
      "Processing Record 8 of Set 623 | karaman\n",
      "Processing Record 9 of Set 623 | busselton\n",
      "Processing Record 10 of Set 623 | ribeira brava\n",
      "Processing Record 11 of Set 623 | oranjemund\n",
      "Processing Record 12 of Set 623 | castro\n",
      "Processing Record 13 of Set 623 | arraial do cabo\n",
      "Processing Record 14 of Set 623 | bredasdorp\n",
      "Processing Record 15 of Set 623 | tuktoyaktuk\n",
      "Processing Record 16 of Set 623 | tual\n",
      "Processing Record 17 of Set 623 | san patricio\n",
      "Processing Record 18 of Set 623 | leningradskiy\n",
      "Processing Record 19 of Set 623 | port alfred\n",
      "Processing Record 20 of Set 623 | rabo de peixe\n",
      "Processing Record 21 of Set 623 | new norfolk\n",
      "Processing Record 22 of Set 623 | jamestown\n",
      "Processing Record 23 of Set 623 | ilulissat\n",
      "Processing Record 24 of Set 623 | mar del plata\n",
      "Processing Record 25 of Set 623 | zhuhai\n",
      "Processing Record 26 of Set 623 | bluff\n",
      "Processing Record 27 of Set 623 | puerto madero\n",
      "Processing Record 28 of Set 623 | punta arenas\n",
      "Processing Record 29 of Set 623 | provideniya\n",
      "Processing Record 30 of Set 623 | changping\n",
      "Processing Record 31 of Set 623 | alofi\n",
      "Processing Record 32 of Set 623 | kapaa\n",
      "Processing Record 33 of Set 623 | kieta\n",
      "Processing Record 34 of Set 623 | flin flon\n",
      "Processing Record 35 of Set 623 | atuona\n",
      "Processing Record 36 of Set 623 | vilhena\n",
      "Processing Record 37 of Set 623 | thessalon\n",
      "Processing Record 38 of Set 623 | cape town\n",
      "Processing Record 39 of Set 623 | biltine\n",
      "Processing Record 40 of Set 623 | poum\n",
      "Processing Record 41 of Set 623 | barentsburg\n",
      "Processing Record 42 of Set 623 | barrow\n",
      "Processing Record 43 of Set 623 | rio tuba\n",
      "Processing Record 44 of Set 623 | unguia\n",
      "Processing Record 45 of Set 623 | ahipara\n",
      "Processing Record 46 of Set 623 | menomonie\n",
      "Processing Record 47 of Set 623 | dikson\n",
      "Processing Record 48 of Set 623 | ostrovnoy\n",
      "Processing Record 49 of Set 623 | westport\n",
      "Processing Record 50 of Set 623 | namibe\n",
      "Processing Record 51 of Set 623 | tiksi\n",
      "Processing Record 52 of Set 623 | port lincoln\n",
      "Processing Record 53 of Set 623 | amderma\n",
      "Processing Record 54 of Set 623 | rio grande\n",
      "Processing Record 55 of Set 623 | polovinnoye\n",
      "Processing Record 56 of Set 623 | severomuysk\n",
      "Processing Record 57 of Set 623 | baracoa\n",
      "Processing Record 58 of Set 623 | wattegama\n",
      "Processing Record 59 of Set 623 | waipawa\n",
      "Processing Record 60 of Set 623 | petauke\n",
      "Processing Record 61 of Set 623 | sitka\n",
      "Processing Record 62 of Set 623 | outjo\n",
      "Processing Record 63 of Set 623 | ushuaia\n",
      "Processing Record 64 of Set 623 | half moon bay\n",
      "Processing Record 65 of Set 623 | sentyabrskiy\n",
      "Processing Record 66 of Set 623 | snyder\n",
      "Processing Record 67 of Set 623 | tausa\n",
      "Processing Record 68 of Set 623 | sosnovo-ozerskoye\n",
      "Processing Record 69 of Set 623 | buchanan\n",
      "Processing Record 70 of Set 623 | lakes entrance\n",
      "Processing Record 71 of Set 623 | primore\n",
      "Processing Record 72 of Set 623 | hobart\n",
      "Processing Record 73 of Set 623 | yuanping\n",
      "Processing Record 74 of Set 623 | saskylakh\n",
      "Processing Record 75 of Set 623 | mys shmidta\n",
      "Processing Record 76 of Set 623 | benidorm\n",
      "Processing Record 77 of Set 623 | hilo\n",
      "Processing Record 78 of Set 623 | georgetown\n",
      "Processing Record 79 of Set 623 | vao\n",
      "Processing Record 80 of Set 623 | yellowknife\n",
      "Processing Record 81 of Set 623 | hasaki\n",
      "Processing Record 82 of Set 623 | thompson\n",
      "Processing Record 83 of Set 623 | abu samrah\n",
      "Processing Record 84 of Set 623 | port macquarie\n",
      "Processing Record 85 of Set 623 | fortuna\n",
      "Processing Record 86 of Set 623 | butaritari\n",
      "Processing Record 87 of Set 623 | illoqqortoormiut\n",
      "Processing Record 88 of Set 623 | albany\n",
      "Processing Record 89 of Set 623 | salalah\n",
      "Processing Record 90 of Set 623 | acarau\n",
      "Processing Record 91 of Set 623 | tailai\n",
      "Processing Record 92 of Set 623 | pevek\n",
      "Processing Record 93 of Set 623 | vilyuysk\n",
      "Processing Record 94 of Set 623 | great falls\n",
      "Processing Record 95 of Set 623 | chokwe\n",
      "Processing Record 96 of Set 623 | rairangpur\n",
      "Processing Record 97 of Set 623 | saldanha\n",
      "Processing Record 98 of Set 623 | nikolskoye\n",
      "Processing Record 99 of Set 623 | vila velha\n",
      "Processing Record 100 of Set 623 | pfungstadt\n",
      "Processing Record 101 of Set 623 | vaini\n",
      "Processing Record 102 of Set 623 | belmonte\n",
      "Processing Record 103 of Set 623 | agadir\n",
      "Processing Record 104 of Set 623 | talcahuano\n",
      "Processing Record 105 of Set 623 | mataura\n",
      "Processing Record 106 of Set 623 | vestmannaeyjar\n",
      "Processing Record 107 of Set 623 | beneditinos\n",
      "Processing Record 108 of Set 623 | butembo\n",
      "Processing Record 109 of Set 623 | mitchell\n",
      "Processing Record 110 of Set 623 | bengkulu\n",
      "Processing Record 111 of Set 623 | zanjan\n",
      "Processing Record 112 of Set 623 | da lat\n",
      "Processing Record 113 of Set 623 | kahului\n",
      "Processing Record 114 of Set 623 | ugoofaaru\n",
      "Processing Record 115 of Set 623 | hithadhoo\n",
      "Processing Record 116 of Set 623 | lavrentiya\n",
      "Processing Record 117 of Set 623 | tucumcari\n",
      "Processing Record 118 of Set 623 | souillac\n",
      "Processing Record 119 of Set 623 | grand river south east\n",
      "Processing Record 120 of Set 623 | yekaterinburg\n",
      "Processing Record 121 of Set 623 | longyearbyen\n",
      "Processing Record 122 of Set 623 | hamilton\n",
      "Processing Record 123 of Set 623 | olinda\n",
      "Processing Record 124 of Set 623 | katobu\n",
      "Processing Record 125 of Set 623 | palabuhanratu\n",
      "Processing Record 126 of Set 623 | kargasok\n",
      "Processing Record 127 of Set 623 | carnarvon\n",
      "Processing Record 128 of Set 623 | boundiali\n",
      "Processing Record 129 of Set 623 | narsaq\n",
      "Processing Record 130 of Set 623 | laguna\n",
      "Processing Record 131 of Set 623 | anadyr\n",
      "Processing Record 132 of Set 623 | hermanus\n",
      "Processing Record 133 of Set 623 | volkhov\n",
      "Processing Record 134 of Set 623 | abhar\n",
      "Processing Record 135 of Set 623 | palmerston north\n",
      "Processing Record 136 of Set 623 | ternate\n",
      "Processing Record 137 of Set 623 | aklavik\n",
      "Processing Record 138 of Set 623 | port keats\n",
      "Processing Record 139 of Set 623 | bambous virieux\n",
      "Processing Record 140 of Set 623 | puerto ayora\n",
      "Processing Record 141 of Set 623 | vila do maio\n",
      "Processing Record 142 of Set 623 | casper\n",
      "Processing Record 143 of Set 623 | haines junction\n",
      "Processing Record 144 of Set 623 | severo-kurilsk\n",
      "Processing Record 145 of Set 623 | taolanaro\n",
      "Processing Record 146 of Set 623 | coquimbo\n",
      "Processing Record 147 of Set 623 | sorland\n",
      "Processing Record 148 of Set 623 | milkovo\n",
      "Processing Record 149 of Set 623 | belaya gora\n",
      "Processing Record 150 of Set 623 | dargaville\n",
      "Processing Record 151 of Set 623 | cabo san lucas\n",
      "Processing Record 152 of Set 623 | palana\n",
      "Processing Record 153 of Set 623 | winchester\n",
      "Processing Record 154 of Set 623 | port moresby\n",
      "Processing Record 155 of Set 623 | bartica\n",
      "Processing Record 156 of Set 623 | berlevag\n",
      "Processing Record 157 of Set 623 | port blair\n",
      "Processing Record 158 of Set 623 | pringsewu\n",
      "Processing Record 159 of Set 623 | palu\n",
      "Processing Record 160 of Set 623 | shenjiamen\n",
      "Processing Record 161 of Set 623 | lebu\n",
      "Processing Record 162 of Set 623 | vostok\n",
      "Processing Record 163 of Set 623 | bella union\n",
      "Processing Record 164 of Set 623 | hobyo\n",
      "Processing Record 165 of Set 623 | ketchikan\n",
      "Processing Record 166 of Set 623 | chenghai\n",
      "Processing Record 167 of Set 623 | itoman\n",
      "Processing Record 168 of Set 623 | diffa\n",
      "Processing Record 169 of Set 623 | hofn\n",
      "Processing Record 170 of Set 623 | samusu\n",
      "Processing Record 171 of Set 623 | mehamn\n",
      "Processing Record 172 of Set 623 | nizwa\n",
      "Processing Record 173 of Set 623 | durban\n",
      "Processing Record 174 of Set 623 | dingle\n",
      "Processing Record 175 of Set 623 | bontang\n",
      "Processing Record 176 of Set 623 | esperance\n",
      "Processing Record 177 of Set 623 | kontagora\n",
      "Processing Record 178 of Set 623 | codrington\n",
      "Processing Record 179 of Set 623 | portland\n",
      "Processing Record 180 of Set 623 | nantucket\n",
      "Processing Record 181 of Set 623 | iquique\n",
      "Processing Record 182 of Set 623 | east london\n",
      "Processing Record 183 of Set 623 | christchurch\n",
      "Processing Record 184 of Set 623 | avarua\n",
      "Processing Record 185 of Set 623 | lompoc\n",
      "Processing Record 186 of Set 623 | wasilla\n",
      "Processing Record 187 of Set 623 | te anau\n"
     ]
    },
    {
     "name": "stdout",
     "output_type": "stream",
     "text": [
      "Processing Record 188 of Set 623 | birao\n",
      "Processing Record 189 of Set 623 | goderich\n",
      "Processing Record 190 of Set 623 | vaitupu\n",
      "Processing Record 191 of Set 623 | mayo\n",
      "Processing Record 192 of Set 623 | chifeng\n",
      "Processing Record 193 of Set 623 | caconda\n",
      "Processing Record 194 of Set 623 | port elizabeth\n",
      "Processing Record 195 of Set 623 | lorengau\n",
      "Processing Record 196 of Set 623 | sinkat\n",
      "Processing Record 197 of Set 623 | ngama\n",
      "Processing Record 198 of Set 623 | taicheng\n",
      "Processing Record 199 of Set 623 | zhuanghe\n",
      "Processing Record 200 of Set 623 | cidreira\n",
      "Processing Record 201 of Set 623 | maragogi\n",
      "Processing Record 202 of Set 623 | broome\n",
      "Processing Record 203 of Set 623 | warri\n",
      "Processing Record 204 of Set 623 | lasa\n",
      "Processing Record 205 of Set 623 | natitingou\n",
      "Processing Record 206 of Set 623 | najran\n",
      "Processing Record 207 of Set 623 | agirish\n",
      "Processing Record 208 of Set 623 | ratnagiri\n",
      "Processing Record 209 of Set 623 | ust-nera\n",
      "Processing Record 210 of Set 623 | campbell river\n",
      "Processing Record 211 of Set 623 | la ronge\n",
      "Processing Record 212 of Set 623 | ust-uda\n",
      "Processing Record 213 of Set 623 | cherskiy\n",
      "Processing Record 214 of Set 623 | gladstone\n",
      "Processing Record 215 of Set 623 | ponta do sol\n",
      "Processing Record 216 of Set 623 | guerrero negro\n",
      "Processing Record 217 of Set 623 | leshukonskoye\n",
      "Processing Record 218 of Set 623 | nabire\n",
      "Processing Record 219 of Set 623 | sobolevo\n",
      "Processing Record 220 of Set 623 | iqaluit\n",
      "Processing Record 221 of Set 623 | derzhavinsk\n",
      "Processing Record 222 of Set 623 | marawi\n",
      "Processing Record 223 of Set 623 | tiznit\n",
      "Processing Record 224 of Set 623 | zilupe\n",
      "Processing Record 225 of Set 623 | katsuura\n",
      "Processing Record 226 of Set 623 | kalanwali\n",
      "Processing Record 227 of Set 623 | saleaula\n",
      "Processing Record 228 of Set 623 | okato\n",
      "Processing Record 229 of Set 623 | ust-omchug\n",
      "Processing Record 230 of Set 623 | bathsheba\n",
      "Processing Record 231 of Set 623 | kodiak\n",
      "Processing Record 232 of Set 623 | novobiryusinskiy\n",
      "Processing Record 233 of Set 623 | rudnogorsk\n",
      "Processing Record 234 of Set 623 | kommunisticheskiy\n",
      "Processing Record 235 of Set 623 | waw\n",
      "Processing Record 236 of Set 623 | zhezkazgan\n",
      "Processing Record 237 of Set 623 | tumannyy\n",
      "Processing Record 238 of Set 623 | mayor pablo lagerenza\n",
      "Processing Record 239 of Set 623 | mikuni\n",
      "Processing Record 240 of Set 623 | praia da vitoria\n",
      "Processing Record 241 of Set 623 | fairbanks\n",
      "Processing Record 242 of Set 623 | gaogou\n",
      "Processing Record 243 of Set 623 | tsihombe\n",
      "Processing Record 244 of Set 623 | tazovskiy\n",
      "Processing Record 245 of Set 623 | rio tercero\n",
      "Processing Record 246 of Set 623 | adwa\n",
      "Processing Record 247 of Set 623 | dekar\n",
      "Processing Record 248 of Set 623 | makakilo city\n",
      "Processing Record 249 of Set 623 | mahebourg\n",
      "Processing Record 250 of Set 623 | constitucion\n",
      "Processing Record 251 of Set 623 | kodinsk\n",
      "Processing Record 252 of Set 623 | matsanga\n",
      "Processing Record 253 of Set 623 | isangel\n",
      "Processing Record 254 of Set 623 | san quintin\n",
      "Processing Record 255 of Set 623 | kaitangata\n",
      "Processing Record 256 of Set 623 | attawapiskat\n",
      "Processing Record 257 of Set 623 | nichinan\n",
      "Processing Record 258 of Set 623 | yei\n",
      "Processing Record 259 of Set 623 | marcona\n",
      "Processing Record 260 of Set 623 | hammerfest\n",
      "Processing Record 261 of Set 623 | miri\n",
      "Processing Record 262 of Set 623 | ampanihy\n",
      "Processing Record 263 of Set 623 | saint-philippe\n",
      "Processing Record 264 of Set 623 | demba\n",
      "Processing Record 265 of Set 623 | mae sai\n",
      "Processing Record 266 of Set 623 | ribeira grande\n",
      "Processing Record 267 of Set 623 | viligili\n",
      "Processing Record 268 of Set 623 | zhanakorgan\n",
      "Processing Record 269 of Set 623 | conde\n",
      "Processing Record 270 of Set 623 | erenhot\n",
      "Processing Record 271 of Set 623 | pilar\n",
      "Processing Record 272 of Set 623 | saint-augustin\n",
      "Processing Record 273 of Set 623 | clyde river\n",
      "Processing Record 274 of Set 623 | norman wells\n",
      "Processing Record 275 of Set 623 | andenes\n",
      "Processing Record 276 of Set 623 | padang\n",
      "Processing Record 277 of Set 623 | bagdarin\n",
      "Processing Record 278 of Set 623 | itarema\n",
      "Processing Record 279 of Set 623 | biggar\n",
      "Processing Record 280 of Set 623 | esso\n",
      "Processing Record 281 of Set 623 | hovd\n",
      "Processing Record 282 of Set 623 | san felipe\n",
      "Processing Record 283 of Set 623 | havoysund\n",
      "Processing Record 284 of Set 623 | dahanu\n",
      "Processing Record 285 of Set 623 | cabedelo\n",
      "Processing Record 286 of Set 623 | torbay\n",
      "Processing Record 287 of Set 623 | jacqueville\n",
      "Processing Record 288 of Set 623 | pljevlja\n",
      "Processing Record 289 of Set 623 | alugan\n",
      "Processing Record 290 of Set 623 | tuatapere\n",
      "Processing Record 291 of Set 623 | alta floresta\n",
      "Processing Record 292 of Set 623 | anan\n",
      "Processing Record 293 of Set 623 | sorvag\n",
      "Processing Record 294 of Set 623 | kamaishi\n",
      "Processing Record 295 of Set 623 | imbituba\n",
      "Processing Record 296 of Set 623 | bulembu\n",
      "Processing Record 297 of Set 623 | bogorodskoye\n",
      "Processing Record 298 of Set 623 | tutoia\n",
      "Processing Record 299 of Set 623 | marovoay\n",
      "Processing Record 300 of Set 623 | kruisfontein\n",
      "Processing Record 301 of Set 623 | acajutla\n",
      "Processing Record 302 of Set 623 | ouango\n",
      "Processing Record 303 of Set 623 | ust-kut\n",
      "Processing Record 304 of Set 623 | pangnirtung\n",
      "Processing Record 305 of Set 623 | victoria\n",
      "Processing Record 306 of Set 623 | fort frances\n",
      "Processing Record 307 of Set 623 | bolshevik\n",
      "Processing Record 308 of Set 623 | bur gabo\n",
      "Processing Record 309 of Set 623 | touros\n",
      "Processing Record 310 of Set 623 | burica\n",
      "Processing Record 311 of Set 623 | kulhudhuffushi\n",
      "Processing Record 312 of Set 623 | ambilobe\n",
      "Processing Record 313 of Set 623 | kijang\n",
      "Processing Record 314 of Set 623 | valparaiso\n",
      "Processing Record 315 of Set 623 | koslan\n",
      "Processing Record 316 of Set 623 | kupang\n",
      "Processing Record 317 of Set 623 | geraldton\n",
      "Processing Record 318 of Set 623 | tomatlan\n",
      "Processing Record 319 of Set 623 | giaveno\n",
      "Processing Record 320 of Set 623 | sulina\n",
      "Processing Record 321 of Set 623 | faanui\n",
      "Processing Record 322 of Set 623 | svetlogorsk\n",
      "Processing Record 323 of Set 623 | shingu\n",
      "Processing Record 324 of Set 623 | grenaa\n",
      "Processing Record 325 of Set 623 | nador\n",
      "Processing Record 326 of Set 623 | samarai\n",
      "Processing Record 327 of Set 623 | mendi\n",
      "Processing Record 328 of Set 623 | shimoda\n",
      "Processing Record 329 of Set 623 | portobelo\n",
      "Processing Record 330 of Set 623 | ndele\n",
      "Processing Record 331 of Set 623 | stykkisholmur\n",
      "Processing Record 332 of Set 623 | kalabo\n",
      "Processing Record 333 of Set 623 | zubtsov\n",
      "Processing Record 334 of Set 623 | nizhniy kuranakh\n",
      "Processing Record 335 of Set 623 | khatanga\n",
      "Processing Record 336 of Set 623 | chuy\n",
      "Processing Record 337 of Set 623 | krasnyy chikoy\n",
      "Processing Record 338 of Set 623 | khor\n",
      "Processing Record 339 of Set 623 | auki\n",
      "Processing Record 340 of Set 623 | jalu\n",
      "Processing Record 341 of Set 623 | vanimo\n",
      "Processing Record 342 of Set 623 | chengmai\n",
      "Processing Record 343 of Set 623 | caravelas\n",
      "Processing Record 344 of Set 623 | takoradi\n",
      "Processing Record 345 of Set 623 | klaksvik\n",
      "Processing Record 346 of Set 623 | vastseliina\n",
      "Processing Record 347 of Set 623 | daye\n",
      "Processing Record 348 of Set 623 | vanavara\n",
      "Processing Record 349 of Set 623 | visby\n",
      "Processing Record 350 of Set 623 | ust-ishim\n",
      "Processing Record 351 of Set 623 | kungurtug\n",
      "Processing Record 352 of Set 623 | qaanaaq\n",
      "Processing Record 353 of Set 623 | mancora\n",
      "Processing Record 354 of Set 623 | barda\n",
      "Processing Record 355 of Set 623 | tabou\n",
      "Processing Record 356 of Set 623 | ushtobe\n",
      "Processing Record 357 of Set 623 | cedar city\n",
      "Processing Record 358 of Set 623 | morro bay\n",
      "Processing Record 359 of Set 623 | halifax\n",
      "Processing Record 360 of Set 623 | san cristobal\n",
      "Processing Record 361 of Set 623 | scarborough\n",
      "Processing Record 362 of Set 623 | andros town\n",
      "Processing Record 363 of Set 623 | pisco\n",
      "Processing Record 364 of Set 623 | micheweni\n",
      "Processing Record 365 of Set 623 | necochea\n",
      "Processing Record 366 of Set 623 | poplar bluff\n",
      "Processing Record 367 of Set 623 | tarko-sale\n",
      "Processing Record 368 of Set 623 | havelock\n",
      "Processing Record 369 of Set 623 | okhotsk\n",
      "Processing Record 370 of Set 623 | belushya guba\n",
      "Processing Record 371 of Set 623 | nurota\n",
      "Processing Record 372 of Set 623 | vryheid\n",
      "Processing Record 373 of Set 623 | iracoubo\n"
     ]
    },
    {
     "name": "stdout",
     "output_type": "stream",
     "text": [
      "Processing Record 374 of Set 623 | chokurdakh\n",
      "Processing Record 375 of Set 623 | san pedro\n",
      "Processing Record 376 of Set 623 | luderitz\n",
      "Processing Record 377 of Set 623 | orange\n",
      "Processing Record 378 of Set 623 | srandakan\n",
      "Processing Record 379 of Set 623 | san jose\n",
      "Processing Record 380 of Set 623 | beringovskiy\n",
      "Processing Record 381 of Set 623 | tabiauea\n",
      "Processing Record 382 of Set 623 | krasnoselkup\n",
      "Processing Record 383 of Set 623 | rio novo do sul\n",
      "Processing Record 384 of Set 623 | mokrousovo\n",
      "Processing Record 385 of Set 623 | tabukiniberu\n",
      "Processing Record 386 of Set 623 | ancud\n",
      "Processing Record 387 of Set 623 | upernavik\n",
      "Processing Record 388 of Set 623 | columbus\n",
      "Processing Record 389 of Set 623 | draper\n",
      "Processing Record 390 of Set 623 | danshui\n",
      "Processing Record 391 of Set 623 | kyra\n",
      "Processing Record 392 of Set 623 | lazaro cardenas\n",
      "Processing Record 393 of Set 623 | bethel\n",
      "Processing Record 394 of Set 623 | prince rupert\n",
      "Processing Record 395 of Set 623 | stokmarknes\n",
      "Processing Record 396 of Set 623 | sao felix do xingu\n",
      "Processing Record 397 of Set 623 | daru\n",
      "Processing Record 398 of Set 623 | berezovyy\n",
      "Processing Record 399 of Set 623 | meulaboh\n",
      "Processing Record 400 of Set 623 | margate\n",
      "Processing Record 401 of Set 623 | nizhneyansk\n",
      "Processing Record 402 of Set 623 | luwuk\n",
      "Processing Record 403 of Set 623 | beyneu\n",
      "Processing Record 404 of Set 623 | hede\n",
      "Processing Record 405 of Set 623 | jining\n",
      "Processing Record 406 of Set 623 | morgantown\n",
      "Processing Record 407 of Set 623 | oksfjord\n",
      "Processing Record 408 of Set 623 | buraydah\n",
      "Processing Record 409 of Set 623 | ginda\n",
      "Processing Record 410 of Set 623 | shieli\n",
      "Processing Record 411 of Set 623 | nemuro\n",
      "Processing Record 412 of Set 623 | kirakira\n",
      "Processing Record 413 of Set 623 | talnakh\n",
      "Processing Record 414 of Set 623 | chardara\n",
      "Processing Record 415 of Set 623 | talara\n",
      "Processing Record 416 of Set 623 | aligudarz\n",
      "Processing Record 417 of Set 623 | yaan\n",
      "Processing Record 418 of Set 623 | cururupu\n",
      "Processing Record 419 of Set 623 | paracuru\n",
      "Processing Record 420 of Set 623 | northam\n",
      "Processing Record 421 of Set 623 | puerto ayacucho\n",
      "Processing Record 422 of Set 623 | kosonsoy\n",
      "Processing Record 423 of Set 623 | togur\n",
      "Processing Record 424 of Set 623 | kavieng\n",
      "Processing Record 425 of Set 623 | yulara\n",
      "Processing Record 426 of Set 623 | biak\n",
      "Processing Record 427 of Set 623 | rudnyy\n",
      "Processing Record 428 of Set 623 | poltavka\n",
      "Processing Record 429 of Set 623 | marrakesh\n",
      "Processing Record 430 of Set 623 | emerald\n",
      "Processing Record 431 of Set 623 | sterling\n",
      "Processing Record 432 of Set 623 | olafsvik\n",
      "Processing Record 433 of Set 623 | vallenar\n",
      "Processing Record 434 of Set 623 | zyryanka\n",
      "Processing Record 435 of Set 623 | arlit\n",
      "Processing Record 436 of Set 623 | basoko\n",
      "Processing Record 437 of Set 623 | paka\n",
      "Processing Record 438 of Set 623 | sur\n",
      "Processing Record 439 of Set 623 | vila frescainha\n",
      "Processing Record 440 of Set 623 | aragats\n",
      "Processing Record 441 of Set 623 | roma\n",
      "Processing Record 442 of Set 623 | satitoa\n",
      "Processing Record 443 of Set 623 | egvekinot\n",
      "Processing Record 444 of Set 623 | lata\n",
      "Processing Record 445 of Set 623 | solovetskiy\n",
      "Processing Record 446 of Set 623 | kautokeino\n",
      "Processing Record 447 of Set 623 | maraa\n",
      "Processing Record 448 of Set 623 | quelimane\n",
      "Processing Record 449 of Set 623 | shitanjing\n",
      "Processing Record 450 of Set 623 | moyamba\n",
      "Processing Record 451 of Set 623 | kyren\n",
      "Processing Record 452 of Set 623 | hermiston\n",
      "Processing Record 453 of Set 623 | ondjiva\n",
      "Processing Record 454 of Set 623 | taltal\n",
      "Processing Record 455 of Set 623 | lagoa\n",
      "Processing Record 456 of Set 623 | sabibah\n",
      "Processing Record 457 of Set 623 | sidi ali\n",
      "Processing Record 458 of Set 623 | narasannapeta\n",
      "Processing Record 459 of Set 623 | santa isabel do rio negro\n",
      "Processing Record 460 of Set 623 | zima\n",
      "Processing Record 461 of Set 623 | alma\n",
      "Processing Record 462 of Set 623 | la tuque\n",
      "Processing Record 463 of Set 623 | gizo\n",
      "Processing Record 464 of Set 623 | yerbogachen\n",
      "Processing Record 465 of Set 623 | brae\n",
      "Processing Record 466 of Set 623 | rawdon\n",
      "Processing Record 467 of Set 623 | lac du bonnet\n",
      "Processing Record 468 of Set 623 | aksarka\n",
      "Processing Record 469 of Set 623 | maua\n",
      "Processing Record 470 of Set 623 | avera\n",
      "Processing Record 471 of Set 623 | manggar\n",
      "Processing Record 472 of Set 623 | solnechnyy\n",
      "Processing Record 473 of Set 623 | las vegas\n",
      "Processing Record 474 of Set 623 | dong hoi\n",
      "Processing Record 475 of Set 623 | bolshoy tsaryn\n",
      "Processing Record 476 of Set 623 | nishihara\n",
      "Processing Record 477 of Set 623 | cockburn town\n",
      "Processing Record 478 of Set 623 | bonthe\n",
      "Processing Record 479 of Set 623 | peshkopi\n",
      "Processing Record 480 of Set 623 | mnogovershinnyy\n",
      "Processing Record 481 of Set 623 | oriximina\n",
      "Processing Record 482 of Set 623 | pierre\n",
      "Processing Record 483 of Set 623 | haikou\n",
      "Processing Record 484 of Set 623 | cunha\n",
      "Processing Record 485 of Set 623 | sola\n",
      "Processing Record 486 of Set 623 | ivanava\n",
      "Processing Record 487 of Set 623 | sommerda\n",
      "Processing Record 488 of Set 623 | sarkand\n",
      "Processing Record 489 of Set 623 | kulebaki\n",
      "Processing Record 490 of Set 623 | nenjiang\n",
      "Processing Record 491 of Set 623 | pacific grove\n",
      "Processing Record 492 of Set 623 | itai\n",
      "Processing Record 493 of Set 623 | aliquippa\n",
      "Processing Record 494 of Set 623 | wahran\n",
      "Processing Record 495 of Set 623 | yeppoon\n",
      "Processing Record 496 of Set 623 | tallahassee\n",
      "Processing Record 497 of Set 623 | henties bay\n",
      "Processing Record 498 of Set 623 | natal\n",
      "Processing Record 499 of Set 623 | khonuu\n",
      "Processing Record 500 of Set 623 | sopur\n",
      "Processing Record 501 of Set 623 | sumenep\n",
      "Processing Record 502 of Set 623 | tsabong\n",
      "Processing Record 503 of Set 623 | saint george\n",
      "Processing Record 504 of Set 623 | waingapu\n",
      "Processing Record 505 of Set 623 | boffa\n",
      "Processing Record 506 of Set 623 | buqayq\n",
      "Processing Record 507 of Set 623 | sao joao da barra\n",
      "Processing Record 508 of Set 623 | srednekolymsk\n",
      "Processing Record 509 of Set 623 | osypenko\n",
      "Processing Record 510 of Set 623 | wukari\n",
      "Processing Record 511 of Set 623 | rauma\n",
      "Processing Record 512 of Set 623 | nybro\n",
      "Processing Record 513 of Set 623 | anderson\n",
      "Processing Record 514 of Set 623 | moyale\n",
      "Processing Record 515 of Set 623 | rockport\n",
      "Processing Record 516 of Set 623 | luang prabang\n",
      "Processing Record 517 of Set 623 | port shepstone\n",
      "Processing Record 518 of Set 623 | calabazar de sagua\n",
      "Processing Record 519 of Set 623 | tonawanda\n",
      "Processing Record 520 of Set 623 | flinders\n",
      "Processing Record 521 of Set 623 | tashtyp\n",
      "Processing Record 522 of Set 623 | bousse\n",
      "Processing Record 523 of Set 623 | chapais\n",
      "Processing Record 524 of Set 623 | bayan\n",
      "Processing Record 525 of Set 623 | benguela\n",
      "Processing Record 526 of Set 623 | vrangel\n",
      "Processing Record 527 of Set 623 | mata\n",
      "Processing Record 528 of Set 623 | okha\n",
      "Processing Record 529 of Set 623 | gao\n",
      "Processing Record 530 of Set 623 | udachnyy\n",
      "Processing Record 531 of Set 623 | puerto el triunfo\n",
      "Processing Record 532 of Set 623 | moron\n",
      "Processing Record 533 of Set 623 | suzu\n",
      "Processing Record 534 of Set 623 | copiapo\n",
      "Processing Record 535 of Set 623 | muros\n",
      "Processing Record 536 of Set 623 | nelson bay\n",
      "Processing Record 537 of Set 623 | paita\n",
      "Processing Record 538 of Set 623 | semibratovo\n",
      "Processing Record 539 of Set 623 | havre-saint-pierre\n",
      "Processing Record 540 of Set 623 | delta del tigre\n",
      "Processing Record 541 of Set 623 | husavik\n",
      "Processing Record 542 of Set 623 | zachagansk\n",
      "Processing Record 543 of Set 623 | siverek\n",
      "Processing Record 544 of Set 623 | saint anthony\n",
      "Processing Record 545 of Set 623 | kidal\n",
      "Processing Record 546 of Set 623 | azimur\n",
      "Processing Record 547 of Set 623 | ambovombe\n",
      "Processing Record 548 of Set 623 | sechura\n",
      "Processing Record 549 of Set 623 | kavaratti\n",
      "Processing Record 550 of Set 623 | koulamoutou\n",
      "Processing Record 551 of Set 623 | konakovo\n",
      "Processing Record 552 of Set 623 | zapolyarnyy\n",
      "Processing Record 553 of Set 623 | miyang\n",
      "Processing Record 554 of Set 623 | rawson\n",
      "Processing Record 555 of Set 623 | ulaangom\n",
      "Processing Record 556 of Set 623 | erzin\n",
      "Processing Record 557 of Set 623 | kampot\n",
      "Processing Record 558 of Set 623 | puerto escondido\n",
      "Processing Record 559 of Set 623 | pemangkat\n"
     ]
    },
    {
     "name": "stdout",
     "output_type": "stream",
     "text": [
      "Processing Record 560 of Set 623 | bababe\n",
      "Processing Record 561 of Set 623 | dayong\n",
      "Processing Record 562 of Set 623 | shirokiy\n",
      "Processing Record 563 of Set 623 | amarwara\n",
      "Processing Record 564 of Set 623 | mmathubudukwane\n",
      "Processing Record 565 of Set 623 | siderno\n",
      "Processing Record 566 of Set 623 | huarmey\n",
      "Processing Record 567 of Set 623 | grand gaube\n",
      "Processing Record 568 of Set 623 | kloulklubed\n",
      "Processing Record 569 of Set 623 | mollendo\n",
      "Processing Record 570 of Set 623 | dzaoudzi\n",
      "Processing Record 571 of Set 623 | nome\n",
      "Processing Record 572 of Set 623 | aflu\n",
      "Processing Record 573 of Set 623 | muncar\n",
      "Processing Record 574 of Set 623 | beidao\n",
      "Processing Record 575 of Set 623 | verkhoyansk\n",
      "Processing Record 576 of Set 623 | bambanglipuro\n",
      "Processing Record 577 of Set 623 | grindavik\n",
      "Processing Record 578 of Set 623 | chara\n",
      "Processing Record 579 of Set 623 | ngukurr\n",
      "Processing Record 580 of Set 623 | wabana\n",
      "Processing Record 581 of Set 623 | sulangan\n",
      "Processing Record 582 of Set 623 | fowa\n",
      "Processing Record 583 of Set 623 | grand centre\n",
      "Processing Record 584 of Set 623 | cordoba\n",
      "Processing Record 585 of Set 623 | lucapa\n",
      "Processing Record 586 of Set 623 | sulphur springs\n",
      "Processing Record 587 of Set 623 | adamovka\n",
      "Processing Record 588 of Set 623 | russell\n",
      "Processing Record 589 of Set 623 | clonakilty\n",
      "Processing Record 590 of Set 623 | khunti\n",
      "Processing Record 591 of Set 623 | kuytun\n",
      "Processing Record 592 of Set 623 | bintulu\n",
      "Processing Record 593 of Set 623 | hirara\n",
      "Processing Record 594 of Set 623 | englewood\n",
      "Processing Record 595 of Set 623 | roald\n",
      "Processing Record 596 of Set 623 | bonavista\n",
      "Processing Record 597 of Set 623 | rawannawi\n",
      "Processing Record 598 of Set 623 | beruwala\n",
      "Processing Record 599 of Set 623 | aykhal\n",
      "Processing Record 600 of Set 623 | meilu\n",
      "Processing Record 601 of Set 623 | faya\n",
      "Processing Record 602 of Set 623 | daniel flores\n",
      "Processing Record 603 of Set 623 | felidhoo\n",
      "Processing Record 604 of Set 623 | quesnel\n",
      "Processing Record 605 of Set 623 | erdenet\n",
      "Processing Record 606 of Set 623 | bejar\n",
      "Processing Record 607 of Set 623 | yinchuan\n",
      "Processing Record 608 of Set 623 | vila franca do campo\n",
      "Processing Record 609 of Set 623 | utiroa\n",
      "Processing Record 610 of Set 623 | skibbereen\n",
      "Processing Record 611 of Set 623 | college\n",
      "Processing Record 612 of Set 623 | surt\n",
      "Processing Record 613 of Set 623 | pokaran\n",
      "Processing Record 614 of Set 623 | studena\n",
      "Processing Record 615 of Set 623 | longfeng\n",
      "Processing Record 616 of Set 623 | las choapas\n",
      "Processing Record 617 of Set 623 | mandal\n",
      "Processing Record 618 of Set 623 | butterworth\n",
      "Processing Record 619 of Set 623 | omboue\n",
      "Processing Record 620 of Set 623 | mergui\n",
      "Processing Record 621 of Set 623 | hami\n",
      "Processing Record 622 of Set 623 | turukhansk\n"
     ]
    },
    {
     "data": {
      "text/plain": [
       "623"
      ]
     },
     "execution_count": 8,
     "metadata": {},
     "output_type": "execute_result"
    }
   ],
   "source": [
    "#Weather key email: Please, use the endpoint api.openweathermap.org for your API calls\n",
    "#Example of API call:\n",
    "#api.openweathermap.org/data/2.5/weather?q=London,uk&APPID=7111648151b6cdb2d73c65bb4671e668\n",
    "url = \"http://api.openweathermap.org/data/2.5/weather?\"\n",
    "\n",
    "city_results = []\n",
    "\n",
    "unique_city = [\"goba\", \"London\"]\n",
    "\n",
    "#enumerate = retrieves item and the position of the item. Index = position, city = name of the item\n",
    "for index, city in enumerate(cities):\n",
    "    city_weather_url = \"{}q={}&APPID={}&units=imperial\".format(url, city, api.weather_api_key)\n",
    "    #print(city_weather_url)\n",
    "    #either\n",
    "    try:\n",
    "        ##print to see what is available/ where I'm at in the code dev (don't do all the cities pick unique city/(s)). If code is good change back to cities\n",
    "        print(\"Processing Record {} of Set {} | {}\".format(index, len(cities), city))\n",
    "        response = requests.get(city_weather_url).json()\n",
    "        city_results.append(response)\n",
    "    #or\n",
    "    except:\n",
    "        print(\"{} not found\".format(city))\n",
    "\n",
    "##print(city_results)\n",
    "len(city_results)\n",
    "    "
   ]
  },
  {
   "cell_type": "markdown",
   "metadata": {},
   "source": [
    "### Convert Raw Data to DataFrame\n",
    "* Export the city data into a .csv.\n",
    "* Display the DataFrame"
   ]
  },
  {
   "cell_type": "code",
   "execution_count": 244,
   "metadata": {},
   "outputs": [
    {
     "data": {
      "text/html": [
       "<div>\n",
       "<style scoped>\n",
       "    .dataframe tbody tr th:only-of-type {\n",
       "        vertical-align: middle;\n",
       "    }\n",
       "\n",
       "    .dataframe tbody tr th {\n",
       "        vertical-align: top;\n",
       "    }\n",
       "\n",
       "    .dataframe thead th {\n",
       "        text-align: right;\n",
       "    }\n",
       "</style>\n",
       "<table border=\"1\" class=\"dataframe\">\n",
       "  <thead>\n",
       "    <tr style=\"text-align: right;\">\n",
       "      <th></th>\n",
       "      <th>City</th>\n",
       "      <th>Lat</th>\n",
       "      <th>Lng</th>\n",
       "      <th>Max Temp</th>\n",
       "      <th>Humidity</th>\n",
       "      <th>Cloudiness</th>\n",
       "      <th>Wind Speed</th>\n",
       "      <th>Country</th>\n",
       "      <th>Date</th>\n",
       "    </tr>\n",
       "  </thead>\n",
       "  <tbody>\n",
       "    <tr>\n",
       "      <th>0</th>\n",
       "      <td>Punta Arenas</td>\n",
       "      <td>-53.1500</td>\n",
       "      <td>-70.9167</td>\n",
       "      <td>39.20</td>\n",
       "      <td>87</td>\n",
       "      <td>0</td>\n",
       "      <td>10.36</td>\n",
       "      <td>CL</td>\n",
       "      <td>1618453749</td>\n",
       "    </tr>\n",
       "    <tr>\n",
       "      <th>1</th>\n",
       "      <td>Fairbanks</td>\n",
       "      <td>64.8378</td>\n",
       "      <td>-147.7164</td>\n",
       "      <td>46.40</td>\n",
       "      <td>56</td>\n",
       "      <td>90</td>\n",
       "      <td>6.91</td>\n",
       "      <td>US</td>\n",
       "      <td>1618453479</td>\n",
       "    </tr>\n",
       "    <tr>\n",
       "      <th>2</th>\n",
       "      <td>Kapaa</td>\n",
       "      <td>22.0752</td>\n",
       "      <td>-159.3190</td>\n",
       "      <td>78.80</td>\n",
       "      <td>57</td>\n",
       "      <td>20</td>\n",
       "      <td>16.11</td>\n",
       "      <td>US</td>\n",
       "      <td>1618453749</td>\n",
       "    </tr>\n",
       "    <tr>\n",
       "      <th>3</th>\n",
       "      <td>Mataura</td>\n",
       "      <td>-46.1927</td>\n",
       "      <td>168.8643</td>\n",
       "      <td>62.01</td>\n",
       "      <td>73</td>\n",
       "      <td>38</td>\n",
       "      <td>5.99</td>\n",
       "      <td>NZ</td>\n",
       "      <td>1618453750</td>\n",
       "    </tr>\n",
       "    <tr>\n",
       "      <th>4</th>\n",
       "      <td>Coquimbo</td>\n",
       "      <td>-29.9533</td>\n",
       "      <td>-71.3436</td>\n",
       "      <td>59.00</td>\n",
       "      <td>88</td>\n",
       "      <td>90</td>\n",
       "      <td>1.14</td>\n",
       "      <td>CL</td>\n",
       "      <td>1618453463</td>\n",
       "    </tr>\n",
       "    <tr>\n",
       "      <th>...</th>\n",
       "      <td>...</td>\n",
       "      <td>...</td>\n",
       "      <td>...</td>\n",
       "      <td>...</td>\n",
       "      <td>...</td>\n",
       "      <td>...</td>\n",
       "      <td>...</td>\n",
       "      <td>...</td>\n",
       "      <td>...</td>\n",
       "    </tr>\n",
       "    <tr>\n",
       "      <th>533</th>\n",
       "      <td>Hualmay</td>\n",
       "      <td>-11.0964</td>\n",
       "      <td>-77.6139</td>\n",
       "      <td>66.56</td>\n",
       "      <td>85</td>\n",
       "      <td>86</td>\n",
       "      <td>7.09</td>\n",
       "      <td>PE</td>\n",
       "      <td>1618453972</td>\n",
       "    </tr>\n",
       "    <tr>\n",
       "      <th>534</th>\n",
       "      <td>Esmeraldas</td>\n",
       "      <td>-19.7625</td>\n",
       "      <td>-44.3139</td>\n",
       "      <td>68.00</td>\n",
       "      <td>68</td>\n",
       "      <td>0</td>\n",
       "      <td>11.50</td>\n",
       "      <td>BR</td>\n",
       "      <td>1618453840</td>\n",
       "    </tr>\n",
       "    <tr>\n",
       "      <th>535</th>\n",
       "      <td>Gayéri</td>\n",
       "      <td>12.6497</td>\n",
       "      <td>0.4931</td>\n",
       "      <td>86.11</td>\n",
       "      <td>26</td>\n",
       "      <td>56</td>\n",
       "      <td>4.83</td>\n",
       "      <td>BF</td>\n",
       "      <td>1618453972</td>\n",
       "    </tr>\n",
       "    <tr>\n",
       "      <th>536</th>\n",
       "      <td>Pindi Bhattian</td>\n",
       "      <td>31.8978</td>\n",
       "      <td>73.2730</td>\n",
       "      <td>82.72</td>\n",
       "      <td>29</td>\n",
       "      <td>93</td>\n",
       "      <td>10.13</td>\n",
       "      <td>PK</td>\n",
       "      <td>1618453972</td>\n",
       "    </tr>\n",
       "    <tr>\n",
       "      <th>537</th>\n",
       "      <td>Searcy</td>\n",
       "      <td>35.2506</td>\n",
       "      <td>-91.7363</td>\n",
       "      <td>53.60</td>\n",
       "      <td>87</td>\n",
       "      <td>1</td>\n",
       "      <td>2.01</td>\n",
       "      <td>US</td>\n",
       "      <td>1618453973</td>\n",
       "    </tr>\n",
       "  </tbody>\n",
       "</table>\n",
       "<p>538 rows × 9 columns</p>\n",
       "</div>"
      ],
      "text/plain": [
       "               City      Lat       Lng  Max Temp  Humidity  Cloudiness  \\\n",
       "0      Punta Arenas -53.1500  -70.9167     39.20        87           0   \n",
       "1         Fairbanks  64.8378 -147.7164     46.40        56          90   \n",
       "2             Kapaa  22.0752 -159.3190     78.80        57          20   \n",
       "3           Mataura -46.1927  168.8643     62.01        73          38   \n",
       "4          Coquimbo -29.9533  -71.3436     59.00        88          90   \n",
       "..              ...      ...       ...       ...       ...         ...   \n",
       "533         Hualmay -11.0964  -77.6139     66.56        85          86   \n",
       "534      Esmeraldas -19.7625  -44.3139     68.00        68           0   \n",
       "535          Gayéri  12.6497    0.4931     86.11        26          56   \n",
       "536  Pindi Bhattian  31.8978   73.2730     82.72        29          93   \n",
       "537          Searcy  35.2506  -91.7363     53.60        87           1   \n",
       "\n",
       "     Wind Speed Country        Date  \n",
       "0         10.36      CL  1618453749  \n",
       "1          6.91      US  1618453479  \n",
       "2         16.11      US  1618453749  \n",
       "3          5.99      NZ  1618453750  \n",
       "4          1.14      CL  1618453463  \n",
       "..          ...     ...         ...  \n",
       "533        7.09      PE  1618453972  \n",
       "534       11.50      BR  1618453840  \n",
       "535        4.83      BF  1618453972  \n",
       "536       10.13      PK  1618453972  \n",
       "537        2.01      US  1618453973  \n",
       "\n",
       "[538 rows x 9 columns]"
      ]
     },
     "execution_count": 244,
     "metadata": {},
     "output_type": "execute_result"
    }
   ],
   "source": [
    "#new loop on the city_results \n",
    "table_results = []\n",
    "\n",
    "bad_results = []\n",
    "\n",
    "#{\"coord\":{\"lon\":-70.9167,\"lat\":-53.15},\"weather\":[{\"id\":500,\"main\":\"Rain\",\"description\":\"light rain\",\"icon\":\"10d\"}],\n",
    "#\"base\":\"stations\",\"main\":{\"temp\":278.92,\"feels_like\":273.82,\"temp_min\":278.71,\"temp_max\":279.15,\"pressure\":993,\"humidity\":81},\n",
    "#\"visibility\":10000,\"wind\":{\"speed\":9.77,\"deg\":300,\"gust\":14.92},\"clouds\":{\"all\":75},\"dt\":1618435659,\n",
    "#\"sys\":{\"type\":1,\"id\":8487,\"country\":\"CL\",\"sunrise\":1618399788,\"sunset\":1618437449},\n",
    "#\"timezone\":-10800,\"id\":3874787,\"name\":\"Punta Arenas\",\"cod\":200}\n",
    "\n",
    "\n",
    "for result in city_results:\n",
    "   #if \"name\" in result:\n",
    "    if int(result[\"cod\"]) == 200:     \n",
    "        city_name = result[\"name\"]\n",
    "        city_latitude = result[\"coord\"][\"lat\"]\n",
    "        city_longitude = result[\"coord\"][\"lon\"]\n",
    "        city_maxtemp = result[\"main\"][\"temp_max\"]\n",
    "        city_humidity = result[\"main\"][\"humidity\"]\n",
    "        city_cloud = result[\"clouds\"][\"all\"]\n",
    "        city_wind = result[\"wind\"][\"speed\"]\n",
    "        city_country = result[\"sys\"][\"country\"]\n",
    "        city_date = result[\"dt\"]\n",
    "        #create a dictionary with the items\n",
    "        city_dict = {\n",
    "            \"City\": city_name, \n",
    "            \"Lat\": city_latitude, \n",
    "            \"Lng\": city_longitude, \n",
    "            \"Max Temp\": city_maxtemp, \n",
    "            \"Humidity\": city_humidity, \n",
    "            \"Cloudiness\": city_cloud, \n",
    "            \"Wind Speed\": city_wind, \n",
    "            \"Country\": city_country, \n",
    "            \"Date\": city_date\n",
    "        }\n",
    "        table_results.append(city_dict)\n",
    "    \n",
    "    else: \n",
    "        bad_results.append(result)\n",
    "        \n",
    "len(table_results)\n",
    "#bad_results[0]\n",
    "\n",
    "table_results_df = pd.DataFrame(table_results)\n",
    "table_results_df"
   ]
  },
  {
   "cell_type": "code",
   "execution_count": 355,
   "metadata": {},
   "outputs": [],
   "source": [
    "#export to csv\n",
    "table_results_df.to_csv('city_weather.csv')"
   ]
  },
  {
   "cell_type": "code",
   "execution_count": 356,
   "metadata": {},
   "outputs": [
    {
     "data": {
      "text/html": [
       "<div>\n",
       "<style scoped>\n",
       "    .dataframe tbody tr th:only-of-type {\n",
       "        vertical-align: middle;\n",
       "    }\n",
       "\n",
       "    .dataframe tbody tr th {\n",
       "        vertical-align: top;\n",
       "    }\n",
       "\n",
       "    .dataframe thead th {\n",
       "        text-align: right;\n",
       "    }\n",
       "</style>\n",
       "<table border=\"1\" class=\"dataframe\">\n",
       "  <thead>\n",
       "    <tr style=\"text-align: right;\">\n",
       "      <th></th>\n",
       "      <th>Lat</th>\n",
       "      <th>Lng</th>\n",
       "      <th>Max Temp</th>\n",
       "      <th>Humidity</th>\n",
       "      <th>Cloudiness</th>\n",
       "      <th>Wind Speed</th>\n",
       "      <th>Date</th>\n",
       "    </tr>\n",
       "  </thead>\n",
       "  <tbody>\n",
       "    <tr>\n",
       "      <th>count</th>\n",
       "      <td>538.000000</td>\n",
       "      <td>538.000000</td>\n",
       "      <td>538.000000</td>\n",
       "      <td>538.000000</td>\n",
       "      <td>538.000000</td>\n",
       "      <td>538.000000</td>\n",
       "      <td>5.380000e+02</td>\n",
       "    </tr>\n",
       "    <tr>\n",
       "      <th>mean</th>\n",
       "      <td>21.619014</td>\n",
       "      <td>16.127382</td>\n",
       "      <td>57.629926</td>\n",
       "      <td>68.091078</td>\n",
       "      <td>52.459108</td>\n",
       "      <td>7.901989</td>\n",
       "      <td>1.618454e+09</td>\n",
       "    </tr>\n",
       "    <tr>\n",
       "      <th>std</th>\n",
       "      <td>33.895367</td>\n",
       "      <td>90.498884</td>\n",
       "      <td>21.328226</td>\n",
       "      <td>23.254664</td>\n",
       "      <td>38.267013</td>\n",
       "      <td>5.730605</td>\n",
       "      <td>9.039720e+01</td>\n",
       "    </tr>\n",
       "    <tr>\n",
       "      <th>min</th>\n",
       "      <td>-54.800000</td>\n",
       "      <td>-179.166700</td>\n",
       "      <td>-14.120000</td>\n",
       "      <td>6.000000</td>\n",
       "      <td>0.000000</td>\n",
       "      <td>0.250000</td>\n",
       "      <td>1.618453e+09</td>\n",
       "    </tr>\n",
       "    <tr>\n",
       "      <th>25%</th>\n",
       "      <td>-8.114325</td>\n",
       "      <td>-62.793350</td>\n",
       "      <td>42.090000</td>\n",
       "      <td>55.000000</td>\n",
       "      <td>15.000000</td>\n",
       "      <td>3.675000</td>\n",
       "      <td>1.618454e+09</td>\n",
       "    </tr>\n",
       "    <tr>\n",
       "      <th>50%</th>\n",
       "      <td>29.435250</td>\n",
       "      <td>18.974900</td>\n",
       "      <td>60.745000</td>\n",
       "      <td>73.500000</td>\n",
       "      <td>54.500000</td>\n",
       "      <td>6.540000</td>\n",
       "      <td>1.618454e+09</td>\n",
       "    </tr>\n",
       "    <tr>\n",
       "      <th>75%</th>\n",
       "      <td>50.543525</td>\n",
       "      <td>95.926925</td>\n",
       "      <td>75.480000</td>\n",
       "      <td>87.000000</td>\n",
       "      <td>90.000000</td>\n",
       "      <td>10.405000</td>\n",
       "      <td>1.618454e+09</td>\n",
       "    </tr>\n",
       "    <tr>\n",
       "      <th>max</th>\n",
       "      <td>78.218600</td>\n",
       "      <td>179.316700</td>\n",
       "      <td>91.400000</td>\n",
       "      <td>100.000000</td>\n",
       "      <td>100.000000</td>\n",
       "      <td>38.990000</td>\n",
       "      <td>1.618454e+09</td>\n",
       "    </tr>\n",
       "  </tbody>\n",
       "</table>\n",
       "</div>"
      ],
      "text/plain": [
       "              Lat         Lng    Max Temp    Humidity  Cloudiness  Wind Speed  \\\n",
       "count  538.000000  538.000000  538.000000  538.000000  538.000000  538.000000   \n",
       "mean    21.619014   16.127382   57.629926   68.091078   52.459108    7.901989   \n",
       "std     33.895367   90.498884   21.328226   23.254664   38.267013    5.730605   \n",
       "min    -54.800000 -179.166700  -14.120000    6.000000    0.000000    0.250000   \n",
       "25%     -8.114325  -62.793350   42.090000   55.000000   15.000000    3.675000   \n",
       "50%     29.435250   18.974900   60.745000   73.500000   54.500000    6.540000   \n",
       "75%     50.543525   95.926925   75.480000   87.000000   90.000000   10.405000   \n",
       "max     78.218600  179.316700   91.400000  100.000000  100.000000   38.990000   \n",
       "\n",
       "               Date  \n",
       "count  5.380000e+02  \n",
       "mean   1.618454e+09  \n",
       "std    9.039720e+01  \n",
       "min    1.618453e+09  \n",
       "25%    1.618454e+09  \n",
       "50%    1.618454e+09  \n",
       "75%    1.618454e+09  \n",
       "max    1.618454e+09  "
      ]
     },
     "execution_count": 356,
     "metadata": {},
     "output_type": "execute_result"
    }
   ],
   "source": [
    "#describe only works on numeric columns\n",
    "table_results_df.describe()\n",
    "#table_results_df.value_counts()\n",
    "#table_results_df[\"Max Temp\"].value_counts()\n",
    "#table_results_df.info()"
   ]
  },
  {
   "cell_type": "markdown",
   "metadata": {},
   "source": [
    "## Inspect the data and remove the cities where the humidity > 100%.\n",
    "----\n",
    "Skip this step if there are no cities that have humidity > 100%. "
   ]
  },
  {
   "cell_type": "code",
   "execution_count": 6,
   "metadata": {},
   "outputs": [
    {
     "data": {
      "text/html": [
       "<div>\n",
       "<style scoped>\n",
       "    .dataframe tbody tr th:only-of-type {\n",
       "        vertical-align: middle;\n",
       "    }\n",
       "\n",
       "    .dataframe tbody tr th {\n",
       "        vertical-align: top;\n",
       "    }\n",
       "\n",
       "    .dataframe thead th {\n",
       "        text-align: right;\n",
       "    }\n",
       "</style>\n",
       "<table border=\"1\" class=\"dataframe\">\n",
       "  <thead>\n",
       "    <tr style=\"text-align: right;\">\n",
       "      <th></th>\n",
       "      <th>Lat</th>\n",
       "      <th>Lng</th>\n",
       "      <th>Max Temp</th>\n",
       "      <th>Humidity</th>\n",
       "      <th>Cloudiness</th>\n",
       "      <th>Wind Speed</th>\n",
       "      <th>Date</th>\n",
       "    </tr>\n",
       "  </thead>\n",
       "  <tbody>\n",
       "    <tr>\n",
       "      <th>count</th>\n",
       "      <td>550.000000</td>\n",
       "      <td>550.000000</td>\n",
       "      <td>550.000000</td>\n",
       "      <td>550.000000</td>\n",
       "      <td>550.000000</td>\n",
       "      <td>550.000000</td>\n",
       "      <td>5.500000e+02</td>\n",
       "    </tr>\n",
       "    <tr>\n",
       "      <th>mean</th>\n",
       "      <td>19.973545</td>\n",
       "      <td>17.124400</td>\n",
       "      <td>58.331400</td>\n",
       "      <td>67.890909</td>\n",
       "      <td>52.141818</td>\n",
       "      <td>8.544800</td>\n",
       "      <td>1.585764e+09</td>\n",
       "    </tr>\n",
       "    <tr>\n",
       "      <th>std</th>\n",
       "      <td>33.284840</td>\n",
       "      <td>91.595451</td>\n",
       "      <td>25.795297</td>\n",
       "      <td>20.864881</td>\n",
       "      <td>35.766469</td>\n",
       "      <td>6.078869</td>\n",
       "      <td>5.539674e+01</td>\n",
       "    </tr>\n",
       "    <tr>\n",
       "      <th>min</th>\n",
       "      <td>-54.800000</td>\n",
       "      <td>-179.170000</td>\n",
       "      <td>-11.340000</td>\n",
       "      <td>9.000000</td>\n",
       "      <td>0.000000</td>\n",
       "      <td>0.160000</td>\n",
       "      <td>1.585764e+09</td>\n",
       "    </tr>\n",
       "    <tr>\n",
       "      <th>25%</th>\n",
       "      <td>-8.077500</td>\n",
       "      <td>-64.627500</td>\n",
       "      <td>42.800000</td>\n",
       "      <td>55.000000</td>\n",
       "      <td>20.000000</td>\n",
       "      <td>4.525000</td>\n",
       "      <td>1.585764e+09</td>\n",
       "    </tr>\n",
       "    <tr>\n",
       "      <th>50%</th>\n",
       "      <td>23.630000</td>\n",
       "      <td>19.635000</td>\n",
       "      <td>64.940000</td>\n",
       "      <td>72.000000</td>\n",
       "      <td>57.000000</td>\n",
       "      <td>7.325000</td>\n",
       "      <td>1.585764e+09</td>\n",
       "    </tr>\n",
       "    <tr>\n",
       "      <th>75%</th>\n",
       "      <td>48.672500</td>\n",
       "      <td>97.350000</td>\n",
       "      <td>78.800000</td>\n",
       "      <td>83.000000</td>\n",
       "      <td>86.750000</td>\n",
       "      <td>11.410000</td>\n",
       "      <td>1.585764e+09</td>\n",
       "    </tr>\n",
       "    <tr>\n",
       "      <th>max</th>\n",
       "      <td>78.220000</td>\n",
       "      <td>179.320000</td>\n",
       "      <td>102.200000</td>\n",
       "      <td>100.000000</td>\n",
       "      <td>100.000000</td>\n",
       "      <td>46.080000</td>\n",
       "      <td>1.585764e+09</td>\n",
       "    </tr>\n",
       "  </tbody>\n",
       "</table>\n",
       "</div>"
      ],
      "text/plain": [
       "              Lat         Lng    Max Temp    Humidity  Cloudiness  Wind Speed  \\\n",
       "count  550.000000  550.000000  550.000000  550.000000  550.000000  550.000000   \n",
       "mean    19.973545   17.124400   58.331400   67.890909   52.141818    8.544800   \n",
       "std     33.284840   91.595451   25.795297   20.864881   35.766469    6.078869   \n",
       "min    -54.800000 -179.170000  -11.340000    9.000000    0.000000    0.160000   \n",
       "25%     -8.077500  -64.627500   42.800000   55.000000   20.000000    4.525000   \n",
       "50%     23.630000   19.635000   64.940000   72.000000   57.000000    7.325000   \n",
       "75%     48.672500   97.350000   78.800000   83.000000   86.750000   11.410000   \n",
       "max     78.220000  179.320000  102.200000  100.000000  100.000000   46.080000   \n",
       "\n",
       "               Date  \n",
       "count  5.500000e+02  \n",
       "mean   1.585764e+09  \n",
       "std    5.539674e+01  \n",
       "min    1.585764e+09  \n",
       "25%    1.585764e+09  \n",
       "50%    1.585764e+09  \n",
       "75%    1.585764e+09  \n",
       "max    1.585764e+09  "
      ]
     },
     "execution_count": 6,
     "metadata": {},
     "output_type": "execute_result"
    }
   ],
   "source": [
    "#homework example - don't run code"
   ]
  },
  {
   "cell_type": "code",
   "execution_count": 357,
   "metadata": {},
   "outputs": [
    {
     "data": {
      "text/plain": [
       "88    23\n",
       "94    20\n",
       "93    17\n",
       "81    16\n",
       "71    15\n",
       "      ..\n",
       "35     1\n",
       "24     1\n",
       "44     1\n",
       "41     1\n",
       "6      1\n",
       "Name: Humidity, Length: 90, dtype: int64"
      ]
     },
     "execution_count": 357,
     "metadata": {},
     "output_type": "execute_result"
    }
   ],
   "source": [
    "#look for cities and humidity - check to see if there are any cities with humidity less than 100%\n",
    "table_results_df.Humidity.value_counts()"
   ]
  },
  {
   "cell_type": "code",
   "execution_count": 359,
   "metadata": {},
   "outputs": [
    {
     "data": {
      "text/html": [
       "<div>\n",
       "<style scoped>\n",
       "    .dataframe tbody tr th:only-of-type {\n",
       "        vertical-align: middle;\n",
       "    }\n",
       "\n",
       "    .dataframe tbody tr th {\n",
       "        vertical-align: top;\n",
       "    }\n",
       "\n",
       "    .dataframe thead th {\n",
       "        text-align: right;\n",
       "    }\n",
       "</style>\n",
       "<table border=\"1\" class=\"dataframe\">\n",
       "  <thead>\n",
       "    <tr style=\"text-align: right;\">\n",
       "      <th></th>\n",
       "      <th>Lat</th>\n",
       "      <th>Lng</th>\n",
       "      <th>Max Temp</th>\n",
       "      <th>Humidity</th>\n",
       "      <th>Cloudiness</th>\n",
       "      <th>Wind Speed</th>\n",
       "      <th>Date</th>\n",
       "    </tr>\n",
       "  </thead>\n",
       "  <tbody>\n",
       "    <tr>\n",
       "      <th>count</th>\n",
       "      <td>538.000000</td>\n",
       "      <td>538.000000</td>\n",
       "      <td>538.000000</td>\n",
       "      <td>538.000000</td>\n",
       "      <td>538.000000</td>\n",
       "      <td>538.000000</td>\n",
       "      <td>5.380000e+02</td>\n",
       "    </tr>\n",
       "    <tr>\n",
       "      <th>mean</th>\n",
       "      <td>21.619014</td>\n",
       "      <td>16.127382</td>\n",
       "      <td>57.629926</td>\n",
       "      <td>68.091078</td>\n",
       "      <td>52.459108</td>\n",
       "      <td>7.901989</td>\n",
       "      <td>1.618454e+09</td>\n",
       "    </tr>\n",
       "    <tr>\n",
       "      <th>std</th>\n",
       "      <td>33.895367</td>\n",
       "      <td>90.498884</td>\n",
       "      <td>21.328226</td>\n",
       "      <td>23.254664</td>\n",
       "      <td>38.267013</td>\n",
       "      <td>5.730605</td>\n",
       "      <td>9.039720e+01</td>\n",
       "    </tr>\n",
       "    <tr>\n",
       "      <th>min</th>\n",
       "      <td>-54.800000</td>\n",
       "      <td>-179.166700</td>\n",
       "      <td>-14.120000</td>\n",
       "      <td>6.000000</td>\n",
       "      <td>0.000000</td>\n",
       "      <td>0.250000</td>\n",
       "      <td>1.618453e+09</td>\n",
       "    </tr>\n",
       "    <tr>\n",
       "      <th>25%</th>\n",
       "      <td>-8.114325</td>\n",
       "      <td>-62.793350</td>\n",
       "      <td>42.090000</td>\n",
       "      <td>55.000000</td>\n",
       "      <td>15.000000</td>\n",
       "      <td>3.675000</td>\n",
       "      <td>1.618454e+09</td>\n",
       "    </tr>\n",
       "    <tr>\n",
       "      <th>50%</th>\n",
       "      <td>29.435250</td>\n",
       "      <td>18.974900</td>\n",
       "      <td>60.745000</td>\n",
       "      <td>73.500000</td>\n",
       "      <td>54.500000</td>\n",
       "      <td>6.540000</td>\n",
       "      <td>1.618454e+09</td>\n",
       "    </tr>\n",
       "    <tr>\n",
       "      <th>75%</th>\n",
       "      <td>50.543525</td>\n",
       "      <td>95.926925</td>\n",
       "      <td>75.480000</td>\n",
       "      <td>87.000000</td>\n",
       "      <td>90.000000</td>\n",
       "      <td>10.405000</td>\n",
       "      <td>1.618454e+09</td>\n",
       "    </tr>\n",
       "    <tr>\n",
       "      <th>max</th>\n",
       "      <td>78.218600</td>\n",
       "      <td>179.316700</td>\n",
       "      <td>91.400000</td>\n",
       "      <td>100.000000</td>\n",
       "      <td>100.000000</td>\n",
       "      <td>38.990000</td>\n",
       "      <td>1.618454e+09</td>\n",
       "    </tr>\n",
       "  </tbody>\n",
       "</table>\n",
       "</div>"
      ],
      "text/plain": [
       "              Lat         Lng    Max Temp    Humidity  Cloudiness  Wind Speed  \\\n",
       "count  538.000000  538.000000  538.000000  538.000000  538.000000  538.000000   \n",
       "mean    21.619014   16.127382   57.629926   68.091078   52.459108    7.901989   \n",
       "std     33.895367   90.498884   21.328226   23.254664   38.267013    5.730605   \n",
       "min    -54.800000 -179.166700  -14.120000    6.000000    0.000000    0.250000   \n",
       "25%     -8.114325  -62.793350   42.090000   55.000000   15.000000    3.675000   \n",
       "50%     29.435250   18.974900   60.745000   73.500000   54.500000    6.540000   \n",
       "75%     50.543525   95.926925   75.480000   87.000000   90.000000   10.405000   \n",
       "max     78.218600  179.316700   91.400000  100.000000  100.000000   38.990000   \n",
       "\n",
       "               Date  \n",
       "count  5.380000e+02  \n",
       "mean   1.618454e+09  \n",
       "std    9.039720e+01  \n",
       "min    1.618453e+09  \n",
       "25%    1.618454e+09  \n",
       "50%    1.618454e+09  \n",
       "75%    1.618454e+09  \n",
       "max    1.618454e+09  "
      ]
     },
     "execution_count": 359,
     "metadata": {},
     "output_type": "execute_result"
    }
   ],
   "source": [
    "#table_results_df.value_counts()\n",
    "#table_results_df.info()\n",
    "\n",
    "#Inspect the data and remove the cities where the humidity > 100%.\n",
    "table_results_df[table_results_df.Humidity <= 100].describe()"
   ]
  },
  {
   "cell_type": "code",
   "execution_count": 360,
   "metadata": {},
   "outputs": [
    {
     "data": {
      "text/plain": [
       "Int64Index([9, 100, 125, 171, 195, 199, 235, 323, 445, 459, 506], dtype='int64')"
      ]
     },
     "execution_count": 360,
     "metadata": {},
     "output_type": "execute_result"
    }
   ],
   "source": [
    "#  Get the indices of cities that have humidity over 100%.\n",
    "#table_results_df.Humidity.index\n",
    "table_results_df[table_results_df.Humidity >= 100].index"
   ]
  },
  {
   "cell_type": "code",
   "execution_count": 19,
   "metadata": {},
   "outputs": [
    {
     "data": {
      "text/html": [
       "<div>\n",
       "<style scoped>\n",
       "    .dataframe tbody tr th:only-of-type {\n",
       "        vertical-align: middle;\n",
       "    }\n",
       "\n",
       "    .dataframe tbody tr th {\n",
       "        vertical-align: top;\n",
       "    }\n",
       "\n",
       "    .dataframe thead th {\n",
       "        text-align: right;\n",
       "    }\n",
       "</style>\n",
       "<table border=\"1\" class=\"dataframe\">\n",
       "  <thead>\n",
       "    <tr style=\"text-align: right;\">\n",
       "      <th></th>\n",
       "      <th>City</th>\n",
       "      <th>Lat</th>\n",
       "      <th>Lng</th>\n",
       "      <th>Max Temp</th>\n",
       "      <th>Humidity</th>\n",
       "      <th>Cloudiness</th>\n",
       "      <th>Wind Speed</th>\n",
       "      <th>Country</th>\n",
       "      <th>Date</th>\n",
       "    </tr>\n",
       "  </thead>\n",
       "  <tbody>\n",
       "    <tr>\n",
       "      <td>0</td>\n",
       "      <td>butaritari</td>\n",
       "      <td>3.07</td>\n",
       "      <td>172.79</td>\n",
       "      <td>83.32</td>\n",
       "      <td>74</td>\n",
       "      <td>84</td>\n",
       "      <td>10.42</td>\n",
       "      <td>KI</td>\n",
       "      <td>1593605283</td>\n",
       "    </tr>\n",
       "    <tr>\n",
       "      <td>1</td>\n",
       "      <td>yerbogachen</td>\n",
       "      <td>61.28</td>\n",
       "      <td>108.01</td>\n",
       "      <td>79.52</td>\n",
       "      <td>58</td>\n",
       "      <td>20</td>\n",
       "      <td>7.70</td>\n",
       "      <td>RU</td>\n",
       "      <td>1593605121</td>\n",
       "    </tr>\n",
       "    <tr>\n",
       "      <td>2</td>\n",
       "      <td>cape town</td>\n",
       "      <td>-33.93</td>\n",
       "      <td>18.42</td>\n",
       "      <td>73.00</td>\n",
       "      <td>77</td>\n",
       "      <td>27</td>\n",
       "      <td>4.70</td>\n",
       "      <td>ZA</td>\n",
       "      <td>1593605039</td>\n",
       "    </tr>\n",
       "    <tr>\n",
       "      <td>3</td>\n",
       "      <td>touba</td>\n",
       "      <td>8.28</td>\n",
       "      <td>-7.68</td>\n",
       "      <td>79.97</td>\n",
       "      <td>75</td>\n",
       "      <td>82</td>\n",
       "      <td>3.58</td>\n",
       "      <td>CI</td>\n",
       "      <td>1593605284</td>\n",
       "    </tr>\n",
       "    <tr>\n",
       "      <td>4</td>\n",
       "      <td>jamestown</td>\n",
       "      <td>42.10</td>\n",
       "      <td>-79.24</td>\n",
       "      <td>64.00</td>\n",
       "      <td>88</td>\n",
       "      <td>1</td>\n",
       "      <td>6.93</td>\n",
       "      <td>US</td>\n",
       "      <td>1593605284</td>\n",
       "    </tr>\n",
       "  </tbody>\n",
       "</table>\n",
       "</div>"
      ],
      "text/plain": [
       "          City    Lat     Lng  Max Temp  Humidity  Cloudiness  Wind Speed  \\\n",
       "0   butaritari   3.07  172.79     83.32        74          84       10.42   \n",
       "1  yerbogachen  61.28  108.01     79.52        58          20        7.70   \n",
       "2    cape town -33.93   18.42     73.00        77          27        4.70   \n",
       "3        touba   8.28   -7.68     79.97        75          82        3.58   \n",
       "4    jamestown  42.10  -79.24     64.00        88           1        6.93   \n",
       "\n",
       "  Country        Date  \n",
       "0      KI  1593605283  \n",
       "1      RU  1593605121  \n",
       "2      ZA  1593605039  \n",
       "3      CI  1593605284  \n",
       "4      US  1593605284  "
      ]
     },
     "execution_count": 19,
     "metadata": {},
     "output_type": "execute_result"
    }
   ],
   "source": [
    "# Make a new DataFrame equal to the city data to drop all humidity outliers by index.\n",
    "# Passing \"inplace=False\" will make a copy of the city_data DataFrame, which we call \"clean_city_data\".\n",
    "#DON'T RUN THIS CODE - HOMEWORK EXAMPLE"
   ]
  },
  {
   "cell_type": "code",
   "execution_count": 361,
   "metadata": {},
   "outputs": [
    {
     "name": "stdout",
     "output_type": "stream",
     "text": [
      "The lower quartile of humidity is: 55.0\n",
      "The upper quartile of humidity is: 87.0\n",
      "The interquartile range of humidity is: 32.0\n",
      "The the median of humidity is: 73.5 \n",
      "Values below 7.0 could be outliers.\n",
      "Values above 135.0 could be outliers.\n"
     ]
    }
   ],
   "source": [
    "# Make a new DataFrame equal to the city data to drop all humidity outliers by index.\n",
    "# Passing \"inplace=False\" will make a copy of the city_data DataFrame, which we call \"clean_city_data\".\n",
    "\n",
    "#no_outliers_df = table_results_df(np.random.randn(538, 3))\n",
    "#no_outliers_df\n",
    "                              \n",
    "#table_results_df[(np.abs(stats.zscore(table_results_df.Humidity)) < 3)]\n",
    "#z_scipy = stats.zscore(table_results_df.Humidity)\n",
    "#z_scipy\n",
    "    \n",
    "quartiles = table_results_df.Humidity.quantile([.25,.5,.75])\n",
    "lowerq = quartiles[0.25]\n",
    "upperq = quartiles[0.75]\n",
    "iqr = upperq-lowerq\n",
    "\n",
    "print(f\"The lower quartile of humidity is: {lowerq}\")\n",
    "print(f\"The upper quartile of humidity is: {upperq}\")\n",
    "print(f\"The interquartile range of humidity is: {iqr}\")\n",
    "print(f\"The the median of humidity is: {quartiles[0.5]} \")\n",
    "\n",
    "lower_bound = lowerq - (1.5*iqr)\n",
    "upper_bound = upperq + (1.5*iqr)\n",
    "print(f\"Values below {lower_bound} could be outliers.\")\n",
    "print(f\"Values above {upper_bound} could be outliers.\")\n",
    "\n",
    "#outlier_humidity = table_results_df.loc[(table_results_df.Humidity < lower_bound) | (table_results_df.Humidity > upper_bound)]\n",
    "#outlier_humidity"
   ]
  },
  {
   "cell_type": "code",
   "execution_count": 362,
   "metadata": {},
   "outputs": [
    {
     "data": {
      "text/html": [
       "<div>\n",
       "<style scoped>\n",
       "    .dataframe tbody tr th:only-of-type {\n",
       "        vertical-align: middle;\n",
       "    }\n",
       "\n",
       "    .dataframe tbody tr th {\n",
       "        vertical-align: top;\n",
       "    }\n",
       "\n",
       "    .dataframe thead th {\n",
       "        text-align: right;\n",
       "    }\n",
       "</style>\n",
       "<table border=\"1\" class=\"dataframe\">\n",
       "  <thead>\n",
       "    <tr style=\"text-align: right;\">\n",
       "      <th></th>\n",
       "      <th>City</th>\n",
       "      <th>Lat</th>\n",
       "      <th>Lng</th>\n",
       "      <th>Max Temp</th>\n",
       "      <th>Humidity</th>\n",
       "      <th>Cloudiness</th>\n",
       "      <th>Wind Speed</th>\n",
       "      <th>Country</th>\n",
       "      <th>Date</th>\n",
       "    </tr>\n",
       "  </thead>\n",
       "  <tbody>\n",
       "    <tr>\n",
       "      <th>0</th>\n",
       "      <td>Punta Arenas</td>\n",
       "      <td>-53.1500</td>\n",
       "      <td>-70.9167</td>\n",
       "      <td>39.20</td>\n",
       "      <td>87</td>\n",
       "      <td>0</td>\n",
       "      <td>10.36</td>\n",
       "      <td>CL</td>\n",
       "      <td>1618453749</td>\n",
       "    </tr>\n",
       "    <tr>\n",
       "      <th>1</th>\n",
       "      <td>Fairbanks</td>\n",
       "      <td>64.8378</td>\n",
       "      <td>-147.7164</td>\n",
       "      <td>46.40</td>\n",
       "      <td>56</td>\n",
       "      <td>90</td>\n",
       "      <td>6.91</td>\n",
       "      <td>US</td>\n",
       "      <td>1618453479</td>\n",
       "    </tr>\n",
       "    <tr>\n",
       "      <th>2</th>\n",
       "      <td>Kapaa</td>\n",
       "      <td>22.0752</td>\n",
       "      <td>-159.3190</td>\n",
       "      <td>78.80</td>\n",
       "      <td>57</td>\n",
       "      <td>20</td>\n",
       "      <td>16.11</td>\n",
       "      <td>US</td>\n",
       "      <td>1618453749</td>\n",
       "    </tr>\n",
       "    <tr>\n",
       "      <th>3</th>\n",
       "      <td>Mataura</td>\n",
       "      <td>-46.1927</td>\n",
       "      <td>168.8643</td>\n",
       "      <td>62.01</td>\n",
       "      <td>73</td>\n",
       "      <td>38</td>\n",
       "      <td>5.99</td>\n",
       "      <td>NZ</td>\n",
       "      <td>1618453750</td>\n",
       "    </tr>\n",
       "    <tr>\n",
       "      <th>4</th>\n",
       "      <td>Coquimbo</td>\n",
       "      <td>-29.9533</td>\n",
       "      <td>-71.3436</td>\n",
       "      <td>59.00</td>\n",
       "      <td>88</td>\n",
       "      <td>90</td>\n",
       "      <td>1.14</td>\n",
       "      <td>CL</td>\n",
       "      <td>1618453463</td>\n",
       "    </tr>\n",
       "    <tr>\n",
       "      <th>...</th>\n",
       "      <td>...</td>\n",
       "      <td>...</td>\n",
       "      <td>...</td>\n",
       "      <td>...</td>\n",
       "      <td>...</td>\n",
       "      <td>...</td>\n",
       "      <td>...</td>\n",
       "      <td>...</td>\n",
       "      <td>...</td>\n",
       "    </tr>\n",
       "    <tr>\n",
       "      <th>533</th>\n",
       "      <td>Hualmay</td>\n",
       "      <td>-11.0964</td>\n",
       "      <td>-77.6139</td>\n",
       "      <td>66.56</td>\n",
       "      <td>85</td>\n",
       "      <td>86</td>\n",
       "      <td>7.09</td>\n",
       "      <td>PE</td>\n",
       "      <td>1618453972</td>\n",
       "    </tr>\n",
       "    <tr>\n",
       "      <th>534</th>\n",
       "      <td>Esmeraldas</td>\n",
       "      <td>-19.7625</td>\n",
       "      <td>-44.3139</td>\n",
       "      <td>68.00</td>\n",
       "      <td>68</td>\n",
       "      <td>0</td>\n",
       "      <td>11.50</td>\n",
       "      <td>BR</td>\n",
       "      <td>1618453840</td>\n",
       "    </tr>\n",
       "    <tr>\n",
       "      <th>535</th>\n",
       "      <td>Gayéri</td>\n",
       "      <td>12.6497</td>\n",
       "      <td>0.4931</td>\n",
       "      <td>86.11</td>\n",
       "      <td>26</td>\n",
       "      <td>56</td>\n",
       "      <td>4.83</td>\n",
       "      <td>BF</td>\n",
       "      <td>1618453972</td>\n",
       "    </tr>\n",
       "    <tr>\n",
       "      <th>536</th>\n",
       "      <td>Pindi Bhattian</td>\n",
       "      <td>31.8978</td>\n",
       "      <td>73.2730</td>\n",
       "      <td>82.72</td>\n",
       "      <td>29</td>\n",
       "      <td>93</td>\n",
       "      <td>10.13</td>\n",
       "      <td>PK</td>\n",
       "      <td>1618453972</td>\n",
       "    </tr>\n",
       "    <tr>\n",
       "      <th>537</th>\n",
       "      <td>Searcy</td>\n",
       "      <td>35.2506</td>\n",
       "      <td>-91.7363</td>\n",
       "      <td>53.60</td>\n",
       "      <td>87</td>\n",
       "      <td>1</td>\n",
       "      <td>2.01</td>\n",
       "      <td>US</td>\n",
       "      <td>1618453973</td>\n",
       "    </tr>\n",
       "  </tbody>\n",
       "</table>\n",
       "<p>536 rows × 9 columns</p>\n",
       "</div>"
      ],
      "text/plain": [
       "               City      Lat       Lng  Max Temp  Humidity  Cloudiness  \\\n",
       "0      Punta Arenas -53.1500  -70.9167     39.20        87           0   \n",
       "1         Fairbanks  64.8378 -147.7164     46.40        56          90   \n",
       "2             Kapaa  22.0752 -159.3190     78.80        57          20   \n",
       "3           Mataura -46.1927  168.8643     62.01        73          38   \n",
       "4          Coquimbo -29.9533  -71.3436     59.00        88          90   \n",
       "..              ...      ...       ...       ...       ...         ...   \n",
       "533         Hualmay -11.0964  -77.6139     66.56        85          86   \n",
       "534      Esmeraldas -19.7625  -44.3139     68.00        68           0   \n",
       "535          Gayéri  12.6497    0.4931     86.11        26          56   \n",
       "536  Pindi Bhattian  31.8978   73.2730     82.72        29          93   \n",
       "537          Searcy  35.2506  -91.7363     53.60        87           1   \n",
       "\n",
       "     Wind Speed Country        Date  \n",
       "0         10.36      CL  1618453749  \n",
       "1          6.91      US  1618453479  \n",
       "2         16.11      US  1618453749  \n",
       "3          5.99      NZ  1618453750  \n",
       "4          1.14      CL  1618453463  \n",
       "..          ...     ...         ...  \n",
       "533        7.09      PE  1618453972  \n",
       "534       11.50      BR  1618453840  \n",
       "535        4.83      BF  1618453972  \n",
       "536       10.13      PK  1618453972  \n",
       "537        2.01      US  1618453973  \n",
       "\n",
       "[536 rows x 9 columns]"
      ]
     },
     "execution_count": 362,
     "metadata": {},
     "output_type": "execute_result"
    }
   ],
   "source": [
    "no_outliers_df = table_results_df[(table_results_df.Humidity > lower_bound) & (table_results_df.Humidity < upper_bound)]\n",
    "no_outliers_df"
   ]
  },
  {
   "cell_type": "markdown",
   "metadata": {},
   "source": [
    "## Plotting the Data\n",
    "* Use proper labeling of the plots using plot titles (including date of analysis) and axes labels.\n",
    "* Save the plotted figures as .pngs."
   ]
  },
  {
   "cell_type": "markdown",
   "metadata": {},
   "source": [
    "## Latitude vs. Temperature Plot"
   ]
  },
  {
   "cell_type": "code",
   "execution_count": 447,
   "metadata": {},
   "outputs": [
    {
     "data": {
      "image/png": "[encoded data removed]",
      "text/plain": [
       "<Figure size 432x288 with 1 Axes>"
      ]
     },
     "metadata": {
      "needs_background": "light"
     },
     "output_type": "display_data"
    }
   ],
   "source": [
    "plt.scatter(table_results_df.Lat, table_results_df[\"Max Temp\"], marker=\"o\", color=\"steelblue\") #4472C4\n",
    "plt.title(\"City Latitude vs. Max Tempature (04/14/2021)\")\n",
    "plt.xlabel(\"Latitude\")\n",
    "plt.ylabel(\"Max Temperature (F)\")\n",
    "plt.grid(True)\n",
    "\n",
    "# Save the figure\n",
    "plt.savefig(\"Latitude_Weather.png\")\n",
    "plt.show()"
   ]
  },
  {
   "cell_type": "markdown",
   "metadata": {},
   "source": [
    "## Latitude vs. Temperature Analytics\n",
    "Shows strong, non-linear correlation between latitude and max tempatures. \n",
    "Cities with latitudes between -20 & 20 have the hottest weather, these cities are closest to the equator. "
   ]
  },
  {
   "cell_type": "markdown",
   "metadata": {},
   "source": [
    "## Latitude vs. Humidity Plot"
   ]
  },
  {
   "cell_type": "code",
   "execution_count": 448,
   "metadata": {},
   "outputs": [
    {
     "data": {
      "image/png": "[encoded data removed]",
      "text/plain": [
       "<Figure size 432x288 with 1 Axes>"
      ]
     },
     "metadata": {
      "needs_background": "light"
     },
     "output_type": "display_data"
    }
   ],
   "source": [
    "plt.scatter(table_results_df.Lat, table_results_df.Humidity, marker=\"o\", color=\"r\")\n",
    "plt.title(\"City Latitude vs. Humidity (04/14/2021)\")\n",
    "plt.xlabel(\"Latitude\")\n",
    "plt.ylabel(\"Humidity (%)\")\n",
    "plt.grid(True)\n",
    "\n",
    "# Save the figure\n",
    "plt.savefig(\"Latitude_Humidity.png\")\n",
    "plt.show()"
   ]
  },
  {
   "cell_type": "markdown",
   "metadata": {},
   "source": [
    "## Latitude vs. Humidity Analytics\n",
    "Shows no correlation between latitude and humidity %. \n",
    "Cities all over the globe can have high or low humidity regardless of latitude "
   ]
  },
  {
   "cell_type": "markdown",
   "metadata": {},
   "source": [
    "## Latitude vs. Cloudiness Plot"
   ]
  },
  {
   "cell_type": "code",
   "execution_count": 449,
   "metadata": {},
   "outputs": [
    {
     "data": {
      "image/png": "[encoded data removed]",
      "text/plain": [
       "<Figure size 432x288 with 1 Axes>"
      ]
     },
     "metadata": {
      "needs_background": "light"
     },
     "output_type": "display_data"
    }
   ],
   "source": [
    "plt.scatter(table_results_df.Lat, table_results_df.Cloudiness, marker=\"o\", color=\"dimgray\")\n",
    "plt.title(\"City Latitude vs. Cloudiness (04/14/2021)\")\n",
    "plt.xlabel(\"Latitude\")\n",
    "plt.ylabel(\"Cloudiness (%)\")\n",
    "plt.grid(True)\n",
    "\n",
    "# Save the figure\n",
    "plt.savefig(\"Latitude_Cloud.png\")\n",
    "plt.show()"
   ]
  },
  {
   "cell_type": "markdown",
   "metadata": {},
   "source": [
    "## Latitude vs. Cloudiness Analytics\n",
    "Shows no correlation between latitude and cloudiness %. Cities all over the globe can have high or low cloudiness regardless of latitude. "
   ]
  },
  {
   "cell_type": "markdown",
   "metadata": {},
   "source": [
    "## Latitude vs. Wind Speed Plot"
   ]
  },
  {
   "cell_type": "code",
   "execution_count": 450,
   "metadata": {
    "scrolled": true
   },
   "outputs": [
    {
     "data": {
      "image/png": "[encoded data removed]",
      "text/plain": [
       "<Figure size 432x288 with 1 Axes>"
      ]
     },
     "metadata": {
      "needs_background": "light"
     },
     "output_type": "display_data"
    }
   ],
   "source": [
    "plt.scatter(table_results_df.Lat, table_results_df[\"Wind Speed\"], marker=\"o\", color=\"deepskyblue\")\n",
    "plt.title(\"City Latitude vs. Wind Speed (04/14/2021)\")\n",
    "plt.xlabel(\"Latitude\")\n",
    "plt.ylabel(\"Wind Speed (mph)\")\n",
    "plt.grid(True)\n",
    "\n",
    "# Save the figure\n",
    "plt.savefig(\"Latitude_wind.png\")\n",
    "plt.show()"
   ]
  },
  {
   "cell_type": "markdown",
   "metadata": {},
   "source": [
    "## Latitude vs. Wind Speed Analytics\n",
    "There is no correlation between latitude and wind speed. Cities all over the globe can have high or low wind speed regardless of latitude."
   ]
  },
  {
   "cell_type": "markdown",
   "metadata": {},
   "source": [
    "## Linear Regression"
   ]
  },
  {
   "cell_type": "markdown",
   "metadata": {},
   "source": [
    "####  Northern Hemisphere - Max Temp vs. Latitude Linear Regression"
   ]
  },
  {
   "cell_type": "code",
   "execution_count": 406,
   "metadata": {},
   "outputs": [
    {
     "name": "stdout",
     "output_type": "stream",
     "text": [
      "The correlation between latitude and max temp is -0.9\n"
     ]
    }
   ],
   "source": [
    "north_df = table_results_df[table_results_df.Lat >= 0]\n",
    "north_df\n",
    "correlation = round(stats.pearsonr(north_df.Lat,north_df[\"Max Temp\"])[0],2)\n",
    "print(f\"The correlation between latitude and max temp is {correlation}\")"
   ]
  },
  {
   "cell_type": "code",
   "execution_count": 407,
   "metadata": {},
   "outputs": [
    {
     "name": "stdout",
     "output_type": "stream",
     "text": [
      "Slope = -1.0287968289196485\n",
      "Intercept = 93.76927056377221\n",
      "Regress Value = -0.8979366614988007\n",
      "Pvalue = 1.1831197176588629e-134\n",
      "Standard Deviation = 0.026144972293560362\n"
     ]
    }
   ],
   "source": [
    "slope, intercept, rvalue, pvalue, std_err = stats.linregress(north_df.Lat,north_df[\"Max Temp\"])\n",
    "\n",
    "print(f\"Slope = {slope}\")\n",
    "print(f\"Intercept = {intercept}\")\n",
    "print(f\"Regress Value = {rvalue}\")\n",
    "print(f\"Pvalue = {pvalue}\")\n",
    "print(f\"Standard Deviation = {std_err}\")"
   ]
  },
  {
   "cell_type": "code",
   "execution_count": 408,
   "metadata": {},
   "outputs": [
    {
     "name": "stdout",
     "output_type": "stream",
     "text": [
      "The r-squared is: 0.8062902480636118\n"
     ]
    },
    {
     "data": {
      "image/png": "[encoded data removed]",
      "text/plain": [
       "<Figure size 432x288 with 1 Axes>"
      ]
     },
     "metadata": {
      "needs_background": "light"
     },
     "output_type": "display_data"
    }
   ],
   "source": [
    "# equation of line to calculate predicted weight\n",
    "fit = slope * north_df.Lat + intercept\n",
    "# Plot the linear model on top of scatter plot \n",
    "line_eq = \"y = \" + str(round(slope,2)) + \"x + \" + str(round(intercept,2))\n",
    "plt.scatter(north_df.Lat, north_df[\"Max Temp\"])\n",
    "plt.plot(north_df.Lat,fit, \"r-\")\n",
    "plt.title('Northern Hemisphere - Max Temp vs. Latitude Linear Regression')\n",
    "plt.annotate(line_eq,(2,2), fontsize=15, color=\"red\")\n",
    "plt.xlabel('Latitude')\n",
    "plt.ylabel('Max Temp (F)')\n",
    "print(f\"The r-squared is: {rvalue**2}\")\n",
    "plt.savefig(\"north_max_temp.png\")\n",
    "plt.show()"
   ]
  },
  {
   "cell_type": "markdown",
   "metadata": {},
   "source": [
    "## North Max Temp Analytics\n",
    "XX"
   ]
  },
  {
   "cell_type": "code",
   "execution_count": 385,
   "metadata": {},
   "outputs": [],
   "source": [
    "#regression(north_df.Lat,nort_df[\"Max Temp\"])\n",
    "#def regression(north_df.Lat, nort_df[\"Max Temp\"]):\n",
    "    #(slope, intercept, rvalue, pvalue, stderr) = linregress(north_df.Lat,nort_df[\"Max Temp\"])\n",
    "    #regress_values = north_df.Lat * slope + intercept\n",
    "    #line_eq = \"y = \" + str(round(slope,2)) + \"x + \" + str(round(intercept,2))\n",
    "    #plt.plot(north_df.Lat,nort_df[\"Max Temp\"],\"r-\")\n",
    "    #plt.scatter(north_df.Lat,nort_df[\"Max Temp\"])\n",
    "    \n"
   ]
  },
  {
   "cell_type": "markdown",
   "metadata": {},
   "source": [
    "####  Southern Hemisphere - Max Temp vs. Latitude Linear Regression"
   ]
  },
  {
   "cell_type": "code",
   "execution_count": 409,
   "metadata": {},
   "outputs": [
    {
     "name": "stdout",
     "output_type": "stream",
     "text": [
      "The correlation between latitude and max temp is 0.63\n"
     ]
    }
   ],
   "source": [
    "south_df = table_results_df[table_results_df.Lat <= 0]\n",
    "south_df\n",
    "correlation = round(stats.pearsonr(south_df.Lat,south_df[\"Max Temp\"])[0],2)\n",
    "print(f\"The correlation between latitude and max temp is {correlation}\")"
   ]
  },
  {
   "cell_type": "code",
   "execution_count": 410,
   "metadata": {},
   "outputs": [
    {
     "name": "stdout",
     "output_type": "stream",
     "text": [
      "Slope = 0.4784423453221438\n",
      "Intercept = 81.0555918483034\n",
      "Regress Value = 0.6323039756625369\n",
      "Pvalue = 1.0794058828490426e-19\n",
      "Standard Deviation = 0.046056526074154766\n"
     ]
    }
   ],
   "source": [
    "slope, intercept, rvalue, pvalue, std_err = stats.linregress(south_df.Lat,south_df[\"Max Temp\"])\n",
    "\n",
    "print(f\"Slope = {slope}\")\n",
    "print(f\"Intercept = {intercept}\")\n",
    "print(f\"Regress Value = {rvalue}\")\n",
    "print(f\"Pvalue = {pvalue}\")\n",
    "print(f\"Standard Deviation = {std_err}\")"
   ]
  },
  {
   "cell_type": "code",
   "execution_count": 411,
   "metadata": {},
   "outputs": [
    {
     "name": "stdout",
     "output_type": "stream",
     "text": [
      "The r-squared is: 0.3998083176386501\n"
     ]
    },
    {
     "data": {
      "image/png": "[encoded data removed]",
      "text/plain": [
       "<Figure size 432x288 with 1 Axes>"
      ]
     },
     "metadata": {
      "needs_background": "light"
     },
     "output_type": "display_data"
    }
   ],
   "source": [
    "# equation of line to calculate predicted weight\n",
    "fit = slope * south_df.Lat + intercept\n",
    "# Plot the linear model on top of scatter plot \n",
    "line_eq = \"y = \" + str(round(slope,2)) + \"x + \" + str(round(intercept,2))\n",
    "plt.scatter(south_df.Lat, south_df[\"Max Temp\"])\n",
    "plt.plot(south_df.Lat,fit, \"r-\")\n",
    "plt.title('Southern Hemisphere - Max Temp vs. Latitude Linear Regression')\n",
    "plt.annotate(line_eq,(-55,80), fontsize=15, color=\"red\")\n",
    "plt.xlabel('Latitude')\n",
    "plt.ylabel('Max Temp (F)')\n",
    "print(f\"The r-squared is: {rvalue**2}\")\n",
    "plt.savefig(\"south_max_temp.png\")\n",
    "plt.show()"
   ]
  },
  {
   "cell_type": "markdown",
   "metadata": {},
   "source": [
    "## South Max Temp Analytics\n",
    "XX"
   ]
  },
  {
   "cell_type": "markdown",
   "metadata": {},
   "source": [
    "####  Northern Hemisphere - Humidity (%) vs. Latitude Linear Regression"
   ]
  },
  {
   "cell_type": "code",
   "execution_count": 412,
   "metadata": {},
   "outputs": [
    {
     "name": "stdout",
     "output_type": "stream",
     "text": [
      "The correlation between latitude and humidity is 0.24\n"
     ]
    }
   ],
   "source": [
    "correlation = round(stats.pearsonr(north_df.Lat, north_df.Humidity)[0],2)\n",
    "print(f\"The correlation between latitude and humidity is {correlation}\")"
   ]
  },
  {
   "cell_type": "code",
   "execution_count": 413,
   "metadata": {},
   "outputs": [
    {
     "name": "stdout",
     "output_type": "stream",
     "text": [
      "Slope = 0.3022049628441326\n",
      "Intercept = 52.98648399888883\n",
      "Regress Value = 0.23979864302609294\n",
      "Pvalue = 2.7243830582544185e-06\n",
      "Standard Deviation = 0.06343417552291108\n"
     ]
    }
   ],
   "source": [
    "slope, intercept, rvalue, pvalue, std_err = stats.linregress(north_df.Lat,north_df.Humidity)\n",
    "\n",
    "print(f\"Slope = {slope}\")\n",
    "print(f\"Intercept = {intercept}\")\n",
    "print(f\"Regress Value = {rvalue}\")\n",
    "print(f\"Pvalue = {pvalue}\")\n",
    "print(f\"Standard Deviation = {std_err}\")"
   ]
  },
  {
   "cell_type": "code",
   "execution_count": 414,
   "metadata": {},
   "outputs": [
    {
     "name": "stdout",
     "output_type": "stream",
     "text": [
      "The r-squared is: 0.05750338919715555\n"
     ]
    },
    {
     "data": {
      "image/png": "[encoded data removed]",
      "text/plain": [
       "<Figure size 432x288 with 1 Axes>"
      ]
     },
     "metadata": {
      "needs_background": "light"
     },
     "output_type": "display_data"
    }
   ],
   "source": [
    "# equation of line to calculate predicted weight\n",
    "fit = slope * north_df.Lat + intercept\n",
    "# Plot the linear model on top of scatter plot \n",
    "line_eq = \"y = \" + str(round(slope,2)) + \"x + \" + str(round(intercept,2))\n",
    "plt.scatter(north_df.Lat, north_df.Humidity)\n",
    "plt.plot(north_df.Lat,fit, \"r-\")\n",
    "plt.title('Northern Hemisphere - Humidity vs. Latitude Linear Regression')\n",
    "plt.annotate(line_eq,(45,5), fontsize=15, color=\"red\")\n",
    "plt.xlabel('Latitude')\n",
    "plt.ylabel('Humidity (%)')\n",
    "print(f\"The r-squared is: {rvalue**2}\")\n",
    "plt.savefig(\"north_humid.png\")\n",
    "plt.show()"
   ]
  },
  {
   "cell_type": "markdown",
   "metadata": {},
   "source": [
    "## North Humidity Analytics\n",
    "XX"
   ]
  },
  {
   "cell_type": "markdown",
   "metadata": {},
   "source": [
    "####  Southern Hemisphere - Humidity (%) vs. Latitude Linear Regression"
   ]
  },
  {
   "cell_type": "code",
   "execution_count": 415,
   "metadata": {},
   "outputs": [
    {
     "name": "stdout",
     "output_type": "stream",
     "text": [
      "The correlation between latitude and humidity is 0.23\n"
     ]
    }
   ],
   "source": [
    "correlation = round(stats.pearsonr(south_df.Lat, south_df.Humidity)[0],2)\n",
    "print(f\"The correlation between latitude and humidity is {correlation}\")"
   ]
  },
  {
   "cell_type": "code",
   "execution_count": 416,
   "metadata": {},
   "outputs": [
    {
     "name": "stdout",
     "output_type": "stream",
     "text": [
      "Slope = 0.3128799760713196\n",
      "Intercept = 81.33712559545225\n",
      "Regress Value = 0.22983925768330454\n",
      "Pvalue = 0.0030703541303243667\n",
      "Standard Deviation = 0.1040904573762244\n"
     ]
    }
   ],
   "source": [
    "slope, intercept, rvalue, pvalue, std_err = stats.linregress(south_df.Lat, south_df.Humidity)\n",
    "\n",
    "print(f\"Slope = {slope}\")\n",
    "print(f\"Intercept = {intercept}\")\n",
    "print(f\"Regress Value = {rvalue}\")\n",
    "print(f\"Pvalue = {pvalue}\")\n",
    "print(f\"Standard Deviation = {std_err}\")"
   ]
  },
  {
   "cell_type": "code",
   "execution_count": 417,
   "metadata": {},
   "outputs": [
    {
     "name": "stdout",
     "output_type": "stream",
     "text": [
      "The r-squared is: 0.052826084372412464\n"
     ]
    },
    {
     "data": {
      "image/png": "[encoded data removed]",
      "text/plain": [
       "<Figure size 432x288 with 1 Axes>"
      ]
     },
     "metadata": {
      "needs_background": "light"
     },
     "output_type": "display_data"
    }
   ],
   "source": [
    "# equation of line to calculate predicted weight\n",
    "fit = slope * south_df.Lat + intercept\n",
    "# Plot the linear model on top of scatter plot \n",
    "line_eq = \"y = \" + str(round(slope,2)) + \"x + \" + str(round(intercept,2))\n",
    "plt.scatter(south_df.Lat, south_df.Humidity)\n",
    "plt.plot(south_df.Lat,fit, \"r-\")\n",
    "plt.title('Southern Hemisphere - Humidity vs. Latitude Linear Regression')\n",
    "plt.annotate(line_eq,(-55,25), fontsize=15, color=\"red\")\n",
    "plt.xlabel('Latitude')\n",
    "plt.ylabel('Humidity (%)')\n",
    "print(f\"The r-squared is: {rvalue**2}\")\n",
    "plt.savefig(\"south_humid.png\")\n",
    "plt.show()"
   ]
  },
  {
   "cell_type": "markdown",
   "metadata": {},
   "source": [
    "## South Humidity Analytics\n",
    "XX"
   ]
  },
  {
   "cell_type": "markdown",
   "metadata": {},
   "source": [
    "####  Northern Hemisphere - Cloudiness (%) vs. Latitude Linear Regression"
   ]
  },
  {
   "cell_type": "code",
   "execution_count": 422,
   "metadata": {},
   "outputs": [
    {
     "name": "stdout",
     "output_type": "stream",
     "text": [
      "The correlation between latitude and humidity is 0.05\n"
     ]
    }
   ],
   "source": [
    "correlation = round(stats.pearsonr(north_df.Lat, north_df.Cloudiness)[0],2)\n",
    "print(f\"The correlation between latitude and humidity is {correlation}\")"
   ]
  },
  {
   "cell_type": "code",
   "execution_count": 423,
   "metadata": {},
   "outputs": [
    {
     "name": "stdout",
     "output_type": "stream",
     "text": [
      "Slope = 0.09757690069204276\n",
      "Intercept = 48.112329229287894\n",
      "Regress Value = 0.04896548664338679\n",
      "Pvalue = 0.34499378537676006\n",
      "Standard Deviation = 0.1031963206101318\n"
     ]
    }
   ],
   "source": [
    "slope, intercept, rvalue, pvalue, std_err = stats.linregress(north_df.Lat,north_df.Cloudiness)\n",
    "\n",
    "print(f\"Slope = {slope}\")\n",
    "print(f\"Intercept = {intercept}\")\n",
    "print(f\"Regress Value = {rvalue}\")\n",
    "print(f\"Pvalue = {pvalue}\")\n",
    "print(f\"Standard Deviation = {std_err}\")"
   ]
  },
  {
   "cell_type": "code",
   "execution_count": 424,
   "metadata": {},
   "outputs": [
    {
     "name": "stdout",
     "output_type": "stream",
     "text": [
      "The r-squared is: 0.00239761888222369\n"
     ]
    },
    {
     "data": {
      "image/png": "[encoded data removed]",
      "text/plain": [
       "<Figure size 432x288 with 1 Axes>"
      ]
     },
     "metadata": {
      "needs_background": "light"
     },
     "output_type": "display_data"
    }
   ],
   "source": [
    "# equation of line to calculate predicted weight\n",
    "fit = slope * north_df.Lat + intercept\n",
    "# Plot the linear model on top of scatter plot \n",
    "line_eq = \"y = \" + str(round(slope,2)) + \"x + \" + str(round(intercept,2))\n",
    "plt.scatter(north_df.Lat, north_df.Cloudiness)\n",
    "plt.plot(north_df.Lat,fit, \"r-\")\n",
    "plt.title('Northern Hemisphere - Cloudiness vs. Latitude Linear Regression')\n",
    "plt.annotate(line_eq,(45,5), fontsize=15, color=\"red\")\n",
    "plt.xlabel('Latitude')\n",
    "plt.ylabel('Cloudiness (%)')\n",
    "print(f\"The r-squared is: {rvalue**2}\")\n",
    "plt.savefig(\"north_cloud.png\")\n",
    "plt.show()"
   ]
  },
  {
   "cell_type": "markdown",
   "metadata": {},
   "source": [
    "## North Cloudiness Analytics\n",
    "XX"
   ]
  },
  {
   "cell_type": "markdown",
   "metadata": {},
   "source": [
    "####  Southern Hemisphere - Cloudiness (%) vs. Latitude Linear Regression"
   ]
  },
  {
   "cell_type": "code",
   "execution_count": 432,
   "metadata": {},
   "outputs": [
    {
     "name": "stdout",
     "output_type": "stream",
     "text": [
      "The correlation between latitude and humidity is 0.25\n"
     ]
    }
   ],
   "source": [
    "correlation = round(stats.pearsonr(south_df.Lat, south_df.Cloudiness)[0],2)\n",
    "print(f\"The correlation between latitude and humidity is {correlation}\")"
   ]
  },
  {
   "cell_type": "code",
   "execution_count": 433,
   "metadata": {},
   "outputs": [
    {
     "name": "stdout",
     "output_type": "stream",
     "text": [
      "Slope = 0.6904460424468315\n",
      "Intercept = 68.38404581413646\n",
      "Regress Value = 0.25084189426839715\n",
      "Pvalue = 0.0011964289554980355\n",
      "Standard Deviation = 0.2093438063273361\n"
     ]
    }
   ],
   "source": [
    "slope, intercept, rvalue, pvalue, std_err = stats.linregress(south_df.Lat,south_df.Cloudiness)\n",
    "\n",
    "print(f\"Slope = {slope}\")\n",
    "print(f\"Intercept = {intercept}\")\n",
    "print(f\"Regress Value = {rvalue}\")\n",
    "print(f\"Pvalue = {pvalue}\")\n",
    "print(f\"Standard Deviation = {std_err}\")"
   ]
  },
  {
   "cell_type": "code",
   "execution_count": 434,
   "metadata": {},
   "outputs": [
    {
     "name": "stdout",
     "output_type": "stream",
     "text": [
      "The r-squared is: 0.06292165592015773\n"
     ]
    },
    {
     "data": {
      "image/png": "[encoded data removed]",
      "text/plain": [
       "<Figure size 432x288 with 1 Axes>"
      ]
     },
     "metadata": {
      "needs_background": "light"
     },
     "output_type": "display_data"
    }
   ],
   "source": [
    "# equation of line to calculate predicted weight\n",
    "fit = slope * south_df.Lat + intercept\n",
    "# Plot the linear model on top of scatter plot \n",
    "line_eq = \"y = \" + str(round(slope,2)) + \"x + \" + str(round(intercept,2))\n",
    "plt.scatter(south_df.Lat, south_df.Cloudiness)\n",
    "plt.plot(south_df.Lat,fit, \"r-\")\n",
    "plt.title('Southern Hemisphere - Cloudiness vs. Latitude Linear Regression')\n",
    "plt.annotate(line_eq,(-55,60), fontsize=15, color=\"red\")\n",
    "plt.xlabel('Latitude')\n",
    "plt.ylabel('Cloudiness (%)')\n",
    "print(f\"The r-squared is: {rvalue**2}\")\n",
    "plt.savefig(\"south_cloud.png\")\n",
    "\n",
    "plt.show()"
   ]
  },
  {
   "cell_type": "markdown",
   "metadata": {},
   "source": [
    "## South Cloudiness Analytics\n",
    "XX"
   ]
  },
  {
   "cell_type": "markdown",
   "metadata": {},
   "source": [
    "####  Northern Hemisphere - Wind Speed (mph) vs. Latitude Linear Regression"
   ]
  },
  {
   "cell_type": "code",
   "execution_count": 441,
   "metadata": {},
   "outputs": [
    {
     "name": "stdout",
     "output_type": "stream",
     "text": [
      "The correlation between latitude and wind speed is 0.17\n"
     ]
    }
   ],
   "source": [
    "correlation = round(stats.pearsonr(north_df.Lat, north_df[\"Wind Speed\"])[0],2)\n",
    "print(f\"The correlation between latitude and wind speed is {correlation}\")"
   ]
  },
  {
   "cell_type": "code",
   "execution_count": 442,
   "metadata": {},
   "outputs": [
    {
     "name": "stdout",
     "output_type": "stream",
     "text": [
      "Slope = 0.05311554835960756\n",
      "Intercept = 6.2344313201467365\n",
      "Regress Value = 0.17306550953722644\n",
      "Pvalue = 0.0007762677857017561\n",
      "Standard Deviation = 0.015672430773180035\n"
     ]
    }
   ],
   "source": [
    "slope, intercept, rvalue, pvalue, std_err = stats.linregress(north_df.Lat,north_df[\"Wind Speed\"])\n",
    "\n",
    "print(f\"Slope = {slope}\")\n",
    "print(f\"Intercept = {intercept}\")\n",
    "print(f\"Regress Value = {rvalue}\")\n",
    "print(f\"Pvalue = {pvalue}\")\n",
    "print(f\"Standard Deviation = {std_err}\")"
   ]
  },
  {
   "cell_type": "code",
   "execution_count": 443,
   "metadata": {},
   "outputs": [
    {
     "name": "stdout",
     "output_type": "stream",
     "text": [
      "The r-squared is: 0.029951670591379813\n"
     ]
    },
    {
     "data": {
      "image/png": "[encoded data removed]",
      "text/plain": [
       "<Figure size 432x288 with 1 Axes>"
      ]
     },
     "metadata": {
      "needs_background": "light"
     },
     "output_type": "display_data"
    }
   ],
   "source": [
    "# equation of line to calculate predicted weight\n",
    "fit = slope * north_df.Lat + intercept\n",
    "# Plot the linear model on top of scatter plot \n",
    "line_eq = \"y = \" + str(round(slope,2)) + \"x + \" + str(round(intercept,2))\n",
    "plt.scatter(north_df.Lat, north_df[\"Wind Speed\"])\n",
    "plt.plot(north_df.Lat,fit, \"r-\")\n",
    "plt.title('Northern Hemisphere - Wind Speed vs. Latitude Linear Regression')\n",
    "plt.annotate(line_eq,(5,30), fontsize=15, color=\"red\")\n",
    "plt.xlabel('Latitude')\n",
    "plt.ylabel('Wind Speed (mph)')\n",
    "print(f\"The r-squared is: {rvalue**2}\")\n",
    "plt.savefig(\"north_wind.png\")\n",
    "plt.show()"
   ]
  },
  {
   "cell_type": "markdown",
   "metadata": {},
   "source": [
    "## North Wind Speed Analytics\n",
    "XX"
   ]
  },
  {
   "cell_type": "markdown",
   "metadata": {},
   "source": [
    "####  Southern Hemisphere - Wind Speed (mph) vs. Latitude Linear Regression"
   ]
  },
  {
   "cell_type": "code",
   "execution_count": 444,
   "metadata": {},
   "outputs": [
    {
     "name": "stdout",
     "output_type": "stream",
     "text": [
      "The correlation between latitude and wind speed is -0.23\n"
     ]
    }
   ],
   "source": [
    "correlation = round(stats.pearsonr(south_df.Lat, south_df[\"Wind Speed\"])[0],2)\n",
    "print(f\"The correlation between latitude and wind speed is {correlation}\")"
   ]
  },
  {
   "cell_type": "code",
   "execution_count": 445,
   "metadata": {},
   "outputs": [
    {
     "name": "stdout",
     "output_type": "stream",
     "text": [
      "Slope = -0.08363214851396153\n",
      "Intercept = 4.954917996534512\n",
      "Regress Value = -0.22845146154943963\n",
      "Pvalue = 0.003258483952118045\n",
      "Standard Deviation = 0.028001573275766328\n"
     ]
    }
   ],
   "source": [
    "slope, intercept, rvalue, pvalue, std_err = stats.linregress(south_df.Lat,south_df[\"Wind Speed\"])\n",
    "\n",
    "print(f\"Slope = {slope}\")\n",
    "print(f\"Intercept = {intercept}\")\n",
    "print(f\"Regress Value = {rvalue}\")\n",
    "print(f\"Pvalue = {pvalue}\")\n",
    "print(f\"Standard Deviation = {std_err}\")"
   ]
  },
  {
   "cell_type": "code",
   "execution_count": 446,
   "metadata": {},
   "outputs": [
    {
     "name": "stdout",
     "output_type": "stream",
     "text": [
      "The r-squared is: 0.052190070284075095\n"
     ]
    },
    {
     "data": {
      "image/png": "[encoded data removed]",
      "text/plain": [
       "<Figure size 432x288 with 1 Axes>"
      ]
     },
     "metadata": {
      "needs_background": "light"
     },
     "output_type": "display_data"
    }
   ],
   "source": [
    "# equation of line to calculate predicted weight\n",
    "fit = slope * south_df.Lat + intercept\n",
    "# Plot the linear model on top of scatter plot \n",
    "line_eq = \"y = \" + str(round(slope,2)) + \"x + \" + str(round(intercept,2))\n",
    "plt.scatter(south_df.Lat, south_df[\"Wind Speed\"])\n",
    "plt.plot(south_df.Lat,fit, \"r-\")\n",
    "plt.title('Southern Hemisphere - Wind Speed vs. Latitude Linear Regression')\n",
    "plt.annotate(line_eq,(-55,23), fontsize=15, color=\"red\")\n",
    "plt.xlabel('Latitude')\n",
    "plt.ylabel('Wind Speed (mph)')\n",
    "print(f\"The r-squared is: {rvalue**2}\")\n",
    "plt.savefig(\"south_wind.png\")\n",
    "plt.show()"
   ]
  },
  {
   "cell_type": "markdown",
   "metadata": {},
   "source": [
    "## South Wind Speed Analytics\n",
    "XX"
   ]
  },
  {
   "cell_type": "code",
   "execution_count": null,
   "metadata": {},
   "outputs": [],
   "source": []
  }
 ],
 "metadata": {
  "anaconda-cloud": {},
  "kernel_info": {
   "name": "python3"
  },
  "kernelspec": {
   "display_name": "Python 3",
   "language": "python",
   "name": "python3"
  },
  "language_info": {
   "codemirror_mode": {
    "name": "ipython",
    "version": 3
   },
   "file_extension": ".py",
   "mimetype": "text/x-python",
   "name": "python",
   "nbconvert_exporter": "python",
   "pygments_lexer": "ipython3",
   "version": "3.8.5"
  },
  "latex_envs": {
   "LaTeX_envs_menu_present": true,
   "autoclose": false,
   "autocomplete": true,
   "bibliofile": "biblio.bib",
   "cite_by": "apalike",
   "current_citInitial": 1,
   "eqLabelWithNumbers": true,
   "eqNumInitial": 1,
   "hotkeys": {
    "equation": "Ctrl-E",
    "itemize": "Ctrl-I"
   },
   "labels_anchors": false,
   "latex_user_defs": false,
   "report_style_numbering": false,
   "user_envs_cfg": false
  },
  "nteract": {
   "version": "0.12.3"
  }
 },
 "nbformat": 4,
 "nbformat_minor": 2
}
